{
 "cells": [
  {
   "cell_type": "code",
   "execution_count": 31,
   "metadata": {},
   "outputs": [
    {
     "name": "stdout",
     "output_type": "stream",
     "text": [
      "Automatically created module for IPython interactive environment\n"
     ]
    }
   ],
   "source": [
    "print(__doc__)\n",
    "import numpy as np\n",
    "import pandas as pd\n",
    "import matplotlib.pyplot as plt\n",
    "import sklearn\n",
    "from sklearn.model_selection import train_test_split\n",
    "from sklearn.datasets import load_breast_cancer\n",
    "from sklearn.tree import DecisionTreeClassifier\n",
    "from sklearn import metrics"
   ]
  },
  {
   "cell_type": "code",
   "execution_count": 32,
   "metadata": {},
   "outputs": [],
   "source": [
    "import pickle\n",
    "with open('saved_variables/X_y_train_test.pickle', 'rb') as open_pickle_file:\n",
    "    X_train, X_test, y_train, y_test = pickle.load(open_pickle_file)"
   ]
  },
  {
   "cell_type": "code",
   "execution_count": 70,
   "metadata": {},
   "outputs": [
    {
     "name": "stdout",
     "output_type": "stream",
     "text": [
      "[0.  0.1 0.2 0.3 0.4 0.5 0.6 0.7 0.8 0.9]\n",
      "[ 1  3  5  7  9 11 13 15 17 19 21 23 25 27 29]\n",
      "[ 2  4  6  8 10 12 14 16 18 20 22 24 26 28 30 32 34 36 38 40 42 44 46 48\n",
      " 50 52 54 56 58]\n",
      "[0.   0.05 0.1  0.15 0.2  0.25 0.3  0.35 0.4  0.45]\n"
     ]
    }
   ],
   "source": [
    "#cp_alpha_list = np.arange(.000,.035,.002)\n",
    "#rint(ccp_alpha_list)\n",
    "#rint(len(ccp_alpha_list))\n",
    "\n",
    "min_impurity_decrease_list = np.arange(0,1,.1)\n",
    "\n",
    "#mean impuirty split messes up model with alteration\n",
    "\n",
    "min_samples_leaf_list = np.arange(1,30,2)\n",
    "min_samples_split_list = np.arange(2,60,2)\n",
    "min_weight_fraction_leaf_list = np.arange(0.0, .5, .05)\n",
    "\n",
    "print(min_impurity_decrease_list)\n",
    "print(min_samples_leaf_list)\n",
    "print(min_samples_split_list)\n",
    "print(min_weight_fraction_leaf_list)"
   ]
  },
  {
   "cell_type": "code",
   "execution_count": 92,
   "metadata": {},
   "outputs": [
    {
     "data": {
      "text/plain": [
       "174000"
      ]
     },
     "execution_count": 92,
     "metadata": {},
     "output_type": "execute_result"
    }
   ],
   "source": [
    "import itertools\n",
    "def expand_grid(dct):\n",
    "    rows = itertools.product(*dct.values())\n",
    "    return pd.DataFrame.from_records(rows, columns=dct.keys())\n",
    "\n",
    "\n",
    "df = expand_grid(\n",
    "    {'min_impurity_decrease': min_impurity_decrease_list,\n",
    "     'min_samples_leaf_list': min_samples_leaf_list,\n",
    "     'min_samples_split_list': min_samples_split_list,\n",
    "    'min_weight_fraction_leaf_list': min_weight_fraction_leaf_list})\n",
    "df.size"
   ]
  },
  {
   "cell_type": "code",
   "execution_count": null,
   "metadata": {},
   "outputs": [],
   "source": [
    "\n",
    "\n",
    "\n",
    "\n",
    "\n",
    "\n",
    "for \n",
    "\n",
    "\n",
    "\n",
    "DecisionTreeClassifier(criterion='gini', max_depth=None, max_features=None, max_leaf_nodes=None, random_state=0, splitter='best',\n",
    "                       ccp_alpha=0.0,\n",
    "                       class_weight=None,\n",
    "                       min_impurity_decrease=0.0,\n",
    "                       min_impurity_split=None,\n",
    "                       min_samples_leaf=1,\n",
    "                       min_samples_split=2,\n",
    "                       min_weight_fraction_leaf=0.0, \n",
    "                       presort='deprecated')"
   ]
  },
  {
   "cell_type": "code",
   "execution_count": 50,
   "metadata": {},
   "outputs": [
    {
     "data": {
      "text/plain": [
       "DecisionTreeClassifier(ccp_alpha=0.0, class_weight=None, criterion='gini',\n",
       "                       max_depth=None, max_features=None, max_leaf_nodes=None,\n",
       "                       min_impurity_decrease=0.0, min_impurity_split=None,\n",
       "                       min_samples_leaf=1, min_samples_split=2,\n",
       "                       min_weight_fraction_leaf=0.0, presort='deprecated',\n",
       "                       random_state=0, splitter='best')"
      ]
     },
     "execution_count": 50,
     "metadata": {},
     "output_type": "execute_result"
    }
   ],
   "source": [
    "#testing tree\n",
    "clf = DecisionTreeClassifier(criterion='gini', max_depth=None, max_features=None, max_leaf_nodes=None, random_state=0, splitter='best',\n",
    "                       ccp_alpha=0.0,\n",
    "                       class_weight=None,\n",
    "                       min_impurity_decrease=0.0,\n",
    "                       min_impurity_split=None,\n",
    "                       min_samples_leaf=1,\n",
    "                       min_samples_split=2,\n",
    "                       min_weight_fraction_leaf=0.0, \n",
    "                       presort='deprecated')\n",
    "clf.fit(X_train, y_train)"
   ]
  },
  {
   "cell_type": "code",
   "execution_count": 54,
   "metadata": {},
   "outputs": [
    {
     "ename": "NameError",
     "evalue": "name 'clfs' is not defined",
     "output_type": "error",
     "traceback": [
      "\u001b[1;31m---------------------------------------------------------------------------\u001b[0m",
      "\u001b[1;31mNameError\u001b[0m                                 Traceback (most recent call last)",
      "\u001b[1;32m<ipython-input-54-db5747cf0960>\u001b[0m in \u001b[0;36m<module>\u001b[1;34m\u001b[0m\n\u001b[0;32m      1\u001b[0m \u001b[1;31m#train_scores = [clf.score(X_train, y_train) for clf in clfs]\u001b[0m\u001b[1;33m\u001b[0m\u001b[1;33m\u001b[0m\u001b[1;33m\u001b[0m\u001b[0m\n\u001b[1;32m----> 2\u001b[1;33m \u001b[0mtest_scores\u001b[0m \u001b[1;33m=\u001b[0m \u001b[1;33m[\u001b[0m\u001b[0mclf\u001b[0m\u001b[1;33m.\u001b[0m\u001b[0mscore\u001b[0m\u001b[1;33m(\u001b[0m\u001b[0mX_test\u001b[0m\u001b[1;33m,\u001b[0m \u001b[0my_test\u001b[0m\u001b[1;33m)\u001b[0m \u001b[1;32mfor\u001b[0m \u001b[0mclf\u001b[0m \u001b[1;32min\u001b[0m \u001b[0mclfs\u001b[0m\u001b[1;33m]\u001b[0m\u001b[1;33m\u001b[0m\u001b[1;33m\u001b[0m\u001b[0m\n\u001b[0m\u001b[0;32m      3\u001b[0m \u001b[1;31m#train_scoress = clf.score(X_train, y_train)\u001b[0m\u001b[1;33m\u001b[0m\u001b[1;33m\u001b[0m\u001b[1;33m\u001b[0m\u001b[0m\n\u001b[0;32m      4\u001b[0m \u001b[1;31m#test_scoress = clf.score(X_test, y_test)\u001b[0m\u001b[1;33m\u001b[0m\u001b[1;33m\u001b[0m\u001b[1;33m\u001b[0m\u001b[0m\n\u001b[0;32m      5\u001b[0m \u001b[0mprint\u001b[0m\u001b[1;33m(\u001b[0m\u001b[0mtrain_scoress\u001b[0m\u001b[1;33m)\u001b[0m\u001b[1;33m\u001b[0m\u001b[1;33m\u001b[0m\u001b[0m\n",
      "\u001b[1;31mNameError\u001b[0m: name 'clfs' is not defined"
     ]
    }
   ],
   "source": [
    "#train_scores = [clf.score(X_train, y_train) for clf in clfs]\n",
    "test_scores = [clf.score(X_test, y_test) for clf in clfs]\n",
    "#train_scoress = clf.score(X_train, y_train)\n",
    "#test_scoress = clf.score(X_test, y_test)\n",
    "print(train_scoress)\n",
    "print(test_scoress)"
   ]
  },
  {
   "cell_type": "code",
   "execution_count": 19,
   "metadata": {},
   "outputs": [
    {
     "ename": "SyntaxError",
     "evalue": "invalid syntax (<ipython-input-19-ad2bc9d0044c>, line 1)",
     "output_type": "error",
     "traceback": [
      "\u001b[1;36m  File \u001b[1;32m\"<ipython-input-19-ad2bc9d0044c>\"\u001b[1;36m, line \u001b[1;32m1\u001b[0m\n\u001b[1;33m    clf.score(X_train, y_train) for clf in clfs\u001b[0m\n\u001b[1;37m                                  ^\u001b[0m\n\u001b[1;31mSyntaxError\u001b[0m\u001b[1;31m:\u001b[0m invalid syntax\n"
     ]
    }
   ],
   "source": [
    "clf.score(X_train, y_train) for clf in clfs"
   ]
  },
  {
   "cell_type": "code",
   "execution_count": null,
   "metadata": {},
   "outputs": [],
   "source": []
  }
 ],
 "metadata": {
  "kernelspec": {
   "display_name": "Python 3",
   "language": "python",
   "name": "python3"
  },
  "language_info": {
   "codemirror_mode": {
    "name": "ipython",
    "version": 3
   },
   "file_extension": ".py",
   "mimetype": "text/x-python",
   "name": "python",
   "nbconvert_exporter": "python",
   "pygments_lexer": "ipython3",
   "version": "3.7.3"
  }
 },
 "nbformat": 4,
 "nbformat_minor": 2
}
