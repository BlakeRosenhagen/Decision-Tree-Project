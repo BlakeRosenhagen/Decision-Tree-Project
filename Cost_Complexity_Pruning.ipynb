{
 "cells": [
  {
   "cell_type": "code",
   "execution_count": 1,
   "metadata": {},
   "outputs": [
    {
     "name": "stdout",
     "output_type": "stream",
     "text": [
      "Automatically created module for IPython interactive environment\n"
     ]
    }
   ],
   "source": [
    "print(__doc__)\n",
    "import numpy as np\n",
    "import pandas as pd\n",
    "import matplotlib.pyplot as plt\n",
    "import sklearn\n",
    "from sklearn.model_selection import train_test_split\n",
    "from sklearn.datasets import load_breast_cancer\n",
    "from sklearn.tree import DecisionTreeClassifier\n",
    "from sklearn import metrics"
   ]
  },
  {
   "cell_type": "code",
   "execution_count": 2,
   "metadata": {},
   "outputs": [],
   "source": [
    "def underline_key(phrase_u, phrase_nu):\n",
    "    sp0, sp1 = \"\\033[1;;4m\", \"\\033[1;;2m\" \n",
    "    text_u = sp0+phrase_u+sp1+\" \"+phrase_nu\n",
    "    print(text_u)"
   ]
  },
  {
   "cell_type": "code",
   "execution_count": 216,
   "metadata": {},
   "outputs": [],
   "source": [
    "#df_data  = pd.read_pickle(\"./saved_variables/df_data\")\n",
    "X_train, X_test, y_train, y_test = pd.read_pickle('./saved_variables/X_y_train_test')\n",
    "df_X, df_y, df_data = pd.read_pickle('saved_variables/df_X_y_data')\n",
    "feature_names, class_names = pd.read_pickle('saved_variables/feature_class_names')"
   ]
  },
  {
   "cell_type": "markdown",
   "metadata": {},
   "source": [
    "# Start of branch module\n"
   ]
  },
  {
   "cell_type": "code",
   "execution_count": 14,
   "metadata": {},
   "outputs": [],
   "source": [
    "model = DecisionTreeClassifier(random_state=0)\n",
    "path = model.cost_complexity_pruning_path(X_train, y_train)\n",
    "#access return variables through dot notation\n",
    "ccp_alphas, impurities = path.ccp_alphas, path.impurities"
   ]
  },
  {
   "cell_type": "code",
   "execution_count": 15,
   "metadata": {},
   "outputs": [
    {
     "name": "stdout",
     "output_type": "stream",
     "text": [
      "[[0.         0.        ]\n",
      " [0.00226647 0.00453294]\n",
      " [0.00464743 0.01847522]\n",
      " [0.0046598  0.02313502]\n",
      " [0.0056338  0.02876883]\n",
      " [0.00704225 0.03581108]\n",
      " [0.00784194 0.04365302]\n",
      " [0.00911402 0.05276704]\n",
      " [0.01144366 0.0642107 ]\n",
      " [0.018988   0.0831987 ]\n",
      " [0.02314163 0.10634033]\n",
      " [0.03422475 0.14056508]\n",
      " [0.32729844 0.46786352]]\n",
      "\u001b[1;;4mLength of ccp_alphas:\u001b[1;;2m 13\n",
      "\u001b[1;;4mLength of impurities:\u001b[1;;2m 13\n"
     ]
    }
   ],
   "source": [
    "print(np.array(list(zip(ccp_alphas,impurities))))\n",
    "underline_key(\"Length of ccp_alphas:\", str(len(ccp_alphas)))\n",
    "underline_key(\"Length of impurities:\", str(len(impurities)))\n"
   ]
  },
  {
   "cell_type": "code",
   "execution_count": 16,
   "metadata": {},
   "outputs": [
    {
     "data": {
      "text/plain": [
       "Text(0.5,1,'Total Impurity vs effective alpha for training set')"
      ]
     },
     "execution_count": 16,
     "metadata": {},
     "output_type": "execute_result"
    },
    {
     "data": {
      "image/png": "[encoded data removed]",
      "text/plain": [
       "<Figure size 432x288 with 1 Axes>"
      ]
     },
     "metadata": {
      "needs_background": "light"
     },
     "output_type": "display_data"
    }
   ],
   "source": [
    "fig, ax = plt.subplots()\n",
    "ax.plot(ccp_alphas[:-1], impurities[:-1], marker='o', drawstyle=\"steps-post\")\n",
    "ax.set_xlabel(\"effective alpha\")\n",
    "ax.set_ylabel(\"total impurity of leaves\")\n",
    "ax.set_title(\"Total Impurity vs effective alpha for training set\")"
   ]
  },
  {
   "cell_type": "code",
   "execution_count": 17,
   "metadata": {},
   "outputs": [],
   "source": [
    "def add_to_list(list_a,new_item):\n",
    "    list_a.append(new_item)"
   ]
  },
  {
   "cell_type": "code",
   "execution_count": 58,
   "metadata": {},
   "outputs": [
    {
     "name": "stdout",
     "output_type": "stream",
     "text": [
      "Number of nodes in the last tree is: 3 with ccp_alpha: 0.03422474765119576\n"
     ]
    }
   ],
   "source": [
    "clfs = []\n",
    "for ccp_alpha in ccp_alphas:\n",
    "    clf = DecisionTreeClassifier(random_state=0, ccp_alpha=ccp_alpha, min_impurity_split=None, min_samples_split=2)\n",
    "    clf.fit(X_train, y_train)\n",
    "    #print(clf)\n",
    "    add_to_list(clfs,clf)\n",
    "print(\"Number of nodes in the last tree is: {} with ccp_alpha: {}\".format(\n",
    "      clfs[-1].tree_.node_count, ccp_alphas[-1]))"
   ]
  },
  {
   "cell_type": "code",
   "execution_count": 19,
   "metadata": {},
   "outputs": [],
   "source": [
    "clfs = clfs[:-1]\n",
    "ccp_alphas = ccp_alphas[:-1]\n",
    "node_counts = [clf.tree_.node_count for clf in clfs]\n",
    "depths = [clf.tree_.max_depth for clf in clfs]"
   ]
  },
  {
   "cell_type": "code",
   "execution_count": 20,
   "metadata": {
    "scrolled": true
   },
   "outputs": [
    {
     "data": {
      "image/png": "[encoded data removed]",
      "text/plain": [
       "<Figure size 432x288 with 2 Axes>"
      ]
     },
     "metadata": {
      "needs_background": "light"
     },
     "output_type": "display_data"
    }
   ],
   "source": [
    "fig, ax = plt.subplots(2,1)\n",
    "#Generate two plots, number of nodes , depth vs alpha\n",
    "#First plot\n",
    "ax[0].plot(ccp_alphas, node_counts, marker='h', drawstyle='steps-post')\n",
    "ax[0].set_xlabel(\"alpha\")\n",
    "ax[0].set_ylabel(\"number of nodes\")\n",
    "ax[0].set_title(\"Number of Nodes vs alpha\")\n",
    "#Second plot\n",
    "ax[1].plot(ccp_alphas, depths, marker='d', drawstyle='steps-post')\n",
    "ax[1].set_xlabel(\"alpha\")\n",
    "ax[1].set_ylabel(\"depth of tree\")\n",
    "ax[1].set_title(\"Depth vs alpha\")\n",
    "fig.tight_layout()"
   ]
  },
  {
   "cell_type": "code",
   "execution_count": 21,
   "metadata": {},
   "outputs": [],
   "source": [
    "train_scores = [clf.score(X_train, y_train) for clf in clfs]\n",
    "test_scores = [clf.score(X_test, y_test) for clf in clfs]\n",
    "score_list_index = range(len(train_scores))\n",
    "\n",
    "accuracy_gaps = []\n",
    "for i in score_list_index:\n",
    "    accuracy_gap = train_scores[i] - test_scores[i]\n",
    "    accuracy_gaps.append(accuracy_gap)\n",
    "    \n",
    "#wont be ploted\n",
    "accuracy_ratios = []\n",
    "for i in score_list_index:\n",
    "    accuracy_ratio = train_scores[i] / test_scores[i]\n",
    "    accuracy_ratios.append(accuracy_ratio)"
   ]
  },
  {
   "cell_type": "code",
   "execution_count": 22,
   "metadata": {},
   "outputs": [
    {
     "data": {
      "text/html": [
       "<div>\n",
       "<style scoped>\n",
       "    .dataframe tbody tr th:only-of-type {\n",
       "        vertical-align: middle;\n",
       "    }\n",
       "\n",
       "    .dataframe tbody tr th {\n",
       "        vertical-align: top;\n",
       "    }\n",
       "\n",
       "    .dataframe thead th {\n",
       "        text-align: right;\n",
       "    }\n",
       "</style>\n",
       "<table border=\"1\" class=\"dataframe\">\n",
       "  <thead>\n",
       "    <tr style=\"text-align: right;\">\n",
       "      <th></th>\n",
       "      <th>ccp_alphas</th>\n",
       "      <th>train_scores</th>\n",
       "      <th>test_scores</th>\n",
       "      <th>accuracy_gaps</th>\n",
       "      <th>accuracy_ratios</th>\n",
       "    </tr>\n",
       "  </thead>\n",
       "  <tbody>\n",
       "    <tr>\n",
       "      <th>0</th>\n",
       "      <td>0.000000</td>\n",
       "      <td>1.000000</td>\n",
       "      <td>0.881119</td>\n",
       "      <td>0.118881</td>\n",
       "      <td>1.134921</td>\n",
       "    </tr>\n",
       "    <tr>\n",
       "      <th>1</th>\n",
       "      <td>0.002266</td>\n",
       "      <td>0.997653</td>\n",
       "      <td>0.888112</td>\n",
       "      <td>0.109541</td>\n",
       "      <td>1.123341</td>\n",
       "    </tr>\n",
       "    <tr>\n",
       "      <th>2</th>\n",
       "      <td>0.004647</td>\n",
       "      <td>0.990610</td>\n",
       "      <td>0.916084</td>\n",
       "      <td>0.074526</td>\n",
       "      <td>1.081353</td>\n",
       "    </tr>\n",
       "    <tr>\n",
       "      <th>3</th>\n",
       "      <td>0.004660</td>\n",
       "      <td>0.988263</td>\n",
       "      <td>0.916084</td>\n",
       "      <td>0.072179</td>\n",
       "      <td>1.078791</td>\n",
       "    </tr>\n",
       "    <tr>\n",
       "      <th>4</th>\n",
       "      <td>0.005634</td>\n",
       "      <td>0.983568</td>\n",
       "      <td>0.916084</td>\n",
       "      <td>0.067484</td>\n",
       "      <td>1.073666</td>\n",
       "    </tr>\n",
       "  </tbody>\n",
       "</table>\n",
       "</div>"
      ],
      "text/plain": [
       "   ccp_alphas  train_scores  test_scores  accuracy_gaps  accuracy_ratios\n",
       "0    0.000000      1.000000     0.881119       0.118881         1.134921\n",
       "1    0.002266      0.997653     0.888112       0.109541         1.123341\n",
       "2    0.004647      0.990610     0.916084       0.074526         1.081353\n",
       "3    0.004660      0.988263     0.916084       0.072179         1.078791\n",
       "4    0.005634      0.983568     0.916084       0.067484         1.073666"
      ]
     },
     "execution_count": 22,
     "metadata": {},
     "output_type": "execute_result"
    }
   ],
   "source": [
    "# Creating data frame from list for easier access\n",
    "dataframe_data = [ccp_alphas, train_scores, test_scores, accuracy_gaps, accuracy_ratios]\n",
    "scoring_columns = [\"ccp_alphas\",\"train_scores\", \"test_scores\", \"accuracy_gaps\", \"accuracy_ratios\"]\n",
    "df1 = pd.DataFrame(data = dataframe_data)\n",
    "df2 = df1.T\n",
    "df2.columns = scoring_columns\n",
    "df2.head()"
   ]
  },
  {
   "cell_type": "markdown",
   "metadata": {},
   "source": [
    "### Select minimum alpha as best alpha"
   ]
  },
  {
   "cell_type": "code",
   "execution_count": 23,
   "metadata": {},
   "outputs": [],
   "source": [
    "#defining variables for print output\n",
    "best_alpha_index = test_scores.index(max(test_scores))"
   ]
  },
  {
   "cell_type": "code",
   "execution_count": 24,
   "metadata": {},
   "outputs": [
    {
     "data": {
      "image/png": "[encoded data removed]",
      "text/plain": [
       "<Figure size 648x432 with 2 Axes>"
      ]
     },
     "metadata": {
      "needs_background": "light"
     },
     "output_type": "display_data"
    }
   ],
   "source": [
    "#Accuracy double plot\n",
    "fig, ax1 = plt.subplots(figsize=(9,6))\n",
    "\n",
    "\n",
    "ax1.set_ylim(0.88, 1)\n",
    "\n",
    "ax1.set_xlabel('alpha')\n",
    "ax1.set_ylabel('accuracy', color='blue')\n",
    "ax1.set_title(\"Accuracy, Accuracy Gap vs alpha for training and testing sets\")\n",
    "ax1.plot(ccp_alphas, train_scores, marker='o', label='train', color='orange')\n",
    "ax1.plot(ccp_alphas, test_scores, marker='o', label='test', color='blue')\n",
    "plt.axvline(x=ccp_alphas[best_alpha_index], linestyle='--', color='red')\n",
    "ax1.legend()\n",
    "#fig.text(text='This is the figure title', fontsize=12)\n",
    "ax1.tick_params(axis='y', labelcolor='blue')\n",
    "\n",
    "ax2 = ax1.twinx()\n",
    "\n",
    "ax2.set_ylabel('accuracy gap', color='green')\n",
    "ax2.plot(ccp_alphas, accuracy_gaps, marker='x', label='accuracy gap',  color='green')\n",
    "ax2.legend(loc='upper center')\n",
    "ax2.tick_params(axis='y', labelcolor='green')\n"
   ]
  },
  {
   "cell_type": "markdown",
   "metadata": {},
   "source": [
    "# Selected Tree Information - final product?"
   ]
  },
  {
   "cell_type": "code",
   "execution_count": 64,
   "metadata": {},
   "outputs": [
    {
     "name": "stdout",
     "output_type": "stream",
     "text": [
      "\u001b[1;;4mBest alpha:\u001b[1;;2m 0.011443661971830986\n",
      "\u001b[1;;4mBest alpha's test score\u001b[1;;2m 0.9370629370629371\n",
      "\u001b[1;;4mBest alpha's accuracy gap:\u001b[1;;2m 0.02772579533142916\n",
      "\u001b[1;;4mBest alpha's accuracy ratio:\u001b[1;;2m 1.0295879756148834\n"
     ]
    }
   ],
   "source": [
    "best_alpha = df2['ccp_alphas'][best_alpha_index]\n",
    "best_alpha_test_score = df2['test_scores'][best_alpha_index]\n",
    "best_alpha_accuracy_gap = df2['accuracy_gaps'][best_alpha_index]\n",
    "best_alpha_accuracy_ratio = df2['accuracy_ratios'][best_alpha_index]\n",
    "\n",
    "best_x, best_y, best_g, best_r = str(best_alpha), str(best_alpha_test_score), str(best_alpha_accuracy_gap), str(best_alpha_accuracy_ratio)\n",
    "\n",
    "underline_key(\"Best alpha:\", best_x)\n",
    "underline_key(\"Best alpha's test score\", best_y)\n",
    "underline_key(\"Best alpha's accuracy gap:\", best_g)\n",
    "underline_key(\"Best alpha's accuracy ratio:\", best_r)"
   ]
  },
  {
   "cell_type": "markdown",
   "metadata": {},
   "source": [
    "A training accuracy that is subjectively far higher than test accuracy indicates over-fitting. - Andrew Ng"
   ]
  },
  {
   "cell_type": "code",
   "execution_count": 26,
   "metadata": {},
   "outputs": [
    {
     "name": "stdout",
     "output_type": "stream",
     "text": [
      "\u001b[1;;4mSelected Decision Tree Parameters\u001b[1;;2m DecisionTreeClassifier(ccp_alpha=0.011443661971830986, class_weight=None,\n",
      "                       criterion='gini', max_depth=None, max_features=None,\n",
      "                       max_leaf_nodes=None, min_impurity_decrease=0.0,\n",
      "                       min_impurity_split=None, min_samples_leaf=1,\n",
      "                       min_samples_split=2, min_weight_fraction_leaf=0.0,\n",
      "                       presort='deprecated', random_state=0, splitter='best')\n"
     ]
    }
   ],
   "source": [
    "underline_key(\"Selected Decision Tree Parameters\", str(clfs[best_alpha_index]))       "
   ]
  },
  {
   "cell_type": "code",
   "execution_count": 217,
   "metadata": {},
   "outputs": [
    {
     "name": "stdout",
     "output_type": "stream",
     "text": [
      "\u001b[1;;4mSelected Decision Tree Structure\u001b[1;;2m \n",
      "|--- concave_points_mean <= 0.05\n",
      "|   |--- area_worst <= 952.90\n",
      "|   |   |--- weights: [7.00, 245.00] class: 1\n",
      "|   |--- area_worst >  952.90\n",
      "|   |   |--- weights: [6.00, 2.00] class: 0\n",
      "|--- concave_points_mean >  0.05\n",
      "|   |--- area_worst <= 785.80\n",
      "|   |   |--- texture_worst <= 23.74\n",
      "|   |   |   |--- weights: [0.00, 14.00] class: 1\n",
      "|   |   |--- texture_worst >  23.74\n",
      "|   |   |   |--- weights: [13.00, 3.00] class: 0\n",
      "|   |--- area_worst >  785.80\n",
      "|   |   |--- weights: [133.00, 3.00] class: 0\n",
      "\n"
     ]
    }
   ],
   "source": [
    "from sklearn.tree import export_text\n",
    "\n",
    "#SET PARAMETERS!!!!! FEATURE NAMES, CLASS NAMES\n",
    "r = export_text(clfs[best_alpha_index], feature_names=feature_names, max_depth=100, spacing=3, show_weights='True')\n",
    "underline_key(\"Selected Decision Tree Structure\",\"\")\n",
    "print(r)"
   ]
  },
  {
   "cell_type": "markdown",
   "metadata": {},
   "source": [
    "## Exporting\n",
    "### plot tree method - straight to inline vizualization\n",
    "https://scikit-learn.org/stable/modules/generated/sklearn.tree.plot_tree.html\n",
    "### .dot method - saved file that is called upon later to create vizualization\n",
    "https://scikit-learn.org/stable/modules/generated/sklearn.tree.export_graphviz.html\n",
    "### export text method - inline text\n",
    "### export to png"
   ]
  },
  {
   "cell_type": "code",
   "execution_count": 55,
   "metadata": {},
   "outputs": [
    {
     "data": {
      "image/png": "[encoded data removed]",
      "text/plain": [
       "<Figure size 648x504 with 1 Axes>"
      ]
     },
     "metadata": {
      "needs_background": "light"
     },
     "output_type": "display_data"
    }
   ],
   "source": [
    "#version 1 from https://scikit-learn.org/stable/auto_examples/tree/plot_iris_dtc.html#sphx-glr-auto-examples-tree-plot-iris-dtc-py\n",
    "from sklearn.tree import plot_tree\n",
    "\n",
    "plt.figure(figsize=(9,7))\n",
    "clf_selected = DecisionTreeClassifier(random_state=0, ccp_alpha=ccp_alphas[best_alpha_index])\n",
    "clf_selected.fit(X_train, y_train)\n",
    "\n",
    "plot_tree(clf_selected, feature_names=feature_names, class_names=class_names, filled=True,\n",
    "          node_ids=False, rotate=False, rounded=False, fontsize=11)\n",
    "plt.show()"
   ]
  },
  {
   "cell_type": "markdown",
   "metadata": {},
   "source": [
    "for help https://bobswift.atlassian.net/wiki/spaces/GVIZ/pages/131924165/Graphviz+installation"
   ]
  },
  {
   "cell_type": "code",
   "execution_count": 103,
   "metadata": {},
   "outputs": [
    {
     "data": {
      "text/plain": [
       "array([[3.5, 1.4],\n",
       "       [3. , 1.4],\n",
       "       [3.2, 1.3],\n",
       "       [3.1, 1.5],\n",
       "       [3.6, 1.4],\n",
       "       [3.9, 1.7],\n",
       "       [3.4, 1.4],\n",
       "       [3.4, 1.5],\n",
       "       [2.9, 1.4],\n",
       "       [3.1, 1.5],\n",
       "       [3.7, 1.5],\n",
       "       [3.4, 1.6],\n",
       "       [3. , 1.4],\n",
       "       [3. , 1.1],\n",
       "       [4. , 1.2],\n",
       "       [4.4, 1.5],\n",
       "       [3.9, 1.3],\n",
       "       [3.5, 1.4],\n",
       "       [3.8, 1.7],\n",
       "       [3.8, 1.5],\n",
       "       [3.4, 1.7],\n",
       "       [3.7, 1.5],\n",
       "       [3.6, 1. ],\n",
       "       [3.3, 1.7],\n",
       "       [3.4, 1.9],\n",
       "       [3. , 1.6],\n",
       "       [3.4, 1.6],\n",
       "       [3.5, 1.5],\n",
       "       [3.4, 1.4],\n",
       "       [3.2, 1.6],\n",
       "       [3.1, 1.6],\n",
       "       [3.4, 1.5],\n",
       "       [4.1, 1.5],\n",
       "       [4.2, 1.4],\n",
       "       [3.1, 1.5],\n",
       "       [3.2, 1.2],\n",
       "       [3.5, 1.3],\n",
       "       [3.6, 1.4],\n",
       "       [3. , 1.3],\n",
       "       [3.4, 1.5],\n",
       "       [3.5, 1.3],\n",
       "       [2.3, 1.3],\n",
       "       [3.2, 1.3],\n",
       "       [3.5, 1.6],\n",
       "       [3.8, 1.9],\n",
       "       [3. , 1.4],\n",
       "       [3.8, 1.6],\n",
       "       [3.2, 1.4],\n",
       "       [3.7, 1.5],\n",
       "       [3.3, 1.4],\n",
       "       [3.2, 4.7],\n",
       "       [3.2, 4.5],\n",
       "       [3.1, 4.9],\n",
       "       [2.3, 4. ],\n",
       "       [2.8, 4.6],\n",
       "       [2.8, 4.5],\n",
       "       [3.3, 4.7],\n",
       "       [2.4, 3.3],\n",
       "       [2.9, 4.6],\n",
       "       [2.7, 3.9],\n",
       "       [2. , 3.5],\n",
       "       [3. , 4.2],\n",
       "       [2.2, 4. ],\n",
       "       [2.9, 4.7],\n",
       "       [2.9, 3.6],\n",
       "       [3.1, 4.4],\n",
       "       [3. , 4.5],\n",
       "       [2.7, 4.1],\n",
       "       [2.2, 4.5],\n",
       "       [2.5, 3.9],\n",
       "       [3.2, 4.8],\n",
       "       [2.8, 4. ],\n",
       "       [2.5, 4.9],\n",
       "       [2.8, 4.7],\n",
       "       [2.9, 4.3],\n",
       "       [3. , 4.4],\n",
       "       [2.8, 4.8],\n",
       "       [3. , 5. ],\n",
       "       [2.9, 4.5],\n",
       "       [2.6, 3.5],\n",
       "       [2.4, 3.8],\n",
       "       [2.4, 3.7],\n",
       "       [2.7, 3.9],\n",
       "       [2.7, 5.1],\n",
       "       [3. , 4.5],\n",
       "       [3.4, 4.5],\n",
       "       [3.1, 4.7],\n",
       "       [2.3, 4.4],\n",
       "       [3. , 4.1],\n",
       "       [2.5, 4. ],\n",
       "       [2.6, 4.4],\n",
       "       [3. , 4.6],\n",
       "       [2.6, 4. ],\n",
       "       [2.3, 3.3],\n",
       "       [2.7, 4.2],\n",
       "       [3. , 4.2],\n",
       "       [2.9, 4.2],\n",
       "       [2.9, 4.3],\n",
       "       [2.5, 3. ],\n",
       "       [2.8, 4.1],\n",
       "       [3.3, 6. ],\n",
       "       [2.7, 5.1],\n",
       "       [3. , 5.9],\n",
       "       [2.9, 5.6],\n",
       "       [3. , 5.8],\n",
       "       [3. , 6.6],\n",
       "       [2.5, 4.5],\n",
       "       [2.9, 6.3],\n",
       "       [2.5, 5.8],\n",
       "       [3.6, 6.1],\n",
       "       [3.2, 5.1],\n",
       "       [2.7, 5.3],\n",
       "       [3. , 5.5],\n",
       "       [2.5, 5. ],\n",
       "       [2.8, 5.1],\n",
       "       [3.2, 5.3],\n",
       "       [3. , 5.5],\n",
       "       [3.8, 6.7],\n",
       "       [2.6, 6.9],\n",
       "       [2.2, 5. ],\n",
       "       [3.2, 5.7],\n",
       "       [2.8, 4.9],\n",
       "       [2.8, 6.7],\n",
       "       [2.7, 4.9],\n",
       "       [3.3, 5.7],\n",
       "       [3.2, 6. ],\n",
       "       [2.8, 4.8],\n",
       "       [3. , 4.9],\n",
       "       [2.8, 5.6],\n",
       "       [3. , 5.8],\n",
       "       [2.8, 6.1],\n",
       "       [3.8, 6.4],\n",
       "       [2.8, 5.6],\n",
       "       [2.8, 5.1],\n",
       "       [2.6, 5.6],\n",
       "       [3. , 6.1],\n",
       "       [3.4, 5.6],\n",
       "       [3.1, 5.5],\n",
       "       [3. , 4.8],\n",
       "       [3.1, 5.4],\n",
       "       [3.1, 5.6],\n",
       "       [3.1, 5.1],\n",
       "       [2.7, 5.1],\n",
       "       [3.2, 5.9],\n",
       "       [3.3, 5.7],\n",
       "       [3. , 5.2],\n",
       "       [2.5, 5. ],\n",
       "       [3. , 5.2],\n",
       "       [3.4, 5.4],\n",
       "       [3. , 5.1]])"
      ]
     },
     "execution_count": 103,
     "metadata": {},
     "output_type": "execute_result"
    }
   ],
   "source": [
    "iris = load_iris()\n",
    "iris.data[:, [1,2]]"
   ]
  },
  {
   "cell_type": "code",
   "execution_count": 104,
   "metadata": {},
   "outputs": [
    {
     "name": "stdout",
     "output_type": "stream",
     "text": [
      "<class 'list'>\n"
     ]
    },
    {
     "ename": "TypeError",
     "evalue": "list indices must be integers or slices, not tuple",
     "output_type": "error",
     "traceback": [
      "\u001b[1;31m---------------------------------------------------------------------------\u001b[0m",
      "\u001b[1;31mTypeError\u001b[0m                                 Traceback (most recent call last)",
      "\u001b[1;32m<ipython-input-104-de2e3208195a>\u001b[0m in \u001b[0;36m<module>\u001b[1;34m\u001b[0m\n\u001b[0;32m      1\u001b[0m \u001b[0mdf_X_list\u001b[0m \u001b[1;33m=\u001b[0m \u001b[0mdf_X\u001b[0m\u001b[1;33m.\u001b[0m\u001b[0mvalues\u001b[0m\u001b[1;33m.\u001b[0m\u001b[0mtolist\u001b[0m\u001b[1;33m(\u001b[0m\u001b[1;33m)\u001b[0m\u001b[1;33m\u001b[0m\u001b[1;33m\u001b[0m\u001b[0m\n\u001b[0;32m      2\u001b[0m \u001b[0mprint\u001b[0m\u001b[1;33m(\u001b[0m\u001b[0mtype\u001b[0m\u001b[1;33m(\u001b[0m\u001b[0mdf_X_list\u001b[0m\u001b[1;33m)\u001b[0m\u001b[1;33m)\u001b[0m\u001b[1;33m\u001b[0m\u001b[1;33m\u001b[0m\u001b[0m\n\u001b[1;32m----> 3\u001b[1;33m \u001b[0mdf_X_list\u001b[0m\u001b[1;33m[\u001b[0m\u001b[1;33m:\u001b[0m\u001b[1;33m,\u001b[0m\u001b[1;36m2\u001b[0m\u001b[1;33m]\u001b[0m\u001b[1;33m\u001b[0m\u001b[1;33m\u001b[0m\u001b[0m\n\u001b[0m",
      "\u001b[1;31mTypeError\u001b[0m: list indices must be integers or slices, not tuple"
     ]
    }
   ],
   "source": [
    "df_X_list = df_X.values.tolist()\n",
    "print(type(df_X_list))\n",
    "df_X_list[:,2]"
   ]
  },
  {
   "cell_type": "code",
   "execution_count": 107,
   "metadata": {},
   "outputs": [
    {
     "name": "stdout",
     "output_type": "stream",
     "text": [
      "[[1.799e+01 1.038e+01 1.228e+02 ... 2.654e-01 4.601e-01 1.189e-01]\n",
      " [2.057e+01 1.777e+01 1.329e+02 ... 1.860e-01 2.750e-01 8.902e-02]\n",
      " [1.969e+01 2.125e+01 1.300e+02 ... 2.430e-01 3.613e-01 8.758e-02]\n",
      " ...\n",
      " [1.660e+01 2.808e+01 1.083e+02 ... 1.418e-01 2.218e-01 7.820e-02]\n",
      " [2.060e+01 2.933e+01 1.401e+02 ... 2.650e-01 4.087e-01 1.240e-01]\n",
      " [7.760e+00 2.454e+01 4.792e+01 ... 0.000e+00 2.871e-01 7.039e-02]]\n"
     ]
    },
    {
     "data": {
      "text/plain": [
       "array([10.38, 17.77, 21.25, 20.38, 14.34, 15.7 , 19.98, 20.83, 21.82,\n",
       "       24.04, 23.24, 17.89, 24.8 , 23.95, 22.61, 27.54, 20.13, 20.68,\n",
       "       22.15, 14.36, 15.71, 12.44, 14.26, 23.04, 21.38, 16.4 , 21.53,\n",
       "       20.25, 25.27, 15.05, 25.11, 18.7 , 23.98, 26.47, 17.88, 21.59,\n",
       "       21.72, 18.42, 25.2 , 20.82, 21.58, 21.35, 24.81, 20.28, 21.81,\n",
       "       17.6 , 16.84, 18.66, 14.63, 22.3 , 21.6 , 16.34, 18.24, 18.7 ,\n",
       "       22.02, 18.75, 18.57, 21.59, 19.31, 11.79, 14.88, 20.98, 22.15,\n",
       "       13.86, 23.84, 23.94, 21.01, 19.04, 17.33, 16.49, 21.31, 14.64,\n",
       "       24.52, 15.79, 16.52, 19.65, 10.94, 16.15, 23.97, 18.  , 20.97,\n",
       "       15.86, 24.91, 26.29, 15.65, 18.52, 21.46, 24.59, 21.8 , 15.24,\n",
       "       24.02, 22.76, 14.76, 18.3 , 19.83, 23.03, 17.84, 19.94, 12.84,\n",
       "       19.77, 24.98, 13.43, 20.52, 19.4 , 19.29, 15.56, 18.33, 18.54,\n",
       "       19.67, 21.26, 16.99, 20.76, 19.65, 20.19, 15.83, 21.53, 15.76,\n",
       "       16.67, 22.91, 20.01, 10.82, 17.12, 20.2 , 10.89, 16.39, 17.21,\n",
       "       24.69, 18.91, 16.39, 25.12, 13.29, 19.48, 21.54, 13.93, 21.91,\n",
       "       22.47, 16.67, 15.39, 17.57, 13.39, 11.97, 18.05, 17.31, 15.92,\n",
       "       14.97, 14.65, 16.58, 18.77, 15.18, 17.91, 20.78, 20.7 , 15.34,\n",
       "       13.08, 15.34, 17.94, 20.74, 19.46, 12.74, 12.96, 20.18, 15.94,\n",
       "       18.15, 22.22, 22.04, 19.76,  9.71, 18.8 , 24.68, 16.95, 12.39,\n",
       "       19.63, 11.89, 14.71, 15.15, 14.45, 18.06, 20.11, 22.22, 13.06,\n",
       "       21.87, 26.57, 20.31, 14.92, 22.41, 15.11, 18.58, 17.19, 17.39,\n",
       "       15.9 , 23.12, 21.41, 18.22, 26.86, 23.21, 16.33, 22.29, 21.84,\n",
       "       22.49, 20.22, 19.56, 19.32, 26.67, 23.75, 18.6 , 16.68, 17.27,\n",
       "       20.26, 22.54, 12.91, 22.14, 18.94, 18.47, 25.56, 23.81, 16.93,\n",
       "       18.35, 17.48, 21.56, 32.47, 13.16, 13.9 , 17.53, 20.25, 17.02,\n",
       "       13.47, 15.46, 15.51, 23.97, 22.33, 19.08, 27.08, 33.81, 27.81,\n",
       "       15.91, 21.25, 26.97, 21.46, 27.85, 39.28, 15.6 , 15.04, 18.19,\n",
       "       23.77, 23.5 , 19.86, 17.43, 14.11, 25.22, 14.93, 23.56, 18.45,\n",
       "       19.82, 17.08, 19.33, 17.05, 28.77, 17.27, 23.2 , 33.56, 27.06,\n",
       "       23.06, 22.13, 19.38, 22.07, 31.12, 18.95, 21.84, 16.21, 20.39,\n",
       "       16.82, 13.04, 20.99, 15.67, 24.48, 17.36, 14.16, 19.98, 17.84,\n",
       "       15.18, 26.6 , 14.02, 18.18, 18.77, 15.7 , 18.4 , 20.76, 13.12,\n",
       "       19.96, 18.89, 19.73, 19.1 , 16.02, 17.46, 13.78, 13.27, 12.35,\n",
       "       18.14, 18.17, 23.09, 18.9 , 19.89, 23.86, 18.61, 18.16, 24.49,\n",
       "       15.82, 14.4 , 12.71, 13.84, 19.11, 15.69, 13.37, 10.72, 18.6 ,\n",
       "       16.85, 14.08, 18.87, 18.9 , 17.  , 16.18, 19.66, 13.32, 21.51,\n",
       "       15.21, 17.3 , 12.88, 17.93, 20.71, 21.88, 15.51, 19.35, 19.86,\n",
       "       14.78, 19.02, 21.  , 14.23, 21.43, 17.53, 24.27, 16.54, 16.84,\n",
       "       14.96, 21.68, 15.45, 14.71, 18.9 , 14.74, 16.03, 14.96, 17.07,\n",
       "       19.22, 17.46, 25.74, 14.07, 19.07, 18.59, 16.21, 15.49, 18.32,\n",
       "       18.07, 21.57, 18.84, 18.29, 16.95, 21.78, 26.83, 18.02, 17.25,\n",
       "       21.9 , 23.29, 13.21, 15.1 , 17.35, 16.07, 16.07, 20.22, 28.21,\n",
       "       15.15, 18.83, 12.96, 14.93, 22.72, 17.48, 13.72, 23.29, 14.09,\n",
       "       16.16, 15.5 , 23.21, 12.22, 16.84, 19.97, 22.28, 17.72, 17.18,\n",
       "       18.89, 17.46, 14.83, 17.26, 21.02, 10.91, 18.29, 16.17, 14.95,\n",
       "       18.59, 14.86, 21.37, 20.66, 17.92, 17.57, 16.83, 21.68, 22.11,\n",
       "       29.81, 21.17, 21.7 , 21.08, 12.17, 21.41, 19.04, 13.98, 16.02,\n",
       "       19.13, 19.12, 21.28, 14.98, 21.98, 16.62, 17.67, 22.53, 17.68,\n",
       "       19.54, 21.97, 16.94, 19.62, 19.54, 15.98, 19.6 , 15.66, 17.2 ,\n",
       "       25.42, 15.79, 18.32, 16.85, 24.89, 28.03, 17.66, 19.34, 20.52,\n",
       "       21.54, 25.  , 28.23, 13.98, 17.15, 30.72, 29.29, 25.25, 25.13,\n",
       "       28.2 , 27.15, 26.27, 26.99, 18.36, 18.22, 20.13, 20.74, 18.1 ,\n",
       "       23.33, 18.18, 18.49, 28.14, 14.93, 29.97, 15.62, 15.73, 20.53,\n",
       "       16.62, 14.59, 19.51, 18.03, 19.24, 14.06, 17.64, 11.28, 16.41,\n",
       "       16.85, 18.82, 16.17, 20.2 , 22.44, 13.23, 20.56, 12.83, 20.54,\n",
       "       20.21, 18.17, 17.31, 17.52, 21.24, 16.74, 24.49, 16.32, 19.83,\n",
       "       12.87, 13.14, 20.04, 17.12, 15.7 , 23.95, 14.69, 14.7 , 20.52,\n",
       "       13.66, 19.07, 18.61, 20.58, 20.26, 18.22, 16.7 , 13.9 , 21.6 ,\n",
       "       19.83, 18.68, 15.68, 13.1 , 18.75, 12.27, 13.17, 13.44, 17.56,\n",
       "       20.02, 16.33, 20.67, 17.62, 20.86, 22.55, 24.44, 25.49, 25.44,\n",
       "       14.44, 24.99, 25.42, 28.06, 20.7 , 23.23, 16.35, 16.58, 19.34,\n",
       "       24.21, 21.48, 22.44, 29.43, 21.94, 28.92, 27.61, 19.59, 27.88,\n",
       "       22.68, 23.93, 27.15, 29.37, 30.62, 25.09, 22.39, 28.25, 28.08,\n",
       "       29.33, 24.54])"
      ]
     },
     "execution_count": 107,
     "metadata": {},
     "output_type": "execute_result"
    }
   ],
   "source": [
    "print(df_X.values)\n",
    "ds_x = df_X.values[:,[1,2]]\n",
    "\n",
    "#used in later part of loop\n",
    "ds_x[:,0]\n"
   ]
  },
  {
   "cell_type": "code",
   "execution_count": 123,
   "metadata": {},
   "outputs": [
    {
     "name": "stdout",
     "output_type": "stream",
     "text": [
      "area_mean\n",
      "1\n"
     ]
    }
   ],
   "source": [
    "\n",
    "print(feature_names[[2,3][1]])\n",
    "\n",
    "print([1,2][0])"
   ]
  },
  {
   "cell_type": "code",
   "execution_count": 124,
   "metadata": {},
   "outputs": [
    {
     "name": "stdout",
     "output_type": "stream",
     "text": [
      "Automatically created module for IPython interactive environment\n"
     ]
    },
    {
     "ename": "MemoryError",
     "evalue": "",
     "output_type": "error",
     "traceback": [
      "\u001b[1;31m---------------------------------------------------------------------------\u001b[0m",
      "\u001b[1;31mMemoryError\u001b[0m                               Traceback (most recent call last)",
      "\u001b[1;32m<ipython-input-124-a432785e3420>\u001b[0m in \u001b[0;36m<module>\u001b[1;34m\u001b[0m\n\u001b[0;32m     41\u001b[0m     \u001b[0mplt\u001b[0m\u001b[1;33m.\u001b[0m\u001b[0mtight_layout\u001b[0m\u001b[1;33m(\u001b[0m\u001b[0mh_pad\u001b[0m\u001b[1;33m=\u001b[0m\u001b[1;36m0.5\u001b[0m\u001b[1;33m,\u001b[0m \u001b[0mw_pad\u001b[0m\u001b[1;33m=\u001b[0m\u001b[1;36m0.5\u001b[0m\u001b[1;33m,\u001b[0m \u001b[0mpad\u001b[0m\u001b[1;33m=\u001b[0m\u001b[1;36m2.5\u001b[0m\u001b[1;33m)\u001b[0m\u001b[1;33m\u001b[0m\u001b[1;33m\u001b[0m\u001b[0m\n\u001b[0;32m     42\u001b[0m     \u001b[1;31m# ravel flattens array aka turn a list of lists into one continous list\u001b[0m\u001b[1;33m\u001b[0m\u001b[1;33m\u001b[0m\u001b[1;33m\u001b[0m\u001b[0m\n\u001b[1;32m---> 43\u001b[1;33m     \u001b[0mZ\u001b[0m \u001b[1;33m=\u001b[0m \u001b[0mclf\u001b[0m\u001b[1;33m.\u001b[0m\u001b[0mpredict\u001b[0m\u001b[1;33m(\u001b[0m\u001b[0mnp\u001b[0m\u001b[1;33m.\u001b[0m\u001b[0mc_\u001b[0m\u001b[1;33m[\u001b[0m\u001b[0mxx\u001b[0m\u001b[1;33m.\u001b[0m\u001b[0mravel\u001b[0m\u001b[1;33m(\u001b[0m\u001b[1;33m)\u001b[0m\u001b[1;33m,\u001b[0m \u001b[0myy\u001b[0m\u001b[1;33m.\u001b[0m\u001b[0mravel\u001b[0m\u001b[1;33m(\u001b[0m\u001b[1;33m)\u001b[0m\u001b[1;33m]\u001b[0m\u001b[1;33m)\u001b[0m\u001b[1;33m\u001b[0m\u001b[1;33m\u001b[0m\u001b[0m\n\u001b[0m\u001b[0;32m     44\u001b[0m     \u001b[0mZ\u001b[0m \u001b[1;33m=\u001b[0m \u001b[0mZ\u001b[0m\u001b[1;33m.\u001b[0m\u001b[0mreshape\u001b[0m\u001b[1;33m(\u001b[0m\u001b[0mxx\u001b[0m\u001b[1;33m.\u001b[0m\u001b[0mshape\u001b[0m\u001b[1;33m)\u001b[0m\u001b[1;33m\u001b[0m\u001b[1;33m\u001b[0m\u001b[0m\n\u001b[0;32m     45\u001b[0m     \u001b[1;31m#generate background rectangles\u001b[0m\u001b[1;33m\u001b[0m\u001b[1;33m\u001b[0m\u001b[1;33m\u001b[0m\u001b[0m\n",
      "\u001b[1;32m~\\Anaconda3\\lib\\site-packages\\sklearn\\tree\\_classes.py\u001b[0m in \u001b[0;36mpredict\u001b[1;34m(self, X, check_input)\u001b[0m\n\u001b[0;32m    418\u001b[0m         \u001b[0mcheck_is_fitted\u001b[0m\u001b[1;33m(\u001b[0m\u001b[0mself\u001b[0m\u001b[1;33m)\u001b[0m\u001b[1;33m\u001b[0m\u001b[1;33m\u001b[0m\u001b[0m\n\u001b[0;32m    419\u001b[0m         \u001b[0mX\u001b[0m \u001b[1;33m=\u001b[0m \u001b[0mself\u001b[0m\u001b[1;33m.\u001b[0m\u001b[0m_validate_X_predict\u001b[0m\u001b[1;33m(\u001b[0m\u001b[0mX\u001b[0m\u001b[1;33m,\u001b[0m \u001b[0mcheck_input\u001b[0m\u001b[1;33m)\u001b[0m\u001b[1;33m\u001b[0m\u001b[1;33m\u001b[0m\u001b[0m\n\u001b[1;32m--> 420\u001b[1;33m         \u001b[0mproba\u001b[0m \u001b[1;33m=\u001b[0m \u001b[0mself\u001b[0m\u001b[1;33m.\u001b[0m\u001b[0mtree_\u001b[0m\u001b[1;33m.\u001b[0m\u001b[0mpredict\u001b[0m\u001b[1;33m(\u001b[0m\u001b[0mX\u001b[0m\u001b[1;33m)\u001b[0m\u001b[1;33m\u001b[0m\u001b[1;33m\u001b[0m\u001b[0m\n\u001b[0m\u001b[0;32m    421\u001b[0m         \u001b[0mn_samples\u001b[0m \u001b[1;33m=\u001b[0m \u001b[0mX\u001b[0m\u001b[1;33m.\u001b[0m\u001b[0mshape\u001b[0m\u001b[1;33m[\u001b[0m\u001b[1;36m0\u001b[0m\u001b[1;33m]\u001b[0m\u001b[1;33m\u001b[0m\u001b[1;33m\u001b[0m\u001b[0m\n\u001b[0;32m    422\u001b[0m \u001b[1;33m\u001b[0m\u001b[0m\n",
      "\u001b[1;32msklearn\\tree\\_tree.pyx\u001b[0m in \u001b[0;36msklearn.tree._tree.Tree.predict\u001b[1;34m()\u001b[0m\n",
      "\u001b[1;32msklearn\\tree\\_tree.pyx\u001b[0m in \u001b[0;36msklearn.tree._tree.Tree.predict\u001b[1;34m()\u001b[0m\n",
      "\u001b[1;31mMemoryError\u001b[0m: "
     ]
    },
    {
     "data": {
      "image/png": "[encoded data removed]",
      "text/plain": [
       "<Figure size 432x288 with 3 Axes>"
      ]
     },
     "metadata": {
      "needs_background": "light"
     },
     "output_type": "display_data"
    }
   ],
   "source": [
    "#this can take from permutation feature selcetion notebook\n",
    "print(__doc__)\n",
    "\n",
    "import numpy as np\n",
    "import matplotlib.pyplot as plt\n",
    "\n",
    "from sklearn.datasets import load_iris\n",
    "from sklearn.tree import DecisionTreeClassifier, plot_tree\n",
    "\n",
    "# Parameters\n",
    "n_classes = 3\n",
    "plot_colors = \"ryb\"\n",
    "plot_step = 0.02\n",
    "\n",
    "# Load data\n",
    "iris = load_iris()\n",
    "\n",
    "#this iterates pariidx as index? and pair as small list in the large list in reference to columns in dataset\n",
    "#for future insert combonation of [x_column, y_column]\n",
    "for pairidx, pair in enumerate([[0, 1], [0, 2], [0, 3],\n",
    "                                [1, 2], [1, 3], [2, 3]]):\n",
    "    # like said above, pair is used to select appropriate columns in dataset where : is selecting all rows\n",
    "    X = df_X.values[:, pair]\n",
    "    y = df_y\n",
    "\n",
    "    # Train\n",
    "    clf = DecisionTreeClassifier().fit(X, y)\n",
    "    \n",
    "    # Plot the decision boundary\n",
    "    #plt.subplot(nrows, ncols, index)\n",
    "    #pairidx is a index number from above to index small list out of large list\n",
    "    plt.subplot(2, 3, pairidx + 1)\n",
    "\n",
    "    # [:,] refers to the first out of two columns with all rows\n",
    "    x_min, x_max = X[:, 0].min() - 1, X[:, 0].max() + 1\n",
    "    y_min, y_max = X[:, 1].min() - 1, X[:, 1].max() + 1\n",
    "    #creates the granualarity of visual plot\n",
    "    xx, yy = np.meshgrid(np.arange(x_min, x_max, plot_step),\n",
    "                         np.arange(y_min, y_max, plot_step))\n",
    "    # makes layout of visualization to have form factor\n",
    "    plt.tight_layout(h_pad=0.5, w_pad=0.5, pad=2.5)\n",
    "    # ravel flattens array aka turn a list of lists into one continous list\n",
    "    Z = clf.predict(np.c_[xx.ravel(), yy.ravel()])\n",
    "    Z = Z.reshape(xx.shape)\n",
    "    #generate background rectangles\n",
    "        #X and Y must both be 2-D with the same shape as Z (e.g. created via numpy.meshgrid),\n",
    "            #or they must both be 1-D such that len(X) == M \n",
    "            #is the number of columns in Z and len(Y) == N is the number of rows in Z.\n",
    "            # Z is the height values over which the contour is drawn.\n",
    "    cs = plt.contourf(xx, yy, Z, cmap=plt.cm.RdYlBu)\n",
    "\n",
    "    plt.xlabel(feature_names[pair[0]])\n",
    "    plt.ylabel(feature_names[pair[1]])\n",
    "\n",
    "    # Plot the training points\n",
    "    for i, color in zip(range(n_classes), plot_colors):\n",
    "        idx = np.where(y == i)\n",
    "        plt.scatter(X[idx, 0], X[idx, 1], c=color, label=feature_names[i],\n",
    "                    cmap=plt.cm.RdYlBu, edgecolor='black', s=15)\n",
    "\n",
    "plt.suptitle(\"Decision surface of a decision tree using paired features\")\n",
    "plt.legend(loc='lower right', borderpad=0, handletextpad=0)\n",
    "plt.axis(\"tight\")"
   ]
  },
  {
   "cell_type": "markdown",
   "metadata": {},
   "source": [
    "# Partial dependence plot"
   ]
  },
  {
   "cell_type": "code",
   "execution_count": 73,
   "metadata": {},
   "outputs": [
    {
     "ename": "TypeError",
     "evalue": "plot_partial_dependence() got multiple values for argument 'X'",
     "output_type": "error",
     "traceback": [
      "\u001b[1;31m---------------------------------------------------------------------------\u001b[0m",
      "\u001b[1;31mTypeError\u001b[0m                                 Traceback (most recent call last)",
      "\u001b[1;32m<ipython-input-73-e2e18adc9d9c>\u001b[0m in \u001b[0;36m<module>\u001b[1;34m\u001b[0m\n\u001b[0;32m      6\u001b[0m \u001b[0mclf\u001b[0m \u001b[1;33m=\u001b[0m \u001b[0mclfs\u001b[0m\u001b[1;33m[\u001b[0m\u001b[0mbest_alpha_index\u001b[0m\u001b[1;33m]\u001b[0m\u001b[1;33m\u001b[0m\u001b[1;33m\u001b[0m\u001b[0m\n\u001b[0;32m      7\u001b[0m \u001b[0mfeatures\u001b[0m \u001b[1;33m=\u001b[0m \u001b[1;33m[\u001b[0m\u001b[1;36m0\u001b[0m\u001b[1;33m,\u001b[0m \u001b[1;36m1\u001b[0m\u001b[1;33m,\u001b[0m \u001b[1;33m(\u001b[0m\u001b[1;36m0\u001b[0m\u001b[1;33m,\u001b[0m \u001b[1;36m1\u001b[0m\u001b[1;33m)\u001b[0m\u001b[1;33m]\u001b[0m\u001b[1;33m\u001b[0m\u001b[1;33m\u001b[0m\u001b[0m\n\u001b[1;32m----> 8\u001b[1;33m \u001b[0mplot_partial_dependence\u001b[0m\u001b[1;33m(\u001b[0m\u001b[0mclf\u001b[0m\u001b[1;33m,\u001b[0m\u001b[0mfeatures\u001b[0m\u001b[1;33m,\u001b[0m \u001b[0mX\u001b[0m\u001b[1;33m=\u001b[0m\u001b[0mX_train\u001b[0m\u001b[1;33m)\u001b[0m\u001b[1;33m\u001b[0m\u001b[1;33m\u001b[0m\u001b[0m\n\u001b[0m\u001b[0;32m      9\u001b[0m \u001b[1;33m\u001b[0m\u001b[0m\n\u001b[0;32m     10\u001b[0m \u001b[1;31m#partial_dependence(gb, features=[0], X=X, percentiles=(0, 1),\u001b[0m\u001b[1;33m\u001b[0m\u001b[1;33m\u001b[0m\u001b[1;33m\u001b[0m\u001b[0m\n",
      "\u001b[1;31mTypeError\u001b[0m: plot_partial_dependence() got multiple values for argument 'X'"
     ]
    }
   ],
   "source": [
    "from sklearn.datasets import make_hastie_10_2\n",
    "from sklearn.ensemble import GradientBoostingClassifier\n",
    "from sklearn.inspection import plot_partial_dependence\n",
    "\n",
    "X, y = make_hastie_10_2(random_state=0)\n",
    "clf = clfs[best_alpha_index]\n",
    "features = [0, 1, (0, 1)]\n",
    "plot_partial_dependence(clf, features, X=X_train) \n",
    "\n",
    "#partial_dependence(gb, features=[0], X=X, percentiles=(0, 1), \n",
    "#grid_resolution=2) # doctest: +SKIP\n"
   ]
  }
 ],
 "metadata": {
  "celltoolbar": "Edit Metadata",
  "kernelspec": {
   "display_name": "Python 3",
   "language": "python",
   "name": "python3"
  },
  "language_info": {
   "codemirror_mode": {
    "name": "ipython",
    "version": 3
   },
   "file_extension": ".py",
   "mimetype": "text/x-python",
   "name": "python",
   "nbconvert_exporter": "python",
   "pygments_lexer": "ipython3",
   "version": "3.7.3"
  }
 },
 "nbformat": 4,
 "nbformat_minor": 2
}
