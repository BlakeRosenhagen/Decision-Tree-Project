{
 "cells": [
  {
   "cell_type": "code",
   "execution_count": null,
   "metadata": {},
   "outputs": [],
   "source": [
    "#pip install sklearn\n",
    "#print(sklearn.__version__)"
   ]
  },
  {
   "cell_type": "code",
   "execution_count": 1,
   "metadata": {},
   "outputs": [
    {
     "name": "stdout",
     "output_type": "stream",
     "text": [
      "Automatically created module for IPython interactive environment\n"
     ]
    }
   ],
   "source": [
    "print(__doc__)\n",
    "import numpy as np\n",
    "import pandas as pd\n",
    "import matplotlib.pyplot as plt\n",
    "import sklearn\n",
    "from sklearn.model_selection import train_test_split\n",
    "from sklearn.datasets import load_breast_cancer\n",
    "from sklearn.tree import DecisionTreeClassifier\n",
    "from sklearn import metrics"
   ]
  },
  {
   "cell_type": "code",
   "execution_count": 15,
   "metadata": {},
   "outputs": [],
   "source": [
    "def underline_key(phrase_u, phrase_nu):\n",
    "    sp0, sp1 = \"\\033[1;;4m\", \"\\033[1;;2m\" \n",
    "    text_u = sp0+phrase_u+sp1+\" \"+phrase_nu\n",
    "    print(text_u)"
   ]
  },
  {
   "cell_type": "markdown",
   "metadata": {},
   "source": [
    "Minimal cost complexity pruning:\n",
    "\n",
    "Finding nodes with smallest effective alpah are first to be pruned\n"
   ]
  },
  {
   "cell_type": "code",
   "execution_count": 145,
   "metadata": {},
   "outputs": [
    {
     "data": {
      "text/html": [
       "<div>\n",
       "<style scoped>\n",
       "    .dataframe tbody tr th:only-of-type {\n",
       "        vertical-align: middle;\n",
       "    }\n",
       "\n",
       "    .dataframe tbody tr th {\n",
       "        vertical-align: top;\n",
       "    }\n",
       "\n",
       "    .dataframe thead th {\n",
       "        text-align: right;\n",
       "    }\n",
       "</style>\n",
       "<table border=\"1\" class=\"dataframe\">\n",
       "  <thead>\n",
       "    <tr style=\"text-align: right;\">\n",
       "      <th></th>\n",
       "      <th>id</th>\n",
       "      <th>diagnosis</th>\n",
       "      <th>diagnosis_num</th>\n",
       "      <th>radius_mean</th>\n",
       "      <th>texture_mean</th>\n",
       "      <th>perimeter_mean</th>\n",
       "      <th>area_mean</th>\n",
       "      <th>smoothness_mean</th>\n",
       "      <th>compactness_mean</th>\n",
       "      <th>concavity_mean</th>\n",
       "      <th>...</th>\n",
       "      <th>radius_worst</th>\n",
       "      <th>texture_worst</th>\n",
       "      <th>perimeter_worst</th>\n",
       "      <th>area_worst</th>\n",
       "      <th>smoothness_worst</th>\n",
       "      <th>compactness_worst</th>\n",
       "      <th>concavity_worst</th>\n",
       "      <th>concave_points_worst</th>\n",
       "      <th>symmetry_worst</th>\n",
       "      <th>fractal_dimension_worst</th>\n",
       "    </tr>\n",
       "  </thead>\n",
       "  <tbody>\n",
       "    <tr>\n",
       "      <th>0</th>\n",
       "      <td>842302</td>\n",
       "      <td>M</td>\n",
       "      <td>0</td>\n",
       "      <td>17.99</td>\n",
       "      <td>10.38</td>\n",
       "      <td>122.80</td>\n",
       "      <td>1001.0</td>\n",
       "      <td>0.11840</td>\n",
       "      <td>0.27760</td>\n",
       "      <td>0.3001</td>\n",
       "      <td>...</td>\n",
       "      <td>25.38</td>\n",
       "      <td>17.33</td>\n",
       "      <td>184.60</td>\n",
       "      <td>2019.0</td>\n",
       "      <td>0.1622</td>\n",
       "      <td>0.6656</td>\n",
       "      <td>0.7119</td>\n",
       "      <td>0.2654</td>\n",
       "      <td>0.4601</td>\n",
       "      <td>0.11890</td>\n",
       "    </tr>\n",
       "    <tr>\n",
       "      <th>1</th>\n",
       "      <td>842517</td>\n",
       "      <td>M</td>\n",
       "      <td>0</td>\n",
       "      <td>20.57</td>\n",
       "      <td>17.77</td>\n",
       "      <td>132.90</td>\n",
       "      <td>1326.0</td>\n",
       "      <td>0.08474</td>\n",
       "      <td>0.07864</td>\n",
       "      <td>0.0869</td>\n",
       "      <td>...</td>\n",
       "      <td>24.99</td>\n",
       "      <td>23.41</td>\n",
       "      <td>158.80</td>\n",
       "      <td>1956.0</td>\n",
       "      <td>0.1238</td>\n",
       "      <td>0.1866</td>\n",
       "      <td>0.2416</td>\n",
       "      <td>0.1860</td>\n",
       "      <td>0.2750</td>\n",
       "      <td>0.08902</td>\n",
       "    </tr>\n",
       "    <tr>\n",
       "      <th>2</th>\n",
       "      <td>84300903</td>\n",
       "      <td>M</td>\n",
       "      <td>0</td>\n",
       "      <td>19.69</td>\n",
       "      <td>21.25</td>\n",
       "      <td>130.00</td>\n",
       "      <td>1203.0</td>\n",
       "      <td>0.10960</td>\n",
       "      <td>0.15990</td>\n",
       "      <td>0.1974</td>\n",
       "      <td>...</td>\n",
       "      <td>23.57</td>\n",
       "      <td>25.53</td>\n",
       "      <td>152.50</td>\n",
       "      <td>1709.0</td>\n",
       "      <td>0.1444</td>\n",
       "      <td>0.4245</td>\n",
       "      <td>0.4504</td>\n",
       "      <td>0.2430</td>\n",
       "      <td>0.3613</td>\n",
       "      <td>0.08758</td>\n",
       "    </tr>\n",
       "    <tr>\n",
       "      <th>3</th>\n",
       "      <td>84348301</td>\n",
       "      <td>M</td>\n",
       "      <td>0</td>\n",
       "      <td>11.42</td>\n",
       "      <td>20.38</td>\n",
       "      <td>77.58</td>\n",
       "      <td>386.1</td>\n",
       "      <td>0.14250</td>\n",
       "      <td>0.28390</td>\n",
       "      <td>0.2414</td>\n",
       "      <td>...</td>\n",
       "      <td>14.91</td>\n",
       "      <td>26.50</td>\n",
       "      <td>98.87</td>\n",
       "      <td>567.7</td>\n",
       "      <td>0.2098</td>\n",
       "      <td>0.8663</td>\n",
       "      <td>0.6869</td>\n",
       "      <td>0.2575</td>\n",
       "      <td>0.6638</td>\n",
       "      <td>0.17300</td>\n",
       "    </tr>\n",
       "    <tr>\n",
       "      <th>4</th>\n",
       "      <td>84358402</td>\n",
       "      <td>M</td>\n",
       "      <td>0</td>\n",
       "      <td>20.29</td>\n",
       "      <td>14.34</td>\n",
       "      <td>135.10</td>\n",
       "      <td>1297.0</td>\n",
       "      <td>0.10030</td>\n",
       "      <td>0.13280</td>\n",
       "      <td>0.1980</td>\n",
       "      <td>...</td>\n",
       "      <td>22.54</td>\n",
       "      <td>16.67</td>\n",
       "      <td>152.20</td>\n",
       "      <td>1575.0</td>\n",
       "      <td>0.1374</td>\n",
       "      <td>0.2050</td>\n",
       "      <td>0.4000</td>\n",
       "      <td>0.1625</td>\n",
       "      <td>0.2364</td>\n",
       "      <td>0.07678</td>\n",
       "    </tr>\n",
       "  </tbody>\n",
       "</table>\n",
       "<p>5 rows × 33 columns</p>\n",
       "</div>"
      ],
      "text/plain": [
       "         id diagnosis  diagnosis_num  radius_mean  texture_mean  \\\n",
       "0    842302         M              0        17.99         10.38   \n",
       "1    842517         M              0        20.57         17.77   \n",
       "2  84300903         M              0        19.69         21.25   \n",
       "3  84348301         M              0        11.42         20.38   \n",
       "4  84358402         M              0        20.29         14.34   \n",
       "\n",
       "   perimeter_mean  area_mean  smoothness_mean  compactness_mean  \\\n",
       "0          122.80     1001.0          0.11840           0.27760   \n",
       "1          132.90     1326.0          0.08474           0.07864   \n",
       "2          130.00     1203.0          0.10960           0.15990   \n",
       "3           77.58      386.1          0.14250           0.28390   \n",
       "4          135.10     1297.0          0.10030           0.13280   \n",
       "\n",
       "   concavity_mean  ...  radius_worst  texture_worst  perimeter_worst  \\\n",
       "0          0.3001  ...         25.38          17.33           184.60   \n",
       "1          0.0869  ...         24.99          23.41           158.80   \n",
       "2          0.1974  ...         23.57          25.53           152.50   \n",
       "3          0.2414  ...         14.91          26.50            98.87   \n",
       "4          0.1980  ...         22.54          16.67           152.20   \n",
       "\n",
       "   area_worst  smoothness_worst  compactness_worst  concavity_worst  \\\n",
       "0      2019.0            0.1622             0.6656           0.7119   \n",
       "1      1956.0            0.1238             0.1866           0.2416   \n",
       "2      1709.0            0.1444             0.4245           0.4504   \n",
       "3       567.7            0.2098             0.8663           0.6869   \n",
       "4      1575.0            0.1374             0.2050           0.4000   \n",
       "\n",
       "   concave_points_worst  symmetry_worst  fractal_dimension_worst  \n",
       "0                0.2654          0.4601                  0.11890  \n",
       "1                0.1860          0.2750                  0.08902  \n",
       "2                0.2430          0.3613                  0.08758  \n",
       "3                0.2575          0.6638                  0.17300  \n",
       "4                0.1625          0.2364                  0.07678  \n",
       "\n",
       "[5 rows x 33 columns]"
      ]
     },
     "execution_count": 145,
     "metadata": {},
     "output_type": "execute_result"
    }
   ],
   "source": [
    "df_data = pd.read_csv(\"data-breast-cancer-wisconsin-QueryResult.csv\")\n",
    "df_data.head()"
   ]
  },
  {
   "cell_type": "code",
   "execution_count": 146,
   "metadata": {},
   "outputs": [
    {
     "name": "stdout",
     "output_type": "stream",
     "text": [
      "['id', 'diagnosis', 'diagnosis_num', 'radius_mean', 'texture_mean', 'perimeter_mean', 'area_mean', 'smoothness_mean', 'compactness_mean', 'concavity_mean', 'concave_points_mean', 'symmetry_mean', 'fractal_dimension_mean', 'radius_se', 'texture_se', 'perimeter_se', 'area_se', 'smoothness_se', 'compactness_se', 'concavity_se', 'concave_points_se', 'symmetry_se', 'fractal_dimension_se', 'radius_worst', 'texture_worst', 'perimeter_worst', 'area_worst', 'smoothness_worst', 'compactness_worst', 'concavity_worst', 'concave_points_worst', 'symmetry_worst', 'fractal_dimension_worst']\n"
     ]
    },
    {
     "data": {
      "text/plain": [
       "id                           int64\n",
       "diagnosis                   object\n",
       "diagnosis_num                int64\n",
       "radius_mean                float64\n",
       "texture_mean               float64\n",
       "perimeter_mean             float64\n",
       "area_mean                  float64\n",
       "smoothness_mean            float64\n",
       "compactness_mean           float64\n",
       "concavity_mean             float64\n",
       "concave_points_mean        float64\n",
       "symmetry_mean              float64\n",
       "fractal_dimension_mean     float64\n",
       "radius_se                  float64\n",
       "texture_se                 float64\n",
       "perimeter_se               float64\n",
       "area_se                    float64\n",
       "smoothness_se              float64\n",
       "compactness_se             float64\n",
       "concavity_se               float64\n",
       "concave_points_se          float64\n",
       "symmetry_se                float64\n",
       "fractal_dimension_se       float64\n",
       "radius_worst               float64\n",
       "texture_worst              float64\n",
       "perimeter_worst            float64\n",
       "area_worst                 float64\n",
       "smoothness_worst           float64\n",
       "compactness_worst          float64\n",
       "concavity_worst            float64\n",
       "concave_points_worst       float64\n",
       "symmetry_worst             float64\n",
       "fractal_dimension_worst    float64\n",
       "dtype: object"
      ]
     },
     "execution_count": 146,
     "metadata": {},
     "output_type": "execute_result"
    }
   ],
   "source": [
    "print(list(df_data.columns.values))\n",
    "df_data.dtypes"
   ]
  },
  {
   "cell_type": "code",
   "execution_count": 147,
   "metadata": {},
   "outputs": [
    {
     "name": "stdout",
     "output_type": "stream",
     "text": [
      "\u001b[1;;4mX_train shape:\u001b[1;;2m (426, 30)\n",
      "\u001b[1;;4my_train shape:\u001b[1;;2m (426,)\n",
      "\u001b[1;;4mX_test shape:\u001b[1;;2m (143, 30)\n",
      "\u001b[1;;4my_test shape:\u001b[1;;2m (143,)\n"
     ]
    }
   ],
   "source": [
    "\n",
    "#MODIFY THE FOLLIWING TWO LINES FOR DIFFERENT DATA SET\n",
    "df_data_x = df_data.iloc[:,3:]\n",
    "df_data_y = df_data.iloc[:,2]\n",
    "# test/training x/y variables used for multiple parts of code\n",
    "X_train, X_test, y_train, y_test = train_test_split(df_data_x, df_data_y, random_state = 0)\n",
    "underline_key(\"X_train shape:\",str(X_train.shape))\n",
    "underline_key(\"y_train shape:\",str(y_train.shape))\n",
    "underline_key(\"X_test shape:\",str(X_test.shape))\n",
    "underline_key(\"y_test shape:\",str(y_test.shape))"
   ]
  },
  {
   "cell_type": "markdown",
   "metadata": {},
   "source": [
    "### Here on out, modification of code in not necessary for standard result."
   ]
  },
  {
   "cell_type": "code",
   "execution_count": 148,
   "metadata": {},
   "outputs": [],
   "source": [
    "model = DecisionTreeClassifier(random_state=0)\n",
    "path = model.cost_complexity_pruning_path(X_train, y_train)\n",
    "#access return variables through dot notation\n",
    "ccp_alphas, impurities = path.ccp_alphas, path.impurities"
   ]
  },
  {
   "cell_type": "code",
   "execution_count": 149,
   "metadata": {},
   "outputs": [
    {
     "name": "stdout",
     "output_type": "stream",
     "text": [
      "[[0.         0.        ]\n",
      " [0.00226647 0.00453294]\n",
      " [0.00464743 0.01847522]\n",
      " [0.0046598  0.02313502]\n",
      " [0.0056338  0.02876883]\n",
      " [0.00704225 0.03581108]\n",
      " [0.00784194 0.04365302]\n",
      " [0.00911402 0.05276704]\n",
      " [0.01144366 0.0642107 ]\n",
      " [0.018988   0.0831987 ]\n",
      " [0.02314163 0.10634033]\n",
      " [0.03422475 0.14056508]\n",
      " [0.32729844 0.46786352]]\n",
      "\u001b[1;;4mLength of ccp_alphas:\u001b[1;;2m 13\n",
      "\u001b[1;;4mLength of impurities:\u001b[1;;2m 13\n"
     ]
    }
   ],
   "source": [
    "print(np.array(list(zip(ccp_alphas,impurities))))\n",
    "underline_key(\"Length of ccp_alphas:\", str(len(ccp_alphas)))\n",
    "underline_key(\"Length of impurities:\", str(len(impurities)))\n"
   ]
  },
  {
   "cell_type": "code",
   "execution_count": 150,
   "metadata": {},
   "outputs": [
    {
     "data": {
      "text/plain": [
       "Text(0.5,1,'Total Impurity vs effective alpha for training set')"
      ]
     },
     "execution_count": 150,
     "metadata": {},
     "output_type": "execute_result"
    },
    {
     "data": {
      "image/png": "[encoded data removed]",
      "text/plain": [
       "<Figure size 432x288 with 1 Axes>"
      ]
     },
     "metadata": {
      "needs_background": "light"
     },
     "output_type": "display_data"
    },
    {
     "data": {
      "image/png": "[encoded data removed]",
      "text/plain": [
       "<Figure size 432x288 with 1 Axes>"
      ]
     },
     "metadata": {
      "needs_background": "light"
     },
     "output_type": "display_data"
    }
   ],
   "source": [
    "fig, ax = plt.subplots()\n",
    "ax.plot(impurities[:-1], ccp_alphas[:-1], marker='o', drawstyle=\"steps-post\")\n",
    "ax.set_xlabel(\"total impurity of leaves\")\n",
    "ax.set_ylabel(\"effective alpha\")\n",
    "ax.set_title(\"Total Impurity vs effective alpha for training set\")\n",
    "\n",
    "fig, ax = plt.subplots()\n",
    "ax.plot(ccp_alphas[:-1], impurities[:-1], marker='o', drawstyle=\"steps-post\")\n",
    "ax.set_xlabel(\"effective alpha\")\n",
    "ax.set_ylabel(\"total impurity of leaves\")\n",
    "ax.set_title(\"Total Impurity vs effective alpha for training set\")"
   ]
  },
  {
   "cell_type": "code",
   "execution_count": 151,
   "metadata": {},
   "outputs": [],
   "source": [
    "def add_to_list(list_a,new_item):\n",
    "    list_a.append(new_item)"
   ]
  },
  {
   "cell_type": "code",
   "execution_count": 152,
   "metadata": {},
   "outputs": [
    {
     "name": "stdout",
     "output_type": "stream",
     "text": [
      "Number of nodes in the last tree is: 1 with ccp_alpha: 0.3272984419327777\n"
     ]
    }
   ],
   "source": [
    "clfs = []\n",
    "for ccp_alpha in ccp_alphas:\n",
    "    clf = DecisionTreeClassifier(random_state=0, ccp_alpha=ccp_alpha)\n",
    "    clf.fit(X_train, y_train)\n",
    "    #print(clf)\n",
    "    add_to_list(clfs,clf)\n",
    "print(\"Number of nodes in the last tree is: {} with ccp_alpha: {}\".format(\n",
    "      clfs[-1].tree_.node_count, ccp_alphas[-1]))"
   ]
  },
  {
   "cell_type": "code",
   "execution_count": 153,
   "metadata": {},
   "outputs": [],
   "source": [
    "clfs = clfs[:-1]\n",
    "ccp_alphas = ccp_alphas[:-1]\n",
    "node_counts = [clf.tree_.node_count for clf in clfs]\n",
    "depths = [clf.tree_.max_depth for clf in clfs]"
   ]
  },
  {
   "cell_type": "code",
   "execution_count": 154,
   "metadata": {
    "scrolled": true
   },
   "outputs": [
    {
     "data": {
      "image/png": "[encoded data removed]",
      "text/plain": [
       "<Figure size 432x288 with 2 Axes>"
      ]
     },
     "metadata": {
      "needs_background": "light"
     },
     "output_type": "display_data"
    }
   ],
   "source": [
    "fig, ax = plt.subplots(2,1)\n",
    "#Generate two plots, number of nodes , depth vs alpha\n",
    "#First plot\n",
    "ax[0].plot(ccp_alphas, node_counts, marker='h', drawstyle='steps-post')\n",
    "ax[0].set_xlabel(\"alpha\")\n",
    "ax[0].set_ylabel(\"number of nodes\")\n",
    "ax[0].set_title(\"Number of Nodes vs alpha\")\n",
    "#Second plot\n",
    "ax[1].plot(ccp_alphas, depths, marker='d', drawstyle='steps-post')\n",
    "ax[1].set_xlabel(\"alpha\")\n",
    "ax[1].set_ylabel(\"depth of tree\")\n",
    "ax[1].set_title(\"Depth vs alpha\")\n",
    "fig.tight_layout()"
   ]
  },
  {
   "cell_type": "code",
   "execution_count": 155,
   "metadata": {},
   "outputs": [],
   "source": [
    "train_scores = [clf.score(X_train, y_train) for clf in clfs]\n",
    "test_scores = [clf.score(X_test, y_test) for clf in clfs]\n",
    "score_list_index = range(len(train_scores))\n",
    "\n",
    "accuracy_gaps = []\n",
    "for i in score_list_index:\n",
    "    accuracy_gap = train_scores[i] - test_scores[i]\n",
    "    accuracy_gaps.append(accuracy_gap)\n",
    "    \n",
    "#wont be ploted\n",
    "accuracy_ratios = []\n",
    "for i in score_list_index:\n",
    "    accuracy_ratio = train_scores[i] / test_scores[i]\n",
    "    accuracy_ratios.append(accuracy_ratio)"
   ]
  },
  {
   "cell_type": "code",
   "execution_count": 156,
   "metadata": {},
   "outputs": [
    {
     "data": {
      "text/html": [
       "<div>\n",
       "<style scoped>\n",
       "    .dataframe tbody tr th:only-of-type {\n",
       "        vertical-align: middle;\n",
       "    }\n",
       "\n",
       "    .dataframe tbody tr th {\n",
       "        vertical-align: top;\n",
       "    }\n",
       "\n",
       "    .dataframe thead th {\n",
       "        text-align: right;\n",
       "    }\n",
       "</style>\n",
       "<table border=\"1\" class=\"dataframe\">\n",
       "  <thead>\n",
       "    <tr style=\"text-align: right;\">\n",
       "      <th></th>\n",
       "      <th>ccp_alphas</th>\n",
       "      <th>train_scores</th>\n",
       "      <th>test_scores</th>\n",
       "      <th>accuracy_gaps</th>\n",
       "      <th>accuracy_ratios</th>\n",
       "    </tr>\n",
       "  </thead>\n",
       "  <tbody>\n",
       "    <tr>\n",
       "      <th>0</th>\n",
       "      <td>0.000000</td>\n",
       "      <td>1.000000</td>\n",
       "      <td>0.881119</td>\n",
       "      <td>0.118881</td>\n",
       "      <td>1.134921</td>\n",
       "    </tr>\n",
       "    <tr>\n",
       "      <th>1</th>\n",
       "      <td>0.002266</td>\n",
       "      <td>0.997653</td>\n",
       "      <td>0.888112</td>\n",
       "      <td>0.109541</td>\n",
       "      <td>1.123341</td>\n",
       "    </tr>\n",
       "    <tr>\n",
       "      <th>2</th>\n",
       "      <td>0.004647</td>\n",
       "      <td>0.990610</td>\n",
       "      <td>0.916084</td>\n",
       "      <td>0.074526</td>\n",
       "      <td>1.081353</td>\n",
       "    </tr>\n",
       "    <tr>\n",
       "      <th>3</th>\n",
       "      <td>0.004660</td>\n",
       "      <td>0.988263</td>\n",
       "      <td>0.916084</td>\n",
       "      <td>0.072179</td>\n",
       "      <td>1.078791</td>\n",
       "    </tr>\n",
       "    <tr>\n",
       "      <th>4</th>\n",
       "      <td>0.005634</td>\n",
       "      <td>0.983568</td>\n",
       "      <td>0.916084</td>\n",
       "      <td>0.067484</td>\n",
       "      <td>1.073666</td>\n",
       "    </tr>\n",
       "    <tr>\n",
       "      <th>5</th>\n",
       "      <td>0.007042</td>\n",
       "      <td>0.978873</td>\n",
       "      <td>0.923077</td>\n",
       "      <td>0.055796</td>\n",
       "      <td>1.060446</td>\n",
       "    </tr>\n",
       "    <tr>\n",
       "      <th>6</th>\n",
       "      <td>0.007842</td>\n",
       "      <td>0.976526</td>\n",
       "      <td>0.930070</td>\n",
       "      <td>0.046456</td>\n",
       "      <td>1.049949</td>\n",
       "    </tr>\n",
       "    <tr>\n",
       "      <th>7</th>\n",
       "      <td>0.009114</td>\n",
       "      <td>0.971831</td>\n",
       "      <td>0.930070</td>\n",
       "      <td>0.041761</td>\n",
       "      <td>1.044901</td>\n",
       "    </tr>\n",
       "    <tr>\n",
       "      <th>8</th>\n",
       "      <td>0.011444</td>\n",
       "      <td>0.964789</td>\n",
       "      <td>0.937063</td>\n",
       "      <td>0.027726</td>\n",
       "      <td>1.029588</td>\n",
       "    </tr>\n",
       "    <tr>\n",
       "      <th>9</th>\n",
       "      <td>0.018988</td>\n",
       "      <td>0.955399</td>\n",
       "      <td>0.916084</td>\n",
       "      <td>0.039315</td>\n",
       "      <td>1.042917</td>\n",
       "    </tr>\n",
       "    <tr>\n",
       "      <th>10</th>\n",
       "      <td>0.023142</td>\n",
       "      <td>0.931925</td>\n",
       "      <td>0.916084</td>\n",
       "      <td>0.015841</td>\n",
       "      <td>1.017292</td>\n",
       "    </tr>\n",
       "    <tr>\n",
       "      <th>11</th>\n",
       "      <td>0.034225</td>\n",
       "      <td>0.922535</td>\n",
       "      <td>0.881119</td>\n",
       "      <td>0.041416</td>\n",
       "      <td>1.047004</td>\n",
       "    </tr>\n",
       "  </tbody>\n",
       "</table>\n",
       "</div>"
      ],
      "text/plain": [
       "    ccp_alphas  train_scores  test_scores  accuracy_gaps  accuracy_ratios\n",
       "0     0.000000      1.000000     0.881119       0.118881         1.134921\n",
       "1     0.002266      0.997653     0.888112       0.109541         1.123341\n",
       "2     0.004647      0.990610     0.916084       0.074526         1.081353\n",
       "3     0.004660      0.988263     0.916084       0.072179         1.078791\n",
       "4     0.005634      0.983568     0.916084       0.067484         1.073666\n",
       "5     0.007042      0.978873     0.923077       0.055796         1.060446\n",
       "6     0.007842      0.976526     0.930070       0.046456         1.049949\n",
       "7     0.009114      0.971831     0.930070       0.041761         1.044901\n",
       "8     0.011444      0.964789     0.937063       0.027726         1.029588\n",
       "9     0.018988      0.955399     0.916084       0.039315         1.042917\n",
       "10    0.023142      0.931925     0.916084       0.015841         1.017292\n",
       "11    0.034225      0.922535     0.881119       0.041416         1.047004"
      ]
     },
     "execution_count": 156,
     "metadata": {},
     "output_type": "execute_result"
    }
   ],
   "source": [
    "# Creating data frame from list for easier access\n",
    "dataframe_data = [ccp_alphas, train_scores, test_scores, accuracy_gaps, accuracy_ratios]\n",
    "scoring_columns = [\"ccp_alphas\",\"train_scores\", \"test_scores\", \"accuracy_gaps\", \"accuracy_ratios\"]\n",
    "df1 = pd.DataFrame(data = dataframe_data)\n",
    "df2 = df1.T\n",
    "df2.columns = scoring_columns\n",
    "df2"
   ]
  },
  {
   "cell_type": "markdown",
   "metadata": {},
   "source": [
    "### Select minimum alpha as best alpha"
   ]
  },
  {
   "cell_type": "code",
   "execution_count": 157,
   "metadata": {},
   "outputs": [],
   "source": [
    "#defining variables for print output\n",
    "best_alpha_index = test_scores.index(max(test_scores))\n",
    "best_alpha = df2['ccp_alphas'][best_alpha_index]\n",
    "best_alpha_test_score = df2['test_scores'][best_alpha_index]\n",
    "best_alpha_accuracy_gap = df2['accuracy_gaps'][best_alpha_index]\n",
    "best_alpha_accuracy_ratio = df2['accuracy_ratios'][best_alpha_index]"
   ]
  },
  {
   "cell_type": "code",
   "execution_count": 158,
   "metadata": {},
   "outputs": [],
   "source": [
    "#best_alpha_index = test_scores.index(max(test_scores))\n",
    "#best_alpha = ccp_alphas[best_alpha_index]\n",
    "#best_alpha_test_score = test_scores[best_alpha_index]\n",
    "#best_alpha_accuracy_gap = accuracy_gaps[best_alpha_index]\n",
    "#best_alpha_accuracy_ratio = accuracy_ratios[best_alpha_index]"
   ]
  },
  {
   "cell_type": "code",
   "execution_count": 159,
   "metadata": {},
   "outputs": [
    {
     "data": {
      "image/png": "[encoded data removed]",
      "text/plain": [
       "<Figure size 432x288 with 2 Axes>"
      ]
     },
     "metadata": {
      "needs_background": "light"
     },
     "output_type": "display_data"
    }
   ],
   "source": [
    "#Accuracy double plot\n",
    "fig, ax1 = plt.subplots()\n",
    "\n",
    "ax1.set_xlabel('alpha')\n",
    "ax1.set_ylabel('accuracy', color='blue')\n",
    "ax1.set_title(\"Accuracy, Accuracy Gap vs alpha for training and testing sets\")\n",
    "ax1.plot(ccp_alphas, train_scores, marker='o', label='train', color='blue')\n",
    "ax1.plot(ccp_alphas, test_scores, marker='o', label='test', color='orange')\n",
    "plt.axvline(x=ccp_alphas[best_alpha_index], linestyle='--', color='red')\n",
    "ax1.legend()\n",
    "#fig.text(text='This is the figure title', fontsize=12)\n",
    "ax1.tick_params(axis='y', labelcolor='blue')\n",
    "\n",
    "ax2 = ax1.twinx()\n",
    "\n",
    "ax2.set_ylabel('accuracy gap', color='green')\n",
    "ax2.plot(ccp_alphas, accuracy_gaps, marker='x', label='accuracy gap',  color='green')\n",
    "ax2.legend(loc='upper center')\n",
    "ax2.tick_params(axis='y', labelcolor='green')\n"
   ]
  },
  {
   "cell_type": "markdown",
   "metadata": {},
   "source": [
    "## Selected Tree Information"
   ]
  },
  {
   "cell_type": "code",
   "execution_count": 160,
   "metadata": {},
   "outputs": [
    {
     "name": "stdout",
     "output_type": "stream",
     "text": [
      "\u001b[1;;4mBest alpha:\u001b[1;;2m 0.011443661971830986\n",
      "\u001b[1;;4mBest alpha's test score\u001b[1;;2m 0.9370629370629371\n",
      "\u001b[1;;4mBest alpha's accuracy gap:\u001b[1;;2m 0.02772579533142916\n",
      "\u001b[1;;4mBest alpha's accuracy ratio:\u001b[1;;2m 1.0295879756148834\n"
     ]
    }
   ],
   "source": [
    "best_x, best_y, best_g, best_r = str(best_alpha), str(best_alpha_test_score), str(best_alpha_accuracy_gap), str(best_alpha_accuracy_ratio)\n",
    "\n",
    "underline_key(\"Best alpha:\", best_x)\n",
    "underline_key(\"Best alpha's test score\", best_y)\n",
    "underline_key(\"Best alpha's accuracy gap:\", best_g)\n",
    "underline_key(\"Best alpha's accuracy ratio:\", best_r)"
   ]
  },
  {
   "cell_type": "markdown",
   "metadata": {},
   "source": [
    "A training accuracy that is subjectively far higher than test accuracy indicates over-fitting. - Andrew Ng"
   ]
  },
  {
   "cell_type": "code",
   "execution_count": 161,
   "metadata": {},
   "outputs": [
    {
     "name": "stdout",
     "output_type": "stream",
     "text": [
      "\u001b[1;;4mSelected Decision Tree Parameters\u001b[1;;2m DecisionTreeClassifier(ccp_alpha=0.011443661971830986, class_weight=None,\n",
      "                       criterion='gini', max_depth=None, max_features=None,\n",
      "                       max_leaf_nodes=None, min_impurity_decrease=0.0,\n",
      "                       min_impurity_split=None, min_samples_leaf=1,\n",
      "                       min_samples_split=2, min_weight_fraction_leaf=0.0,\n",
      "                       presort='deprecated', random_state=0, splitter='best')\n"
     ]
    }
   ],
   "source": [
    "underline_key(\"Selected Decision Tree Parameters\", str(clfs[best_alpha_index]))       "
   ]
  },
  {
   "cell_type": "code",
   "execution_count": 174,
   "metadata": {},
   "outputs": [
    {
     "name": "stdout",
     "output_type": "stream",
     "text": [
      "\u001b[1;;4mSelected Decision Tree Structure\u001b[1;;2m \n",
      "|--- concave_points_mean <= 0.05\n",
      "|   |--- area_worst <= 952.90\n",
      "|   |   |--- weights: [7.00, 245.00] class: 1\n",
      "|   |--- area_worst >  952.90\n",
      "|   |   |--- weights: [6.00, 2.00] class: 0\n",
      "|--- concave_points_mean >  0.05\n",
      "|   |--- area_worst <= 785.80\n",
      "|   |   |--- texture_worst <= 23.74\n",
      "|   |   |   |--- weights: [0.00, 14.00] class: 1\n",
      "|   |   |--- texture_worst >  23.74\n",
      "|   |   |   |--- weights: [13.00, 3.00] class: 0\n",
      "|   |--- area_worst >  785.80\n",
      "|   |   |--- weights: [133.00, 3.00] class: 0\n",
      "\n"
     ]
    }
   ],
   "source": [
    "underline_key(\"Selected Decision Tree Structure\",\"\")\n",
    "from sklearn.tree import export_text\n",
    "\n",
    "\n",
    "\n",
    "\n",
    "\n",
    "#SET PARAMETERS!!!!! FEATURE NAMES, CLASS NAMES\n",
    "feature_names = list(df_data.columns.values[3:])\n",
    "class_names = list(df_data.diagnosis_num.unique())\n",
    "r = export_text(clfs[best_alpha_index], feature_names=feature_names, max_depth=100, spacing=3, show_weights='True')\n",
    "print(r)"
   ]
  },
  {
   "cell_type": "markdown",
   "metadata": {},
   "source": [
    "## Exporting\n",
    "### plot tree method - straight to inline vizualization\n",
    "https://scikit-learn.org/stable/modules/generated/sklearn.tree.plot_tree.html\n",
    "### .dot method - saved file that is called upon later to create vizualization\n",
    "https://scikit-learn.org/stable/modules/generated/sklearn.tree.export_graphviz.html\n",
    "### export text method - inline text\n",
    "### export to png"
   ]
  },
  {
   "cell_type": "code",
   "execution_count": 199,
   "metadata": {},
   "outputs": [
    {
     "data": {
      "image/png": "[encoded data removed]",
      "text/plain": [
       "<Figure size 432x288 with 1 Axes>"
      ]
     },
     "metadata": {
      "needs_background": "light"
     },
     "output_type": "display_data"
    }
   ],
   "source": [
    "#version 1 from https://scikit-learn.org/stable/auto_examples/tree/plot_iris_dtc.html#sphx-glr-auto-examples-tree-plot-iris-dtc-py\n",
    "from sklearn.tree import plot_tree\n",
    "\n",
    "plt.figure()\n",
    "clf_selected = DecisionTreeClassifier(random_state=0, ccp_alpha=ccp_alphas[best_alpha_index]).fit(X_train, y_train)\n",
    "\n",
    "plot_tree(clf_selected, feature_names=None, filled=True,\n",
    "          node_ids=False, rotate=False, rounded=False, fontsize=None)\n",
    "plt.show()\n",
    "\n",
    "#this version possible allows for the matrix of graph by the unique matplot axis parameter in DecisionTreeClassifier\n",
    "#from \n",
    "#https://scikit-learn.org/stable/auto_examples/tree/plot_iris_dtc.html#sphx-glr-auto-examples-tree-plot-iris-dtc-py"
   ]
  },
  {
   "cell_type": "code",
   "execution_count": 164,
   "metadata": {},
   "outputs": [],
   "source": [
    "\n",
    "#from sklearn.tree import export_graphviz\n",
    "#import graphviz\n",
    "###LOOK AT PARAMETERS LATER\n",
    "##just export tree to .dot file\n",
    "##export_graphviz(clfs[best_alpha_index], out_file=\"mytree.dot\")\n",
    "##opening .dot file to be visualized in output\n",
    "##with open(\"mytree.dot\") as f:\n",
    "#    dot_graph = f.read()\n",
    "##graphviz.Source(dot_graph)\n",
    "##g = graphviz.Source(dot_graph)\n",
    "##g.view()\n",
    "##graph.format = \"png\"\n",
    "##graph.render(\"mytree.dot\")\n",
    "#graph = Source(tree.export_graphviz(best_alpha_index], out_file=None))\n",
    "#png_bytes = graph.pipe(format='png')\n",
    "#with open('dtree_pipe.png','wb') as f:\n",
    "#    f.write(png_bytes)\n",
    "\n",
    "#from IPython.display import Image\n",
    "#Image(png_bytes)\n"
   ]
  },
  {
   "cell_type": "code",
   "execution_count": 165,
   "metadata": {},
   "outputs": [],
   "source": [
    "\n",
    "##writes .dot file to png hopefully\n",
    "#(graph,) = pydot.graph_from_dot_file('somefile.dot')\n",
    "#graph.write_png('somefile.png')\n",
    "\n",
    "#------------------------------------------------------\n",
    "\n",
    "#graph = pydotplus.graph_from_dot_data(dot_data.getvalue()) \n",
    "#Image(graph.create_png())\n",
    "\n",
    "#------------------------------------\n",
    "#graph.format = \"png\"\n",
    "#graph.render(\"file_name\")\n"
   ]
  },
  {
   "cell_type": "code",
   "execution_count": 166,
   "metadata": {},
   "outputs": [],
   "source": [
    "#import pydotplus\n",
    "#graph = pydotplus.graph_from_dot_data(mytree.dot.getvalue()) \n",
    "#Image(graph.create_png())"
   ]
  },
  {
   "cell_type": "code",
   "execution_count": 167,
   "metadata": {},
   "outputs": [],
   "source": [
    "#X_ = iris.data\n",
    "#XX_=X[:,[1,2]]\n",
    "#print(X_)\n",
    "#print(XX_)\n"
   ]
  },
  {
   "cell_type": "code",
   "execution_count": 122,
   "metadata": {},
   "outputs": [
    {
     "name": "stdout",
     "output_type": "stream",
     "text": [
      "petal length (cm)\n"
     ]
    }
   ],
   "source": [
    "ifnx = iris.feature_names[pair[0]]\n",
    "print(ifnx)"
   ]
  },
  {
   "cell_type": "code",
   "execution_count": null,
   "metadata": {},
   "outputs": [],
   "source": [
    "#what is the difference between \n",
    "#data[[n]]\n",
    "#data[n][e]\n",
    "#data[n[e]]\n",
    "#data[:,[n,e]]\n"
   ]
  },
  {
   "cell_type": "code",
   "execution_count": 103,
   "metadata": {},
   "outputs": [
    {
     "name": "stdout",
     "output_type": "stream",
     "text": [
      "Automatically created module for IPython interactive environment\n"
     ]
    },
    {
     "data": {
      "text/plain": [
       "(0.0, 7.88, -0.9, 3.4800000000000044)"
      ]
     },
     "execution_count": 103,
     "metadata": {},
     "output_type": "execute_result"
    },
    {
     "data": {
      "image/png": "[encoded data removed]",
      "text/plain": [
       "<Figure size 432x288 with 6 Axes>"
      ]
     },
     "metadata": {
      "needs_background": "light"
     },
     "output_type": "display_data"
    }
   ],
   "source": [
    "print(__doc__)\n",
    "\n",
    "import numpy as np\n",
    "import matplotlib.pyplot as plt\n",
    "\n",
    "from sklearn.datasets import load_iris\n",
    "from sklearn.tree import DecisionTreeClassifier, plot_tree\n",
    "\n",
    "# Parameters\n",
    "n_classes = 3\n",
    "plot_colors = \"ryb\"\n",
    "plot_step = 0.02\n",
    "\n",
    "# Load data\n",
    "iris = load_iris()\n",
    "\n",
    "#this iterates pariidx as index? and pair as small list in the large list in reference to columns in dataset\n",
    "#for future insert combonation of [x_column, y_column]\n",
    "for pairidx, pair in enumerate([[0, 1], [0, 2], [0, 3],\n",
    "                                [1, 2], [1, 3], [2, 3]]):\n",
    "    # like said above, pair is used to select appropriate columns in dataset where : is selecting all rows\n",
    "    X = iris.data[:, pair]\n",
    "    y = iris.target\n",
    "\n",
    "    # Train\n",
    "    clf = DecisionTreeClassifier().fit(X, y)\n",
    "    \n",
    "    # Plot the decision boundary\n",
    "    #plt.subplot(nrows, ncols, index)\n",
    "    #pairidx is a index number from above to index small list out of large list\n",
    "    plt.subplot(2, 3, pairidx + 1)\n",
    "\n",
    "    # [:,] refers to the first out of two columns with all rows\n",
    "    x_min, x_max = X[:, 0].min() - 1, X[:, 0].max() + 1\n",
    "    y_min, y_max = X[:, 1].min() - 1, X[:, 1].max() + 1\n",
    "    #creates the granualarity of visual plot\n",
    "    xx, yy = np.meshgrid(np.arange(x_min, x_max, plot_step),\n",
    "                         np.arange(y_min, y_max, plot_step))\n",
    "    # makes layout of visualization to have form factor\n",
    "    plt.tight_layout(h_pad=0.5, w_pad=0.5, pad=2.5)\n",
    "    # ravel flattens array aka turn a list of lists into one continous list\n",
    "    Z = clf.predict(np.c_[xx.ravel(), yy.ravel()])\n",
    "    Z = Z.reshape(xx.shape)\n",
    "    #generate background rectangles\n",
    "        #X and Y must both be 2-D with the same shape as Z (e.g. created via numpy.meshgrid),\n",
    "            #or they must both be 1-D such that len(X) == M \n",
    "            #is the number of columns in Z and len(Y) == N is the number of rows in Z.\n",
    "            # Z is the height values over which the contour is drawn.\n",
    "    cs = plt.contourf(xx, yy, Z, cmap=plt.cm.RdYlBu)\n",
    "\n",
    "    plt.xlabel(iris.feature_names[pair[0]])\n",
    "    plt.ylabel(iris.feature_names[pair[1]])\n",
    "\n",
    "    # Plot the training points\n",
    "    for i, color in zip(range(n_classes), plot_colors):\n",
    "        idx = np.where(y == i)\n",
    "        plt.scatter(X[idx, 0], X[idx, 1], c=color, label=iris.target_names[i],\n",
    "                    cmap=plt.cm.RdYlBu, edgecolor='black', s=15)\n",
    "\n",
    "plt.suptitle(\"Decision surface of a decision tree using paired features\")\n",
    "plt.legend(loc='lower right', borderpad=0, handletextpad=0)\n",
    "plt.axis(\"tight\")"
   ]
  },
  {
   "cell_type": "markdown",
   "metadata": {},
   "source": [
    "## look at me \n",
    "future project addon idea: iterate over decision_tree_clasifier parameters\n",
    "print(clfs)\n"
   ]
  },
  {
   "cell_type": "markdown",
   "metadata": {},
   "source": [
    "for help https://bobswift.atlassian.net/wiki/spaces/GVIZ/pages/131924165/Graphviz+installation"
   ]
  }
 ],
 "metadata": {
  "celltoolbar": "Edit Metadata",
  "kernelspec": {
   "display_name": "Python 3",
   "language": "python",
   "name": "python3"
  },
  "language_info": {
   "codemirror_mode": {
    "name": "ipython",
    "version": 3
   },
   "file_extension": ".py",
   "mimetype": "text/x-python",
   "name": "python",
   "nbconvert_exporter": "python",
   "pygments_lexer": "ipython3",
   "version": "3.7.3"
  }
 },
 "nbformat": 4,
 "nbformat_minor": 2
}
