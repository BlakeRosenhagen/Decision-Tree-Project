{
 "cells": [
  {
   "cell_type": "code",
   "execution_count": 3,
   "metadata": {},
   "outputs": [],
   "source": [
    "import numpy as np\n",
    "import pandas as pd\n",
    "import plotly.graph_objects as go"
   ]
  },
  {
   "cell_type": "code",
   "execution_count": null,
   "metadata": {},
   "outputs": [],
   "source": [
    "surrogate convex loss --> minimize classification error\n",
    "cost complexity pruning --> minimize gini impurity"
   ]
  },
  {
   "cell_type": "code",
   "execution_count": 6,
   "metadata": {},
   "outputs": [],
   "source": [
    "def error(p):\n",
    "    return 1 - np.max([p, 1-p])"
   ]
  },
  {
   "cell_type": "code",
   "execution_count": 15,
   "metadata": {},
   "outputs": [
    {
     "data": {
      "text/plain": [
       "0.30000000000000004"
      ]
     },
     "execution_count": 15,
     "metadata": {},
     "output_type": "execute_result"
    }
   ],
   "source": [
    "error(.7)"
   ]
  },
  {
   "cell_type": "code",
   "execution_count": 4,
   "metadata": {},
   "outputs": [],
   "source": [
    "df = pd.read_csv(\"https://raw.githubusercontent.com/plotly/datasets/master/violin_data.csv\")"
   ]
  },
  {
   "cell_type": "code",
   "execution_count": 5,
   "metadata": {},
   "outputs": [
    {
     "data": {
      "text/plain": [
       "range(0, 4)"
      ]
     },
     "execution_count": 5,
     "metadata": {},
     "output_type": "execute_result"
    }
   ],
   "source": [
    "range(0,len(pd.unique(df['day'])))"
   ]
  },
  {
   "cell_type": "code",
   "execution_count": null,
   "metadata": {},
   "outputs": [],
   "source": [
    "\n",
    "df = pd.read_csv(\"https://raw.githubusercontent.com/plotly/datasets/master/violin_data.csv\")\n",
    "\n",
    "pointpos_male = [-0.9,-1.1,-0.6,-0.3]\n",
    "pointpos_female = [0.45,0.55,1,0.4]\n",
    "show_legend = [True,False,False,False]\n",
    "\n",
    "fig = go.Figure()\n",
    "\n",
    "for i in range(0,len(pd.unique(df['day']))):\n",
    "    fig.add_trace(go.Violin(x=df['day'][(df['sex'] == 'Male') &\n",
    "                                        (df['day'] == pd.unique(df['day'])[i])],\n",
    "                            y=df['total_bill'][(df['sex'] == 'Male')&\n",
    "                                               (df['day'] == pd.unique(df['day'])[i])],\n",
    "                            legendgroup='M', scalegroup='M', name='M',\n",
    "                            side='negative',\n",
    "                            pointpos=pointpos_male[i], # where to position points\n",
    "                            line_color='lightseagreen',\n",
    "                            showlegend=show_legend[i])\n",
    "             )\n",
    "    fig.add_trace(go.Violin(x=df['day'][(df['sex'] == 'Female') &\n",
    "                                        (df['day'] == pd.unique(df['day'])[i])],\n",
    "                            y=df['total_bill'][(df['sex'] == 'Female')&\n",
    "                                               (df['day'] == pd.unique(df['day'])[i])],\n",
    "                            legendgroup='F', scalegroup='F', name='F',\n",
    "                            side='positive',\n",
    "                            pointpos=pointpos_female[i],\n",
    "                            line_color='mediumpurple',\n",
    "                            showlegend=show_legend[i])\n",
    "             )\n",
    "\n",
    "# update characteristics shared by all traces\n",
    "fig.update_traces(meanline_visible=True,\n",
    "                  points='all', # show all points\n",
    "                  jitter=0.05,  # add some jitter on points for better visibility\n",
    "                  scalemode='count') #scale violin plot area with total count\n",
    "fig.update_layout(\n",
    "    title_text=\"Total bill distribution<br><i>scaled by number of bills per gender\",\n",
    "    violingap=0, violingroupgap=0, violinmode='overlay')\n",
    "fig.show()"
   ]
  }
 ],
 "metadata": {
  "kernelspec": {
   "display_name": "Python 3",
   "language": "python",
   "name": "python3"
  },
  "language_info": {
   "codemirror_mode": {
    "name": "ipython",
    "version": 3
   },
   "file_extension": ".py",
   "mimetype": "text/x-python",
   "name": "python",
   "nbconvert_exporter": "python",
   "pygments_lexer": "ipython3",
   "version": "3.7.3"
  }
 },
 "nbformat": 4,
 "nbformat_minor": 2
}
