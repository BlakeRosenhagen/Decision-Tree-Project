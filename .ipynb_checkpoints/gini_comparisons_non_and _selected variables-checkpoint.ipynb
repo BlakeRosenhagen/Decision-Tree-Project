{
 "cells": [
  {
   "cell_type": "markdown",
   "metadata": {},
   "source": [
    "# GINI Calculation"
   ]
  },
  {
   "cell_type": "markdown",
   "metadata": {},
   "source": [
    "Gini impurity is a measure of misclassification, which applies in a multiclass classifier context.\n",
    "\n",
    "Gini coefficient applies to binary classification and requires a classifier that can in some way rank examples according to the likelihood of being in a positive class."
   ]
  },
  {
   "cell_type": "code",
   "execution_count": 16,
   "metadata": {},
   "outputs": [],
   "source": [
    "import numpy as np\n",
    "import pandas as pd\n",
    "import plotly.graph_objects as go"
   ]
  },
  {
   "cell_type": "markdown",
   "metadata": {},
   "source": [
    "surrogate convex loss --> minimize classification error\n",
    "cost complexity pruning --> minimize gini impurity"
   ]
  },
  {
   "cell_type": "code",
   "execution_count": 6,
   "metadata": {},
   "outputs": [],
   "source": [
    "def error(p):\n",
    "    return 1 - np.max([p, 1-p])"
   ]
  },
  {
   "cell_type": "code",
   "execution_count": 40,
   "metadata": {},
   "outputs": [],
   "source": [
    "X_train, X_test, y_train, y_test = pd.read_pickle('./saved_variables/X_y_train_test')\n",
    "df_X, df_y, df_data = pd.read_pickle('saved_variables/df_X_y_data')\n",
    "feature_names, class_names = pd.read_pickle('saved_variables/feature_class_names')\n",
    "selected_features, df_X_sel, X_train_sel, X_test_sel = pd.read_pickle('saved_variables/selected')"
   ]
  },
  {
   "cell_type": "code",
   "execution_count": 19,
   "metadata": {},
   "outputs": [],
   "source": [
    "def GRLC(values):\n",
    "    '''\n",
    "    Calculate Gini index, Gini coefficient, Robin Hood index, and points of \n",
    "    Lorenz curve based on the instructions given in \n",
    "    www.peterrosenmai.com/lorenz-curve-graphing-tool-and-gini-coefficient-calculator\n",
    "    Lorenz curve values as given as lists of x & y points [[x1, x2], [y1, y2]]\n",
    "    @param values: List of values\n",
    "    @return: [Gini index, Gini coefficient, Robin Hood index, [Lorenz curve]] \n",
    "    '''\n",
    "    n = len(values)\n",
    "    assert(n > 0), 'Empty list of values'\n",
    "    sortedValues = sorted(values) #Sort smallest to largest\n",
    "\n",
    "    #Find cumulative totals\n",
    "    cumm = [0]\n",
    "    for i in range(n):\n",
    "        cumm.append(sum(sortedValues[0:(i + 1)]))\n",
    "\n",
    "    #Calculate Lorenz points\n",
    "    LorenzPoints = [[], []]\n",
    "    sumYs = 0           #Some of all y values\n",
    "    robinHoodIdx = -1   #Robin Hood index max(x_i, y_i)\n",
    "    for i in range(1, n + 2):\n",
    "        x = 100.0 * (i - 1)/n\n",
    "        y = 100.0 * (cumm[i - 1]/float(cumm[n]))\n",
    "        LorenzPoints[0].append(x)\n",
    "        LorenzPoints[1].append(y)\n",
    "        sumYs += y\n",
    "        maxX_Y = x - y\n",
    "        if maxX_Y > robinHoodIdx: robinHoodIdx = maxX_Y   \n",
    "    \n",
    "    giniIdx = 100 + (100 - 2 * sumYs)/n #Gini index \n",
    "\n",
    "    return [giniIdx, giniIdx/100, robinHoodIdx, LorenzPoints]"
   ]
  },
  {
   "cell_type": "code",
   "execution_count": 53,
   "metadata": {},
   "outputs": [
    {
     "name": "stdout",
     "output_type": "stream",
     "text": [
      "Series([], Name: feature_names, dtype: object)\n",
      "Series([], Name: feature_names, dtype: object)\n"
     ]
    }
   ],
   "source": [
    "df_gini = pd.DataFrame(columns=['feature_names', 'gini_index', 'gini_coeffiecient', 'robin_hood_index', 'lorenz_curve_points'])\n",
    "df_gini_sel = pd.DataFrame(columns=['feature_names', 'gini_index', 'gini_coeffiecient', 'robin_hood_index', 'lorenz_curve_points'])\n",
    "df_gs, df_Xs = [df_gini, df_gini_sel], [df_X, df_X_sel]\n",
    "for i in range(2):\n",
    "    print(df_gs[i]['feature_names'])\n",
    "    "
   ]
  },
  {
   "cell_type": "code",
   "execution_count": 23,
   "metadata": {},
   "outputs": [],
   "source": [
    "# selected features is calculated prior to person deciding if they will use them or not\n",
    "df_gini = pd.DataFrame(columns=['feature_names', 'gini_index', 'gini_coeffiecient', 'robin_hood_index', 'lorenz_curve_points'])\n",
    "df_gini_sel = pd.DataFrame(columns=['feature_names', 'gini_index', 'gini_coeffiecient', 'robin_hood_index', 'lorenz_curve_points'])\n",
    "\n",
    "df_gs, df_Xs = [df_gini, df_gini_sel], [df_X, df_X_sel]\n",
    "\n",
    "for i in range(2):\n",
    "\n",
    "    gini_index_list = []\n",
    "    gini_coeffiecient_list = []\n",
    "    robin_hood_index_list = []\n",
    "    lorenz_curve_point_list = []\n",
    "\n",
    "    column_index = range(len(df_Xs[1].columns))\n",
    "\n",
    "    for f in column_index:\n",
    "\n",
    "        result = GRLC(df_Xs[i][df_Xs[i].columns[f]])\n",
    "\n",
    "        gini_index_list.append(result[0])\n",
    "        gini_coeffiecient_list.append(result[1])\n",
    "        robin_hood_index_list.append(result[2])\n",
    "        lorenz_curve_point_list.append(result[3])\n",
    "    df_gs[i]['feature_names'] = feature_names\n",
    "    df_gs[i]['gini_index'] = gini_index_list\n",
    "    df_gs[i]['gini_coeffiecient'] = gini_coeffiecient_list\n",
    "    df_gs[i]['robin_hood_index'] = robin_hood_index_list\n",
    "    df_gs[i]['lorenz_curve_points'] = lorenz_curve_point_list"
   ]
  },
  {
   "cell_type": "markdown",
   "metadata": {},
   "source": [
    "# violin plot"
   ]
  },
  {
   "cell_type": "code",
   "execution_count": 31,
   "metadata": {},
   "outputs": [
    {
     "data": {
      "application/vnd.plotly.v1+json": {
       "config": {
        "plotlyServerURL": "https://plot.ly"
       },
       "data": [
        {
         "jitter": 0.05,
         "legendgroup": "M",
         "line": {
          "color": "blue"
         },
         "meanline": {
          "visible": true
         },
         "name": "M",
         "pointpos": -0.9,
         "points": "all",
         "scalegroup": "M",
         "scalemode": "count",
         "showlegend": true,
         "side": "negative",
         "type": "violin",
         "x": [
          "Sun",
          "Sun",
          "Sun",
          "Sun",
          "Sun",
          "Sun",
          "Sun",
          "Sun",
          "Sun",
          "Sun",
          "Sun",
          "Sun",
          "Sun",
          "Sun",
          "Sun",
          "Sun",
          "Sun",
          "Sun",
          "Sun",
          "Sun",
          "Sun",
          "Sun",
          "Sun",
          "Sun",
          "Sun",
          "Sun",
          "Sun",
          "Sun",
          "Sun",
          "Sun",
          "Sun",
          "Sun",
          "Sun",
          "Sun",
          "Sun",
          "Sun",
          "Sun",
          "Sun",
          "Sun",
          "Sun",
          "Sun",
          "Sun",
          "Sun",
          "Sun",
          "Sun",
          "Sun",
          "Sun",
          "Sun",
          "Sun",
          "Sun",
          "Sun",
          "Sun",
          "Sun",
          "Sun",
          "Sun",
          "Sun",
          "Sun",
          "Sun"
         ],
         "y": [
          10.34,
          21.01,
          23.68,
          25.29,
          8.77,
          26.88,
          15.04,
          14.78,
          10.27,
          15.42,
          18.43,
          21.58,
          16.29,
          17.46,
          13.94,
          9.68,
          30.4,
          18.29,
          22.23,
          32.4,
          28.55,
          18.04,
          12.54,
          9.94,
          25.56,
          19.49,
          38.07,
          23.95,
          29.93,
          14.07,
          13.13,
          17.26,
          24.55,
          19.77,
          48.17,
          16.49,
          21.5,
          12.66,
          13.81,
          24.52,
          20.76,
          31.71,
          7.25,
          31.85,
          16.82,
          32.9,
          17.89,
          14.48,
          34.63,
          34.65,
          23.33,
          45.35,
          23.17,
          40.55,
          20.69,
          30.46,
          23.1,
          15.69
         ]
        },
        {
         "jitter": 0.05,
         "legendgroup": "F",
         "line": {
          "color": "yellow"
         },
         "meanline": {
          "visible": true
         },
         "name": "F",
         "pointpos": 0.45,
         "points": "all",
         "scalegroup": "F",
         "scalemode": "count",
         "showlegend": true,
         "side": "positive",
         "type": "violin",
         "x": [
          "Sun",
          "Sun",
          "Sun",
          "Sun",
          "Sun",
          "Sun",
          "Sun",
          "Sun",
          "Sun",
          "Sun",
          "Sun",
          "Sun",
          "Sun",
          "Sun",
          "Sun",
          "Sun",
          "Sun",
          "Sun"
         ],
         "y": [
          16.99,
          24.59,
          35.26,
          14.83,
          10.33,
          16.97,
          10.29,
          34.81,
          25.71,
          17.31,
          29.85,
          25,
          13.39,
          16.21,
          17.51,
          9.6,
          20.9,
          18.15
         ]
        },
        {
         "jitter": 0.05,
         "legendgroup": "M",
         "line": {
          "color": "blue"
         },
         "meanline": {
          "visible": true
         },
         "name": "M",
         "pointpos": -1.1,
         "points": "all",
         "scalegroup": "M",
         "scalemode": "count",
         "showlegend": false,
         "side": "negative",
         "type": "violin",
         "x": [
          "Sat",
          "Sat",
          "Sat",
          "Sat",
          "Sat",
          "Sat",
          "Sat",
          "Sat",
          "Sat",
          "Sat",
          "Sat",
          "Sat",
          "Sat",
          "Sat",
          "Sat",
          "Sat",
          "Sat",
          "Sat",
          "Sat",
          "Sat",
          "Sat",
          "Sat",
          "Sat",
          "Sat",
          "Sat",
          "Sat",
          "Sat",
          "Sat",
          "Sat",
          "Sat",
          "Sat",
          "Sat",
          "Sat",
          "Sat",
          "Sat",
          "Sat",
          "Sat",
          "Sat",
          "Sat",
          "Sat",
          "Sat",
          "Sat",
          "Sat",
          "Sat",
          "Sat",
          "Sat",
          "Sat",
          "Sat",
          "Sat",
          "Sat",
          "Sat",
          "Sat",
          "Sat",
          "Sat",
          "Sat",
          "Sat",
          "Sat",
          "Sat",
          "Sat"
         ],
         "y": [
          20.65,
          17.92,
          39.42,
          19.82,
          17.81,
          13.37,
          12.69,
          21.7,
          9.55,
          18.35,
          17.78,
          24.06,
          16.31,
          18.69,
          31.27,
          16.04,
          38.01,
          11.24,
          48.27,
          20.29,
          13.81,
          11.02,
          18.29,
          17.59,
          20.08,
          20.23,
          15.01,
          12.02,
          10.51,
          17.92,
          15.36,
          20.49,
          25.21,
          18.24,
          14,
          50.81,
          15.81,
          26.59,
          38.73,
          24.27,
          30.06,
          25.89,
          48.33,
          28.15,
          11.59,
          7.74,
          20.45,
          13.28,
          24.01,
          15.69,
          11.61,
          10.77,
          15.53,
          10.07,
          12.6,
          32.83,
          29.03,
          22.67,
          17.82
         ]
        },
        {
         "jitter": 0.05,
         "legendgroup": "F",
         "line": {
          "color": "yellow"
         },
         "meanline": {
          "visible": true
         },
         "name": "F",
         "pointpos": 0.55,
         "points": "all",
         "scalegroup": "F",
         "scalemode": "count",
         "showlegend": false,
         "side": "positive",
         "type": "violin",
         "x": [
          "Sat",
          "Sat",
          "Sat",
          "Sat",
          "Sat",
          "Sat",
          "Sat",
          "Sat",
          "Sat",
          "Sat",
          "Sat",
          "Sat",
          "Sat",
          "Sat",
          "Sat",
          "Sat",
          "Sat",
          "Sat",
          "Sat",
          "Sat",
          "Sat",
          "Sat",
          "Sat",
          "Sat",
          "Sat",
          "Sat",
          "Sat",
          "Sat"
         ],
         "y": [
          20.29,
          15.77,
          19.65,
          15.06,
          20.69,
          16.93,
          26.41,
          16.45,
          3.07,
          17.07,
          26.86,
          25.28,
          14.73,
          44.3,
          22.42,
          20.92,
          14.31,
          7.25,
          10.59,
          10.63,
          12.76,
          13.27,
          28.17,
          12.9,
          30.14,
          22.12,
          35.83,
          27.18
         ]
        },
        {
         "jitter": 0.05,
         "legendgroup": "M",
         "line": {
          "color": "blue"
         },
         "meanline": {
          "visible": true
         },
         "name": "M",
         "pointpos": -0.6,
         "points": "all",
         "scalegroup": "M",
         "scalemode": "count",
         "showlegend": false,
         "side": "negative",
         "type": "violin",
         "x": [
          "Thur",
          "Thur",
          "Thur",
          "Thur",
          "Thur",
          "Thur",
          "Thur",
          "Thur",
          "Thur",
          "Thur",
          "Thur",
          "Thur",
          "Thur",
          "Thur",
          "Thur",
          "Thur",
          "Thur",
          "Thur",
          "Thur",
          "Thur",
          "Thur",
          "Thur",
          "Thur",
          "Thur",
          "Thur",
          "Thur",
          "Thur",
          "Thur",
          "Thur",
          "Thur"
         ],
         "y": [
          27.2,
          22.76,
          17.29,
          19.44,
          16.66,
          32.68,
          15.98,
          13.03,
          18.28,
          24.71,
          21.16,
          11.69,
          14.26,
          15.95,
          8.52,
          22.82,
          19.08,
          16,
          34.3,
          41.19,
          9.78,
          7.51,
          28.44,
          15.48,
          16.58,
          7.56,
          10.34,
          13.51,
          18.71,
          20.53
         ]
        },
        {
         "jitter": 0.05,
         "legendgroup": "F",
         "line": {
          "color": "yellow"
         },
         "meanline": {
          "visible": true
         },
         "name": "F",
         "pointpos": 1,
         "points": "all",
         "scalegroup": "F",
         "scalemode": "count",
         "showlegend": false,
         "side": "positive",
         "type": "violin",
         "x": [
          "Thur",
          "Thur",
          "Thur",
          "Thur",
          "Thur",
          "Thur",
          "Thur",
          "Thur",
          "Thur",
          "Thur",
          "Thur",
          "Thur",
          "Thur",
          "Thur",
          "Thur",
          "Thur",
          "Thur",
          "Thur",
          "Thur",
          "Thur",
          "Thur",
          "Thur",
          "Thur",
          "Thur",
          "Thur",
          "Thur",
          "Thur",
          "Thur",
          "Thur",
          "Thur",
          "Thur",
          "Thur"
         ],
         "y": [
          10.07,
          34.83,
          10.65,
          12.43,
          24.08,
          13.42,
          12.48,
          29.8,
          14.52,
          11.38,
          20.27,
          11.17,
          12.26,
          18.26,
          8.51,
          10.33,
          14.15,
          13.16,
          17.47,
          27.05,
          16.43,
          8.35,
          18.64,
          11.87,
          19.81,
          43.11,
          13,
          12.74,
          13,
          16.4,
          16.47,
          18.78
         ]
        },
        {
         "jitter": 0.05,
         "legendgroup": "M",
         "line": {
          "color": "blue"
         },
         "meanline": {
          "visible": true
         },
         "name": "M",
         "pointpos": -0.3,
         "points": "all",
         "scalegroup": "M",
         "scalemode": "count",
         "showlegend": false,
         "side": "negative",
         "type": "violin",
         "x": [
          "Fri",
          "Fri",
          "Fri",
          "Fri",
          "Fri",
          "Fri",
          "Fri",
          "Fri",
          "Fri",
          "Fri"
         ],
         "y": [
          28.97,
          22.49,
          40.17,
          27.28,
          12.03,
          21.01,
          12.46,
          12.16,
          8.58,
          13.42
         ]
        },
        {
         "jitter": 0.05,
         "legendgroup": "F",
         "line": {
          "color": "yellow"
         },
         "meanline": {
          "visible": true
         },
         "name": "F",
         "pointpos": 0.4,
         "points": "all",
         "scalegroup": "F",
         "scalemode": "count",
         "showlegend": false,
         "side": "positive",
         "type": "violin",
         "x": [
          "Fri",
          "Fri",
          "Fri",
          "Fri",
          "Fri",
          "Fri",
          "Fri",
          "Fri",
          "Fri"
         ],
         "y": [
          5.75,
          16.32,
          22.75,
          11.35,
          15.38,
          13.42,
          15.98,
          16.27,
          10.09
         ]
        }
       ],
       "layout": {
        "template": {
         "data": {
          "bar": [
           {
            "error_x": {
             "color": "#2a3f5f"
            },
            "error_y": {
             "color": "#2a3f5f"
            },
            "marker": {
             "line": {
              "color": "#E5ECF6",
              "width": 0.5
             }
            },
            "type": "bar"
           }
          ],
          "barpolar": [
           {
            "marker": {
             "line": {
              "color": "#E5ECF6",
              "width": 0.5
             }
            },
            "type": "barpolar"
           }
          ],
          "carpet": [
           {
            "aaxis": {
             "endlinecolor": "#2a3f5f",
             "gridcolor": "white",
             "linecolor": "white",
             "minorgridcolor": "white",
             "startlinecolor": "#2a3f5f"
            },
            "baxis": {
             "endlinecolor": "#2a3f5f",
             "gridcolor": "white",
             "linecolor": "white",
             "minorgridcolor": "white",
             "startlinecolor": "#2a3f5f"
            },
            "type": "carpet"
           }
          ],
          "choropleth": [
           {
            "colorbar": {
             "outlinewidth": 0,
             "ticks": ""
            },
            "type": "choropleth"
           }
          ],
          "contour": [
           {
            "colorbar": {
             "outlinewidth": 0,
             "ticks": ""
            },
            "colorscale": [
             [
              0,
              "#0d0887"
             ],
             [
              0.1111111111111111,
              "#46039f"
             ],
             [
              0.2222222222222222,
              "#7201a8"
             ],
             [
              0.3333333333333333,
              "#9c179e"
             ],
             [
              0.4444444444444444,
              "#bd3786"
             ],
             [
              0.5555555555555556,
              "#d8576b"
             ],
             [
              0.6666666666666666,
              "#ed7953"
             ],
             [
              0.7777777777777778,
              "#fb9f3a"
             ],
             [
              0.8888888888888888,
              "#fdca26"
             ],
             [
              1,
              "#f0f921"
             ]
            ],
            "type": "contour"
           }
          ],
          "contourcarpet": [
           {
            "colorbar": {
             "outlinewidth": 0,
             "ticks": ""
            },
            "type": "contourcarpet"
           }
          ],
          "heatmap": [
           {
            "colorbar": {
             "outlinewidth": 0,
             "ticks": ""
            },
            "colorscale": [
             [
              0,
              "#0d0887"
             ],
             [
              0.1111111111111111,
              "#46039f"
             ],
             [
              0.2222222222222222,
              "#7201a8"
             ],
             [
              0.3333333333333333,
              "#9c179e"
             ],
             [
              0.4444444444444444,
              "#bd3786"
             ],
             [
              0.5555555555555556,
              "#d8576b"
             ],
             [
              0.6666666666666666,
              "#ed7953"
             ],
             [
              0.7777777777777778,
              "#fb9f3a"
             ],
             [
              0.8888888888888888,
              "#fdca26"
             ],
             [
              1,
              "#f0f921"
             ]
            ],
            "type": "heatmap"
           }
          ],
          "heatmapgl": [
           {
            "colorbar": {
             "outlinewidth": 0,
             "ticks": ""
            },
            "colorscale": [
             [
              0,
              "#0d0887"
             ],
             [
              0.1111111111111111,
              "#46039f"
             ],
             [
              0.2222222222222222,
              "#7201a8"
             ],
             [
              0.3333333333333333,
              "#9c179e"
             ],
             [
              0.4444444444444444,
              "#bd3786"
             ],
             [
              0.5555555555555556,
              "#d8576b"
             ],
             [
              0.6666666666666666,
              "#ed7953"
             ],
             [
              0.7777777777777778,
              "#fb9f3a"
             ],
             [
              0.8888888888888888,
              "#fdca26"
             ],
             [
              1,
              "#f0f921"
             ]
            ],
            "type": "heatmapgl"
           }
          ],
          "histogram": [
           {
            "marker": {
             "colorbar": {
              "outlinewidth": 0,
              "ticks": ""
             }
            },
            "type": "histogram"
           }
          ],
          "histogram2d": [
           {
            "colorbar": {
             "outlinewidth": 0,
             "ticks": ""
            },
            "colorscale": [
             [
              0,
              "#0d0887"
             ],
             [
              0.1111111111111111,
              "#46039f"
             ],
             [
              0.2222222222222222,
              "#7201a8"
             ],
             [
              0.3333333333333333,
              "#9c179e"
             ],
             [
              0.4444444444444444,
              "#bd3786"
             ],
             [
              0.5555555555555556,
              "#d8576b"
             ],
             [
              0.6666666666666666,
              "#ed7953"
             ],
             [
              0.7777777777777778,
              "#fb9f3a"
             ],
             [
              0.8888888888888888,
              "#fdca26"
             ],
             [
              1,
              "#f0f921"
             ]
            ],
            "type": "histogram2d"
           }
          ],
          "histogram2dcontour": [
           {
            "colorbar": {
             "outlinewidth": 0,
             "ticks": ""
            },
            "colorscale": [
             [
              0,
              "#0d0887"
             ],
             [
              0.1111111111111111,
              "#46039f"
             ],
             [
              0.2222222222222222,
              "#7201a8"
             ],
             [
              0.3333333333333333,
              "#9c179e"
             ],
             [
              0.4444444444444444,
              "#bd3786"
             ],
             [
              0.5555555555555556,
              "#d8576b"
             ],
             [
              0.6666666666666666,
              "#ed7953"
             ],
             [
              0.7777777777777778,
              "#fb9f3a"
             ],
             [
              0.8888888888888888,
              "#fdca26"
             ],
             [
              1,
              "#f0f921"
             ]
            ],
            "type": "histogram2dcontour"
           }
          ],
          "mesh3d": [
           {
            "colorbar": {
             "outlinewidth": 0,
             "ticks": ""
            },
            "type": "mesh3d"
           }
          ],
          "parcoords": [
           {
            "line": {
             "colorbar": {
              "outlinewidth": 0,
              "ticks": ""
             }
            },
            "type": "parcoords"
           }
          ],
          "pie": [
           {
            "automargin": true,
            "type": "pie"
           }
          ],
          "scatter": [
           {
            "marker": {
             "colorbar": {
              "outlinewidth": 0,
              "ticks": ""
             }
            },
            "type": "scatter"
           }
          ],
          "scatter3d": [
           {
            "line": {
             "colorbar": {
              "outlinewidth": 0,
              "ticks": ""
             }
            },
            "marker": {
             "colorbar": {
              "outlinewidth": 0,
              "ticks": ""
             }
            },
            "type": "scatter3d"
           }
          ],
          "scattercarpet": [
           {
            "marker": {
             "colorbar": {
              "outlinewidth": 0,
              "ticks": ""
             }
            },
            "type": "scattercarpet"
           }
          ],
          "scattergeo": [
           {
            "marker": {
             "colorbar": {
              "outlinewidth": 0,
              "ticks": ""
             }
            },
            "type": "scattergeo"
           }
          ],
          "scattergl": [
           {
            "marker": {
             "colorbar": {
              "outlinewidth": 0,
              "ticks": ""
             }
            },
            "type": "scattergl"
           }
          ],
          "scattermapbox": [
           {
            "marker": {
             "colorbar": {
              "outlinewidth": 0,
              "ticks": ""
             }
            },
            "type": "scattermapbox"
           }
          ],
          "scatterpolar": [
           {
            "marker": {
             "colorbar": {
              "outlinewidth": 0,
              "ticks": ""
             }
            },
            "type": "scatterpolar"
           }
          ],
          "scatterpolargl": [
           {
            "marker": {
             "colorbar": {
              "outlinewidth": 0,
              "ticks": ""
             }
            },
            "type": "scatterpolargl"
           }
          ],
          "scatterternary": [
           {
            "marker": {
             "colorbar": {
              "outlinewidth": 0,
              "ticks": ""
             }
            },
            "type": "scatterternary"
           }
          ],
          "surface": [
           {
            "colorbar": {
             "outlinewidth": 0,
             "ticks": ""
            },
            "colorscale": [
             [
              0,
              "#0d0887"
             ],
             [
              0.1111111111111111,
              "#46039f"
             ],
             [
              0.2222222222222222,
              "#7201a8"
             ],
             [
              0.3333333333333333,
              "#9c179e"
             ],
             [
              0.4444444444444444,
              "#bd3786"
             ],
             [
              0.5555555555555556,
              "#d8576b"
             ],
             [
              0.6666666666666666,
              "#ed7953"
             ],
             [
              0.7777777777777778,
              "#fb9f3a"
             ],
             [
              0.8888888888888888,
              "#fdca26"
             ],
             [
              1,
              "#f0f921"
             ]
            ],
            "type": "surface"
           }
          ],
          "table": [
           {
            "cells": {
             "fill": {
              "color": "#EBF0F8"
             },
             "line": {
              "color": "white"
             }
            },
            "header": {
             "fill": {
              "color": "#C8D4E3"
             },
             "line": {
              "color": "white"
             }
            },
            "type": "table"
           }
          ]
         },
         "layout": {
          "annotationdefaults": {
           "arrowcolor": "#2a3f5f",
           "arrowhead": 0,
           "arrowwidth": 1
          },
          "coloraxis": {
           "colorbar": {
            "outlinewidth": 0,
            "ticks": ""
           }
          },
          "colorscale": {
           "diverging": [
            [
             0,
             "#8e0152"
            ],
            [
             0.1,
             "#c51b7d"
            ],
            [
             0.2,
             "#de77ae"
            ],
            [
             0.3,
             "#f1b6da"
            ],
            [
             0.4,
             "#fde0ef"
            ],
            [
             0.5,
             "#f7f7f7"
            ],
            [
             0.6,
             "#e6f5d0"
            ],
            [
             0.7,
             "#b8e186"
            ],
            [
             0.8,
             "#7fbc41"
            ],
            [
             0.9,
             "#4d9221"
            ],
            [
             1,
             "#276419"
            ]
           ],
           "sequential": [
            [
             0,
             "#0d0887"
            ],
            [
             0.1111111111111111,
             "#46039f"
            ],
            [
             0.2222222222222222,
             "#7201a8"
            ],
            [
             0.3333333333333333,
             "#9c179e"
            ],
            [
             0.4444444444444444,
             "#bd3786"
            ],
            [
             0.5555555555555556,
             "#d8576b"
            ],
            [
             0.6666666666666666,
             "#ed7953"
            ],
            [
             0.7777777777777778,
             "#fb9f3a"
            ],
            [
             0.8888888888888888,
             "#fdca26"
            ],
            [
             1,
             "#f0f921"
            ]
           ],
           "sequentialminus": [
            [
             0,
             "#0d0887"
            ],
            [
             0.1111111111111111,
             "#46039f"
            ],
            [
             0.2222222222222222,
             "#7201a8"
            ],
            [
             0.3333333333333333,
             "#9c179e"
            ],
            [
             0.4444444444444444,
             "#bd3786"
            ],
            [
             0.5555555555555556,
             "#d8576b"
            ],
            [
             0.6666666666666666,
             "#ed7953"
            ],
            [
             0.7777777777777778,
             "#fb9f3a"
            ],
            [
             0.8888888888888888,
             "#fdca26"
            ],
            [
             1,
             "#f0f921"
            ]
           ]
          },
          "colorway": [
           "#636efa",
           "#EF553B",
           "#00cc96",
           "#ab63fa",
           "#FFA15A",
           "#19d3f3",
           "#FF6692",
           "#B6E880",
           "#FF97FF",
           "#FECB52"
          ],
          "font": {
           "color": "#2a3f5f"
          },
          "geo": {
           "bgcolor": "white",
           "lakecolor": "white",
           "landcolor": "#E5ECF6",
           "showlakes": true,
           "showland": true,
           "subunitcolor": "white"
          },
          "hoverlabel": {
           "align": "left"
          },
          "hovermode": "closest",
          "mapbox": {
           "style": "light"
          },
          "paper_bgcolor": "white",
          "plot_bgcolor": "#E5ECF6",
          "polar": {
           "angularaxis": {
            "gridcolor": "white",
            "linecolor": "white",
            "ticks": ""
           },
           "bgcolor": "#E5ECF6",
           "radialaxis": {
            "gridcolor": "white",
            "linecolor": "white",
            "ticks": ""
           }
          },
          "scene": {
           "xaxis": {
            "backgroundcolor": "#E5ECF6",
            "gridcolor": "white",
            "gridwidth": 2,
            "linecolor": "white",
            "showbackground": true,
            "ticks": "",
            "zerolinecolor": "white"
           },
           "yaxis": {
            "backgroundcolor": "#E5ECF6",
            "gridcolor": "white",
            "gridwidth": 2,
            "linecolor": "white",
            "showbackground": true,
            "ticks": "",
            "zerolinecolor": "white"
           },
           "zaxis": {
            "backgroundcolor": "#E5ECF6",
            "gridcolor": "white",
            "gridwidth": 2,
            "linecolor": "white",
            "showbackground": true,
            "ticks": "",
            "zerolinecolor": "white"
           }
          },
          "shapedefaults": {
           "line": {
            "color": "#2a3f5f"
           }
          },
          "ternary": {
           "aaxis": {
            "gridcolor": "white",
            "linecolor": "white",
            "ticks": ""
           },
           "baxis": {
            "gridcolor": "white",
            "linecolor": "white",
            "ticks": ""
           },
           "bgcolor": "#E5ECF6",
           "caxis": {
            "gridcolor": "white",
            "linecolor": "white",
            "ticks": ""
           }
          },
          "title": {
           "x": 0.05
          },
          "xaxis": {
           "automargin": true,
           "gridcolor": "white",
           "linecolor": "white",
           "ticks": "",
           "title": {
            "standoff": 15
           },
           "zerolinecolor": "white",
           "zerolinewidth": 2
          },
          "yaxis": {
           "automargin": true,
           "gridcolor": "white",
           "linecolor": "white",
           "ticks": "",
           "title": {
            "standoff": 15
           },
           "zerolinecolor": "white",
           "zerolinewidth": 2
          }
         }
        },
        "title": {
         "text": "Total bill distribution<br><i>scaled by number of bills per gender"
        },
        "violingap": 0,
        "violingroupgap": 0,
        "violinmode": "overlay"
       }
      },
      "text/html": [
       "<div>\n",
       "        \n",
       "        \n",
       "            <div id=\"dedaf00b-3d35-4c30-bf90-27e24e07cd9f\" class=\"plotly-graph-div\" style=\"height:525px; width:100%;\"></div>\n",
       "            <script type=\"text/javascript\">\n",
       "                require([\"plotly\"], function(Plotly) {\n",
       "                    window.PLOTLYENV=window.PLOTLYENV || {};\n",
       "                    \n",
       "                if (document.getElementById(\"dedaf00b-3d35-4c30-bf90-27e24e07cd9f\")) {\n",
       "                    Plotly.newPlot(\n",
       "                        'dedaf00b-3d35-4c30-bf90-27e24e07cd9f',\n",
       "                        [{\"jitter\": 0.05, \"legendgroup\": \"M\", \"line\": {\"color\": \"blue\"}, \"meanline\": {\"visible\": true}, \"name\": \"M\", \"pointpos\": -0.9, \"points\": \"all\", \"scalegroup\": \"M\", \"scalemode\": \"count\", \"showlegend\": true, \"side\": \"negative\", \"type\": \"violin\", \"x\": [\"Sun\", \"Sun\", \"Sun\", \"Sun\", \"Sun\", \"Sun\", \"Sun\", \"Sun\", \"Sun\", \"Sun\", \"Sun\", \"Sun\", \"Sun\", \"Sun\", \"Sun\", \"Sun\", \"Sun\", \"Sun\", \"Sun\", \"Sun\", \"Sun\", \"Sun\", \"Sun\", \"Sun\", \"Sun\", \"Sun\", \"Sun\", \"Sun\", \"Sun\", \"Sun\", \"Sun\", \"Sun\", \"Sun\", \"Sun\", \"Sun\", \"Sun\", \"Sun\", \"Sun\", \"Sun\", \"Sun\", \"Sun\", \"Sun\", \"Sun\", \"Sun\", \"Sun\", \"Sun\", \"Sun\", \"Sun\", \"Sun\", \"Sun\", \"Sun\", \"Sun\", \"Sun\", \"Sun\", \"Sun\", \"Sun\", \"Sun\", \"Sun\"], \"y\": [10.34, 21.01, 23.68, 25.29, 8.77, 26.88, 15.04, 14.78, 10.27, 15.42, 18.43, 21.58, 16.29, 17.46, 13.94, 9.68, 30.4, 18.29, 22.23, 32.4, 28.55, 18.04, 12.54, 9.94, 25.56, 19.49, 38.07, 23.95, 29.93, 14.07, 13.13, 17.26, 24.55, 19.77, 48.17, 16.49, 21.5, 12.66, 13.81, 24.52, 20.76, 31.71, 7.25, 31.85, 16.82, 32.9, 17.89, 14.48, 34.63, 34.65, 23.33, 45.35, 23.17, 40.55, 20.69, 30.46, 23.1, 15.69]}, {\"jitter\": 0.05, \"legendgroup\": \"F\", \"line\": {\"color\": \"yellow\"}, \"meanline\": {\"visible\": true}, \"name\": \"F\", \"pointpos\": 0.45, \"points\": \"all\", \"scalegroup\": \"F\", \"scalemode\": \"count\", \"showlegend\": true, \"side\": \"positive\", \"type\": \"violin\", \"x\": [\"Sun\", \"Sun\", \"Sun\", \"Sun\", \"Sun\", \"Sun\", \"Sun\", \"Sun\", \"Sun\", \"Sun\", \"Sun\", \"Sun\", \"Sun\", \"Sun\", \"Sun\", \"Sun\", \"Sun\", \"Sun\"], \"y\": [16.99, 24.59, 35.26, 14.83, 10.33, 16.97, 10.29, 34.81, 25.71, 17.31, 29.85, 25.0, 13.39, 16.21, 17.51, 9.6, 20.9, 18.15]}, {\"jitter\": 0.05, \"legendgroup\": \"M\", \"line\": {\"color\": \"blue\"}, \"meanline\": {\"visible\": true}, \"name\": \"M\", \"pointpos\": -1.1, \"points\": \"all\", \"scalegroup\": \"M\", \"scalemode\": \"count\", \"showlegend\": false, \"side\": \"negative\", \"type\": \"violin\", \"x\": [\"Sat\", \"Sat\", \"Sat\", \"Sat\", \"Sat\", \"Sat\", \"Sat\", \"Sat\", \"Sat\", \"Sat\", \"Sat\", \"Sat\", \"Sat\", \"Sat\", \"Sat\", \"Sat\", \"Sat\", \"Sat\", \"Sat\", \"Sat\", \"Sat\", \"Sat\", \"Sat\", \"Sat\", \"Sat\", \"Sat\", \"Sat\", \"Sat\", \"Sat\", \"Sat\", \"Sat\", \"Sat\", \"Sat\", \"Sat\", \"Sat\", \"Sat\", \"Sat\", \"Sat\", \"Sat\", \"Sat\", \"Sat\", \"Sat\", \"Sat\", \"Sat\", \"Sat\", \"Sat\", \"Sat\", \"Sat\", \"Sat\", \"Sat\", \"Sat\", \"Sat\", \"Sat\", \"Sat\", \"Sat\", \"Sat\", \"Sat\", \"Sat\", \"Sat\"], \"y\": [20.65, 17.92, 39.42, 19.82, 17.81, 13.37, 12.69, 21.7, 9.55, 18.35, 17.78, 24.06, 16.31, 18.69, 31.27, 16.04, 38.01, 11.24, 48.27, 20.29, 13.81, 11.02, 18.29, 17.59, 20.08, 20.23, 15.01, 12.02, 10.51, 17.92, 15.36, 20.49, 25.21, 18.24, 14.0, 50.81, 15.81, 26.59, 38.73, 24.27, 30.06, 25.89, 48.33, 28.15, 11.59, 7.74, 20.45, 13.28, 24.01, 15.69, 11.61, 10.77, 15.53, 10.07, 12.6, 32.83, 29.03, 22.67, 17.82]}, {\"jitter\": 0.05, \"legendgroup\": \"F\", \"line\": {\"color\": \"yellow\"}, \"meanline\": {\"visible\": true}, \"name\": \"F\", \"pointpos\": 0.55, \"points\": \"all\", \"scalegroup\": \"F\", \"scalemode\": \"count\", \"showlegend\": false, \"side\": \"positive\", \"type\": \"violin\", \"x\": [\"Sat\", \"Sat\", \"Sat\", \"Sat\", \"Sat\", \"Sat\", \"Sat\", \"Sat\", \"Sat\", \"Sat\", \"Sat\", \"Sat\", \"Sat\", \"Sat\", \"Sat\", \"Sat\", \"Sat\", \"Sat\", \"Sat\", \"Sat\", \"Sat\", \"Sat\", \"Sat\", \"Sat\", \"Sat\", \"Sat\", \"Sat\", \"Sat\"], \"y\": [20.29, 15.77, 19.65, 15.06, 20.69, 16.93, 26.41, 16.45, 3.07, 17.07, 26.86, 25.28, 14.73, 44.3, 22.42, 20.92, 14.31, 7.25, 10.59, 10.63, 12.76, 13.27, 28.17, 12.9, 30.14, 22.12, 35.83, 27.18]}, {\"jitter\": 0.05, \"legendgroup\": \"M\", \"line\": {\"color\": \"blue\"}, \"meanline\": {\"visible\": true}, \"name\": \"M\", \"pointpos\": -0.6, \"points\": \"all\", \"scalegroup\": \"M\", \"scalemode\": \"count\", \"showlegend\": false, \"side\": \"negative\", \"type\": \"violin\", \"x\": [\"Thur\", \"Thur\", \"Thur\", \"Thur\", \"Thur\", \"Thur\", \"Thur\", \"Thur\", \"Thur\", \"Thur\", \"Thur\", \"Thur\", \"Thur\", \"Thur\", \"Thur\", \"Thur\", \"Thur\", \"Thur\", \"Thur\", \"Thur\", \"Thur\", \"Thur\", \"Thur\", \"Thur\", \"Thur\", \"Thur\", \"Thur\", \"Thur\", \"Thur\", \"Thur\"], \"y\": [27.2, 22.76, 17.29, 19.44, 16.66, 32.68, 15.98, 13.03, 18.28, 24.71, 21.16, 11.69, 14.26, 15.95, 8.52, 22.82, 19.08, 16.0, 34.3, 41.19, 9.78, 7.51, 28.44, 15.48, 16.58, 7.56, 10.34, 13.51, 18.71, 20.53]}, {\"jitter\": 0.05, \"legendgroup\": \"F\", \"line\": {\"color\": \"yellow\"}, \"meanline\": {\"visible\": true}, \"name\": \"F\", \"pointpos\": 1, \"points\": \"all\", \"scalegroup\": \"F\", \"scalemode\": \"count\", \"showlegend\": false, \"side\": \"positive\", \"type\": \"violin\", \"x\": [\"Thur\", \"Thur\", \"Thur\", \"Thur\", \"Thur\", \"Thur\", \"Thur\", \"Thur\", \"Thur\", \"Thur\", \"Thur\", \"Thur\", \"Thur\", \"Thur\", \"Thur\", \"Thur\", \"Thur\", \"Thur\", \"Thur\", \"Thur\", \"Thur\", \"Thur\", \"Thur\", \"Thur\", \"Thur\", \"Thur\", \"Thur\", \"Thur\", \"Thur\", \"Thur\", \"Thur\", \"Thur\"], \"y\": [10.07, 34.83, 10.65, 12.43, 24.08, 13.42, 12.48, 29.8, 14.52, 11.38, 20.27, 11.17, 12.26, 18.26, 8.51, 10.33, 14.15, 13.16, 17.47, 27.05, 16.43, 8.35, 18.64, 11.87, 19.81, 43.11, 13.0, 12.74, 13.0, 16.4, 16.47, 18.78]}, {\"jitter\": 0.05, \"legendgroup\": \"M\", \"line\": {\"color\": \"blue\"}, \"meanline\": {\"visible\": true}, \"name\": \"M\", \"pointpos\": -0.3, \"points\": \"all\", \"scalegroup\": \"M\", \"scalemode\": \"count\", \"showlegend\": false, \"side\": \"negative\", \"type\": \"violin\", \"x\": [\"Fri\", \"Fri\", \"Fri\", \"Fri\", \"Fri\", \"Fri\", \"Fri\", \"Fri\", \"Fri\", \"Fri\"], \"y\": [28.97, 22.49, 40.17, 27.28, 12.03, 21.01, 12.46, 12.16, 8.58, 13.42]}, {\"jitter\": 0.05, \"legendgroup\": \"F\", \"line\": {\"color\": \"yellow\"}, \"meanline\": {\"visible\": true}, \"name\": \"F\", \"pointpos\": 0.4, \"points\": \"all\", \"scalegroup\": \"F\", \"scalemode\": \"count\", \"showlegend\": false, \"side\": \"positive\", \"type\": \"violin\", \"x\": [\"Fri\", \"Fri\", \"Fri\", \"Fri\", \"Fri\", \"Fri\", \"Fri\", \"Fri\", \"Fri\"], \"y\": [5.75, 16.32, 22.75, 11.35, 15.38, 13.42, 15.98, 16.27, 10.09]}],\n",
       "                        {\"template\": {\"data\": {\"bar\": [{\"error_x\": {\"color\": \"#2a3f5f\"}, \"error_y\": {\"color\": \"#2a3f5f\"}, \"marker\": {\"line\": {\"color\": \"#E5ECF6\", \"width\": 0.5}}, \"type\": \"bar\"}], \"barpolar\": [{\"marker\": {\"line\": {\"color\": \"#E5ECF6\", \"width\": 0.5}}, \"type\": \"barpolar\"}], \"carpet\": [{\"aaxis\": {\"endlinecolor\": \"#2a3f5f\", \"gridcolor\": \"white\", \"linecolor\": \"white\", \"minorgridcolor\": \"white\", \"startlinecolor\": \"#2a3f5f\"}, \"baxis\": {\"endlinecolor\": \"#2a3f5f\", \"gridcolor\": \"white\", \"linecolor\": \"white\", \"minorgridcolor\": \"white\", \"startlinecolor\": \"#2a3f5f\"}, \"type\": \"carpet\"}], \"choropleth\": [{\"colorbar\": {\"outlinewidth\": 0, \"ticks\": \"\"}, \"type\": \"choropleth\"}], \"contour\": [{\"colorbar\": {\"outlinewidth\": 0, \"ticks\": \"\"}, \"colorscale\": [[0.0, \"#0d0887\"], [0.1111111111111111, \"#46039f\"], [0.2222222222222222, \"#7201a8\"], [0.3333333333333333, \"#9c179e\"], [0.4444444444444444, \"#bd3786\"], [0.5555555555555556, \"#d8576b\"], [0.6666666666666666, \"#ed7953\"], [0.7777777777777778, \"#fb9f3a\"], [0.8888888888888888, \"#fdca26\"], [1.0, \"#f0f921\"]], \"type\": \"contour\"}], \"contourcarpet\": [{\"colorbar\": {\"outlinewidth\": 0, \"ticks\": \"\"}, \"type\": \"contourcarpet\"}], \"heatmap\": [{\"colorbar\": {\"outlinewidth\": 0, \"ticks\": \"\"}, \"colorscale\": [[0.0, \"#0d0887\"], [0.1111111111111111, \"#46039f\"], [0.2222222222222222, \"#7201a8\"], [0.3333333333333333, \"#9c179e\"], [0.4444444444444444, \"#bd3786\"], [0.5555555555555556, \"#d8576b\"], [0.6666666666666666, \"#ed7953\"], [0.7777777777777778, \"#fb9f3a\"], [0.8888888888888888, \"#fdca26\"], [1.0, \"#f0f921\"]], \"type\": \"heatmap\"}], \"heatmapgl\": [{\"colorbar\": {\"outlinewidth\": 0, \"ticks\": \"\"}, \"colorscale\": [[0.0, \"#0d0887\"], [0.1111111111111111, \"#46039f\"], [0.2222222222222222, \"#7201a8\"], [0.3333333333333333, \"#9c179e\"], [0.4444444444444444, \"#bd3786\"], [0.5555555555555556, \"#d8576b\"], [0.6666666666666666, \"#ed7953\"], [0.7777777777777778, \"#fb9f3a\"], [0.8888888888888888, \"#fdca26\"], [1.0, \"#f0f921\"]], \"type\": \"heatmapgl\"}], \"histogram\": [{\"marker\": {\"colorbar\": {\"outlinewidth\": 0, \"ticks\": \"\"}}, \"type\": \"histogram\"}], \"histogram2d\": [{\"colorbar\": {\"outlinewidth\": 0, \"ticks\": \"\"}, \"colorscale\": [[0.0, \"#0d0887\"], [0.1111111111111111, \"#46039f\"], [0.2222222222222222, \"#7201a8\"], [0.3333333333333333, \"#9c179e\"], [0.4444444444444444, \"#bd3786\"], [0.5555555555555556, \"#d8576b\"], [0.6666666666666666, \"#ed7953\"], [0.7777777777777778, \"#fb9f3a\"], [0.8888888888888888, \"#fdca26\"], [1.0, \"#f0f921\"]], \"type\": \"histogram2d\"}], \"histogram2dcontour\": [{\"colorbar\": {\"outlinewidth\": 0, \"ticks\": \"\"}, \"colorscale\": [[0.0, \"#0d0887\"], [0.1111111111111111, \"#46039f\"], [0.2222222222222222, \"#7201a8\"], [0.3333333333333333, \"#9c179e\"], [0.4444444444444444, \"#bd3786\"], [0.5555555555555556, \"#d8576b\"], [0.6666666666666666, \"#ed7953\"], [0.7777777777777778, \"#fb9f3a\"], [0.8888888888888888, \"#fdca26\"], [1.0, \"#f0f921\"]], \"type\": \"histogram2dcontour\"}], \"mesh3d\": [{\"colorbar\": {\"outlinewidth\": 0, \"ticks\": \"\"}, \"type\": \"mesh3d\"}], \"parcoords\": [{\"line\": {\"colorbar\": {\"outlinewidth\": 0, \"ticks\": \"\"}}, \"type\": \"parcoords\"}], \"pie\": [{\"automargin\": true, \"type\": \"pie\"}], \"scatter\": [{\"marker\": {\"colorbar\": {\"outlinewidth\": 0, \"ticks\": \"\"}}, \"type\": \"scatter\"}], \"scatter3d\": [{\"line\": {\"colorbar\": {\"outlinewidth\": 0, \"ticks\": \"\"}}, \"marker\": {\"colorbar\": {\"outlinewidth\": 0, \"ticks\": \"\"}}, \"type\": \"scatter3d\"}], \"scattercarpet\": [{\"marker\": {\"colorbar\": {\"outlinewidth\": 0, \"ticks\": \"\"}}, \"type\": \"scattercarpet\"}], \"scattergeo\": [{\"marker\": {\"colorbar\": {\"outlinewidth\": 0, \"ticks\": \"\"}}, \"type\": \"scattergeo\"}], \"scattergl\": [{\"marker\": {\"colorbar\": {\"outlinewidth\": 0, \"ticks\": \"\"}}, \"type\": \"scattergl\"}], \"scattermapbox\": [{\"marker\": {\"colorbar\": {\"outlinewidth\": 0, \"ticks\": \"\"}}, \"type\": \"scattermapbox\"}], \"scatterpolar\": [{\"marker\": {\"colorbar\": {\"outlinewidth\": 0, \"ticks\": \"\"}}, \"type\": \"scatterpolar\"}], \"scatterpolargl\": [{\"marker\": {\"colorbar\": {\"outlinewidth\": 0, \"ticks\": \"\"}}, \"type\": \"scatterpolargl\"}], \"scatterternary\": [{\"marker\": {\"colorbar\": {\"outlinewidth\": 0, \"ticks\": \"\"}}, \"type\": \"scatterternary\"}], \"surface\": [{\"colorbar\": {\"outlinewidth\": 0, \"ticks\": \"\"}, \"colorscale\": [[0.0, \"#0d0887\"], [0.1111111111111111, \"#46039f\"], [0.2222222222222222, \"#7201a8\"], [0.3333333333333333, \"#9c179e\"], [0.4444444444444444, \"#bd3786\"], [0.5555555555555556, \"#d8576b\"], [0.6666666666666666, \"#ed7953\"], [0.7777777777777778, \"#fb9f3a\"], [0.8888888888888888, \"#fdca26\"], [1.0, \"#f0f921\"]], \"type\": \"surface\"}], \"table\": [{\"cells\": {\"fill\": {\"color\": \"#EBF0F8\"}, \"line\": {\"color\": \"white\"}}, \"header\": {\"fill\": {\"color\": \"#C8D4E3\"}, \"line\": {\"color\": \"white\"}}, \"type\": \"table\"}]}, \"layout\": {\"annotationdefaults\": {\"arrowcolor\": \"#2a3f5f\", \"arrowhead\": 0, \"arrowwidth\": 1}, \"coloraxis\": {\"colorbar\": {\"outlinewidth\": 0, \"ticks\": \"\"}}, \"colorscale\": {\"diverging\": [[0, \"#8e0152\"], [0.1, \"#c51b7d\"], [0.2, \"#de77ae\"], [0.3, \"#f1b6da\"], [0.4, \"#fde0ef\"], [0.5, \"#f7f7f7\"], [0.6, \"#e6f5d0\"], [0.7, \"#b8e186\"], [0.8, \"#7fbc41\"], [0.9, \"#4d9221\"], [1, \"#276419\"]], \"sequential\": [[0.0, \"#0d0887\"], [0.1111111111111111, \"#46039f\"], [0.2222222222222222, \"#7201a8\"], [0.3333333333333333, \"#9c179e\"], [0.4444444444444444, \"#bd3786\"], [0.5555555555555556, \"#d8576b\"], [0.6666666666666666, \"#ed7953\"], [0.7777777777777778, \"#fb9f3a\"], [0.8888888888888888, \"#fdca26\"], [1.0, \"#f0f921\"]], \"sequentialminus\": [[0.0, \"#0d0887\"], [0.1111111111111111, \"#46039f\"], [0.2222222222222222, \"#7201a8\"], [0.3333333333333333, \"#9c179e\"], [0.4444444444444444, \"#bd3786\"], [0.5555555555555556, \"#d8576b\"], [0.6666666666666666, \"#ed7953\"], [0.7777777777777778, \"#fb9f3a\"], [0.8888888888888888, \"#fdca26\"], [1.0, \"#f0f921\"]]}, \"colorway\": [\"#636efa\", \"#EF553B\", \"#00cc96\", \"#ab63fa\", \"#FFA15A\", \"#19d3f3\", \"#FF6692\", \"#B6E880\", \"#FF97FF\", \"#FECB52\"], \"font\": {\"color\": \"#2a3f5f\"}, \"geo\": {\"bgcolor\": \"white\", \"lakecolor\": \"white\", \"landcolor\": \"#E5ECF6\", \"showlakes\": true, \"showland\": true, \"subunitcolor\": \"white\"}, \"hoverlabel\": {\"align\": \"left\"}, \"hovermode\": \"closest\", \"mapbox\": {\"style\": \"light\"}, \"paper_bgcolor\": \"white\", \"plot_bgcolor\": \"#E5ECF6\", \"polar\": {\"angularaxis\": {\"gridcolor\": \"white\", \"linecolor\": \"white\", \"ticks\": \"\"}, \"bgcolor\": \"#E5ECF6\", \"radialaxis\": {\"gridcolor\": \"white\", \"linecolor\": \"white\", \"ticks\": \"\"}}, \"scene\": {\"xaxis\": {\"backgroundcolor\": \"#E5ECF6\", \"gridcolor\": \"white\", \"gridwidth\": 2, \"linecolor\": \"white\", \"showbackground\": true, \"ticks\": \"\", \"zerolinecolor\": \"white\"}, \"yaxis\": {\"backgroundcolor\": \"#E5ECF6\", \"gridcolor\": \"white\", \"gridwidth\": 2, \"linecolor\": \"white\", \"showbackground\": true, \"ticks\": \"\", \"zerolinecolor\": \"white\"}, \"zaxis\": {\"backgroundcolor\": \"#E5ECF6\", \"gridcolor\": \"white\", \"gridwidth\": 2, \"linecolor\": \"white\", \"showbackground\": true, \"ticks\": \"\", \"zerolinecolor\": \"white\"}}, \"shapedefaults\": {\"line\": {\"color\": \"#2a3f5f\"}}, \"ternary\": {\"aaxis\": {\"gridcolor\": \"white\", \"linecolor\": \"white\", \"ticks\": \"\"}, \"baxis\": {\"gridcolor\": \"white\", \"linecolor\": \"white\", \"ticks\": \"\"}, \"bgcolor\": \"#E5ECF6\", \"caxis\": {\"gridcolor\": \"white\", \"linecolor\": \"white\", \"ticks\": \"\"}}, \"title\": {\"x\": 0.05}, \"xaxis\": {\"automargin\": true, \"gridcolor\": \"white\", \"linecolor\": \"white\", \"ticks\": \"\", \"title\": {\"standoff\": 15}, \"zerolinecolor\": \"white\", \"zerolinewidth\": 2}, \"yaxis\": {\"automargin\": true, \"gridcolor\": \"white\", \"linecolor\": \"white\", \"ticks\": \"\", \"title\": {\"standoff\": 15}, \"zerolinecolor\": \"white\", \"zerolinewidth\": 2}}}, \"title\": {\"text\": \"Total bill distribution<br><i>scaled by number of bills per gender\"}, \"violingap\": 0, \"violingroupgap\": 0, \"violinmode\": \"overlay\"},\n",
       "                        {\"responsive\": true}\n",
       "                    ).then(function(){\n",
       "                            \n",
       "var gd = document.getElementById('dedaf00b-3d35-4c30-bf90-27e24e07cd9f');\n",
       "var x = new MutationObserver(function (mutations, observer) {{\n",
       "        var display = window.getComputedStyle(gd).display;\n",
       "        if (!display || display === 'none') {{\n",
       "            console.log([gd, 'removed!']);\n",
       "            Plotly.purge(gd);\n",
       "            observer.disconnect();\n",
       "        }}\n",
       "}});\n",
       "\n",
       "// Listen for the removal of the full notebook cells\n",
       "var notebookContainer = gd.closest('#notebook-container');\n",
       "if (notebookContainer) {{\n",
       "    x.observe(notebookContainer, {childList: true});\n",
       "}}\n",
       "\n",
       "// Listen for the clearing of the current output cell\n",
       "var outputEl = gd.closest('.output');\n",
       "if (outputEl) {{\n",
       "    x.observe(outputEl, {childList: true});\n",
       "}}\n",
       "\n",
       "                        })\n",
       "                };\n",
       "                });\n",
       "            </script>\n",
       "        </div>"
      ]
     },
     "metadata": {},
     "output_type": "display_data"
    }
   ],
   "source": [
    "\n",
    "df = pd.read_csv(\"https://raw.githubusercontent.com/plotly/datasets/master/violin_data.csv\")\n",
    "\n",
    "pointpos_male = [-0.9,-1.1,-0.6,-0.3]\n",
    "pointpos_female = [0.45,0.55,1,0.4]\n",
    "show_legend = [True,False,False,False]\n",
    "\n",
    "fig = go.Figure()\n",
    "\n",
    "for i in range(0,len(pd.unique(df['day']))):\n",
    "    fig.add_trace(go.Violin(x=df['day'][(df['sex'] == 'Male') &\n",
    "                                        (df['day'] == pd.unique(df['day'])[i])],\n",
    "                            y=df['total_bill'][(df['sex'] == 'Male')&\n",
    "                                               (df['day'] == pd.unique(df['day'])[i])],\n",
    "                            legendgroup='M', scalegroup='M', name='M',\n",
    "                            side='negative',\n",
    "                            pointpos=pointpos_male[i], # where to position points\n",
    "                            line_color='blue',\n",
    "                            showlegend=show_legend[i])\n",
    "             )\n",
    "    fig.add_trace(go.Violin(x=df['day'][(df['sex'] == 'Female') &\n",
    "                                        (df['day'] == pd.unique(df['day'])[i])],\n",
    "                            y=df['total_bill'][(df['sex'] == 'Female')&\n",
    "                                               (df['day'] == pd.unique(df['day'])[i])],\n",
    "                            legendgroup='F', scalegroup='F', name='F',\n",
    "                            side='positive',\n",
    "                            pointpos=pointpos_female[i],\n",
    "                            line_color='yellow',\n",
    "                            showlegend=show_legend[i])\n",
    "             )\n",
    "\n",
    "# update characteristics shared by all traces\n",
    "fig.update_traces(meanline_visible=True,\n",
    "                  points='all', # show all points\n",
    "                  jitter=0.05,  # add some jitter on points for better visibility\n",
    "                  scalemode='count') #scale violin plot area with total count\n",
    "fig.update_layout(\n",
    "    title_text=\"Total bill distribution<br><i>scaled by number of bills per gender\",\n",
    "    violingap=0, violingroupgap=0, violinmode='overlay')\n",
    "fig.show()"
   ]
  },
  {
   "cell_type": "code",
   "execution_count": null,
   "metadata": {},
   "outputs": [],
   "source": [
    "\n",
    "#in creating a function that auto generates traces?\n",
    "categorical_dimensions = ['body-style', 'drive-wheels', 'fuel-type']\n",
    "\n",
    "dimensions = [dict(values=cars_df[label], label=label) for label in categorical_dimensions]\n"
   ]
  },
  {
   "cell_type": "code",
   "execution_count": 28,
   "metadata": {},
   "outputs": [
    {
     "name": "stderr",
     "output_type": "stream",
     "text": [
      "C:\\Users\\blake\\Anaconda3\\lib\\site-packages\\plotly\\graph_objs\\_deprecations.py:40: DeprecationWarning:\n",
      "\n",
      "plotly.graph_objs.Data is deprecated.\n",
      "Please replace it with a list or tuple of instances of the following types\n",
      "  - plotly.graph_objs.Scatter\n",
      "  - plotly.graph_objs.Bar\n",
      "  - plotly.graph_objs.Area\n",
      "  - plotly.graph_objs.Histogram\n",
      "  - etc.\n",
      "\n",
      "\n"
     ]
    },
    {
     "ename": "PlotlyRequestError",
     "evalue": "Bad API key",
     "output_type": "error",
     "traceback": [
      "\u001b[1;31m---------------------------------------------------------------------------\u001b[0m",
      "\u001b[1;31mPlotlyRequestError\u001b[0m                        Traceback (most recent call last)",
      "\u001b[1;32m<ipython-input-28-0f213046aaf6>\u001b[0m in \u001b[0;36m<module>\u001b[1;34m\u001b[0m\n\u001b[0;32m     86\u001b[0m }\n\u001b[0;32m     87\u001b[0m \u001b[0mfig\u001b[0m \u001b[1;33m=\u001b[0m \u001b[0mFigure\u001b[0m\u001b[1;33m(\u001b[0m\u001b[0mdata\u001b[0m\u001b[1;33m=\u001b[0m\u001b[0mdata\u001b[0m\u001b[1;33m,\u001b[0m \u001b[0mlayout\u001b[0m\u001b[1;33m=\u001b[0m\u001b[0mlayout\u001b[0m\u001b[1;33m)\u001b[0m\u001b[1;33m\u001b[0m\u001b[1;33m\u001b[0m\u001b[0m\n\u001b[1;32m---> 88\u001b[1;33m \u001b[0mplot_url\u001b[0m \u001b[1;33m=\u001b[0m \u001b[0mpy\u001b[0m\u001b[1;33m.\u001b[0m\u001b[0mplot\u001b[0m\u001b[1;33m(\u001b[0m\u001b[0mfig\u001b[0m\u001b[1;33m)\u001b[0m\u001b[1;33m\u001b[0m\u001b[1;33m\u001b[0m\u001b[0m\n\u001b[0m",
      "\u001b[1;32m~\\Anaconda3\\lib\\site-packages\\chart_studio\\plotly\\plotly.py\u001b[0m in \u001b[0;36mplot\u001b[1;34m(figure_or_data, validate, **plot_options)\u001b[0m\n\u001b[0;32m    278\u001b[0m             \u001b[0mfilename\u001b[0m\u001b[1;33m=\u001b[0m\u001b[0mgrid_filename\u001b[0m\u001b[1;33m,\u001b[0m\u001b[1;33m\u001b[0m\u001b[1;33m\u001b[0m\u001b[0m\n\u001b[0;32m    279\u001b[0m             \u001b[0mworld_readable\u001b[0m\u001b[1;33m=\u001b[0m\u001b[0mpayload\u001b[0m\u001b[1;33m[\u001b[0m\u001b[1;34m\"world_readable\"\u001b[0m\u001b[1;33m]\u001b[0m\u001b[1;33m,\u001b[0m\u001b[1;33m\u001b[0m\u001b[1;33m\u001b[0m\u001b[0m\n\u001b[1;32m--> 280\u001b[1;33m             \u001b[0mauto_open\u001b[0m\u001b[1;33m=\u001b[0m\u001b[1;32mFalse\u001b[0m\u001b[1;33m,\u001b[0m\u001b[1;33m\u001b[0m\u001b[1;33m\u001b[0m\u001b[0m\n\u001b[0m\u001b[0;32m    281\u001b[0m         )\n\u001b[0;32m    282\u001b[0m \u001b[1;33m\u001b[0m\u001b[0m\n",
      "\u001b[1;32m~\\Anaconda3\\lib\\site-packages\\chart_studio\\plotly\\plotly.py\u001b[0m in \u001b[0;36mupload\u001b[1;34m(cls, grid, filename, world_readable, auto_open, meta)\u001b[0m\n\u001b[0;32m   1085\u001b[0m                 \u001b[0mpayload\u001b[0m\u001b[1;33m[\u001b[0m\u001b[1;34m\"parent_path\"\u001b[0m\u001b[1;33m]\u001b[0m \u001b[1;33m=\u001b[0m \u001b[0mparent_path\u001b[0m\u001b[1;33m\u001b[0m\u001b[1;33m\u001b[0m\u001b[0m\n\u001b[0;32m   1086\u001b[0m \u001b[1;33m\u001b[0m\u001b[0m\n\u001b[1;32m-> 1087\u001b[1;33m         \u001b[0mfile_info\u001b[0m \u001b[1;33m=\u001b[0m \u001b[0m_create_or_overwrite_grid\u001b[0m\u001b[1;33m(\u001b[0m\u001b[0mpayload\u001b[0m\u001b[1;33m)\u001b[0m\u001b[1;33m\u001b[0m\u001b[1;33m\u001b[0m\u001b[0m\n\u001b[0m\u001b[0;32m   1088\u001b[0m \u001b[1;33m\u001b[0m\u001b[0m\n\u001b[0;32m   1089\u001b[0m         \u001b[0mcols\u001b[0m \u001b[1;33m=\u001b[0m \u001b[0mfile_info\u001b[0m\u001b[1;33m[\u001b[0m\u001b[1;34m\"cols\"\u001b[0m\u001b[1;33m]\u001b[0m\u001b[1;33m\u001b[0m\u001b[1;33m\u001b[0m\u001b[0m\n",
      "\u001b[1;32m~\\Anaconda3\\lib\\site-packages\\chart_studio\\plotly\\plotly.py\u001b[0m in \u001b[0;36m_create_or_overwrite_grid\u001b[1;34m(data, max_retries)\u001b[0m\n\u001b[0;32m   1548\u001b[0m     \u001b[1;31m# Create file\u001b[0m\u001b[1;33m\u001b[0m\u001b[1;33m\u001b[0m\u001b[1;33m\u001b[0m\u001b[0m\n\u001b[0;32m   1549\u001b[0m     \u001b[1;32mtry\u001b[0m\u001b[1;33m:\u001b[0m\u001b[1;33m\u001b[0m\u001b[1;33m\u001b[0m\u001b[0m\n\u001b[1;32m-> 1550\u001b[1;33m         \u001b[0mres\u001b[0m \u001b[1;33m=\u001b[0m \u001b[0mapi_module\u001b[0m\u001b[1;33m.\u001b[0m\u001b[0mcreate\u001b[0m\u001b[1;33m(\u001b[0m\u001b[0mdata\u001b[0m\u001b[1;33m)\u001b[0m\u001b[1;33m\u001b[0m\u001b[1;33m\u001b[0m\u001b[0m\n\u001b[0m\u001b[0;32m   1551\u001b[0m     \u001b[1;32mexcept\u001b[0m \u001b[0mexceptions\u001b[0m\u001b[1;33m.\u001b[0m\u001b[0mPlotlyRequestError\u001b[0m \u001b[1;32mas\u001b[0m \u001b[0me\u001b[0m\u001b[1;33m:\u001b[0m\u001b[1;33m\u001b[0m\u001b[1;33m\u001b[0m\u001b[0m\n\u001b[0;32m   1552\u001b[0m         \u001b[1;32mif\u001b[0m \u001b[0mmax_retries\u001b[0m \u001b[1;33m>\u001b[0m \u001b[1;36m0\u001b[0m \u001b[1;32mand\u001b[0m \u001b[1;34m\"already exists\"\u001b[0m \u001b[1;32min\u001b[0m \u001b[0me\u001b[0m\u001b[1;33m.\u001b[0m\u001b[0mmessage\u001b[0m\u001b[1;33m:\u001b[0m\u001b[1;33m\u001b[0m\u001b[1;33m\u001b[0m\u001b[0m\n",
      "\u001b[1;32m~\\Anaconda3\\lib\\site-packages\\chart_studio\\api\\v2\\grids.py\u001b[0m in \u001b[0;36mcreate\u001b[1;34m(body)\u001b[0m\n\u001b[0;32m     16\u001b[0m     \"\"\"\n\u001b[0;32m     17\u001b[0m     \u001b[0murl\u001b[0m \u001b[1;33m=\u001b[0m \u001b[0mbuild_url\u001b[0m\u001b[1;33m(\u001b[0m\u001b[0mRESOURCE\u001b[0m\u001b[1;33m)\u001b[0m\u001b[1;33m\u001b[0m\u001b[1;33m\u001b[0m\u001b[0m\n\u001b[1;32m---> 18\u001b[1;33m     \u001b[1;32mreturn\u001b[0m \u001b[0mrequest\u001b[0m\u001b[1;33m(\u001b[0m\u001b[1;34m\"post\"\u001b[0m\u001b[1;33m,\u001b[0m \u001b[0murl\u001b[0m\u001b[1;33m,\u001b[0m \u001b[0mjson\u001b[0m\u001b[1;33m=\u001b[0m\u001b[0mbody\u001b[0m\u001b[1;33m)\u001b[0m\u001b[1;33m\u001b[0m\u001b[1;33m\u001b[0m\u001b[0m\n\u001b[0m\u001b[0;32m     19\u001b[0m \u001b[1;33m\u001b[0m\u001b[0m\n\u001b[0;32m     20\u001b[0m \u001b[1;33m\u001b[0m\u001b[0m\n",
      "\u001b[1;32m~\\Anaconda3\\lib\\site-packages\\retrying.py\u001b[0m in \u001b[0;36mwrapped_f\u001b[1;34m(*args, **kw)\u001b[0m\n\u001b[0;32m     47\u001b[0m             \u001b[1;33m@\u001b[0m\u001b[0msix\u001b[0m\u001b[1;33m.\u001b[0m\u001b[0mwraps\u001b[0m\u001b[1;33m(\u001b[0m\u001b[0mf\u001b[0m\u001b[1;33m)\u001b[0m\u001b[1;33m\u001b[0m\u001b[1;33m\u001b[0m\u001b[0m\n\u001b[0;32m     48\u001b[0m             \u001b[1;32mdef\u001b[0m \u001b[0mwrapped_f\u001b[0m\u001b[1;33m(\u001b[0m\u001b[1;33m*\u001b[0m\u001b[0margs\u001b[0m\u001b[1;33m,\u001b[0m \u001b[1;33m**\u001b[0m\u001b[0mkw\u001b[0m\u001b[1;33m)\u001b[0m\u001b[1;33m:\u001b[0m\u001b[1;33m\u001b[0m\u001b[1;33m\u001b[0m\u001b[0m\n\u001b[1;32m---> 49\u001b[1;33m                 \u001b[1;32mreturn\u001b[0m \u001b[0mRetrying\u001b[0m\u001b[1;33m(\u001b[0m\u001b[1;33m*\u001b[0m\u001b[0mdargs\u001b[0m\u001b[1;33m,\u001b[0m \u001b[1;33m**\u001b[0m\u001b[0mdkw\u001b[0m\u001b[1;33m)\u001b[0m\u001b[1;33m.\u001b[0m\u001b[0mcall\u001b[0m\u001b[1;33m(\u001b[0m\u001b[0mf\u001b[0m\u001b[1;33m,\u001b[0m \u001b[1;33m*\u001b[0m\u001b[0margs\u001b[0m\u001b[1;33m,\u001b[0m \u001b[1;33m**\u001b[0m\u001b[0mkw\u001b[0m\u001b[1;33m)\u001b[0m\u001b[1;33m\u001b[0m\u001b[1;33m\u001b[0m\u001b[0m\n\u001b[0m\u001b[0;32m     50\u001b[0m \u001b[1;33m\u001b[0m\u001b[0m\n\u001b[0;32m     51\u001b[0m             \u001b[1;32mreturn\u001b[0m \u001b[0mwrapped_f\u001b[0m\u001b[1;33m\u001b[0m\u001b[1;33m\u001b[0m\u001b[0m\n",
      "\u001b[1;32m~\\Anaconda3\\lib\\site-packages\\retrying.py\u001b[0m in \u001b[0;36mcall\u001b[1;34m(self, fn, *args, **kwargs)\u001b[0m\n\u001b[0;32m    204\u001b[0m \u001b[1;33m\u001b[0m\u001b[0m\n\u001b[0;32m    205\u001b[0m             \u001b[1;32mif\u001b[0m \u001b[1;32mnot\u001b[0m \u001b[0mself\u001b[0m\u001b[1;33m.\u001b[0m\u001b[0mshould_reject\u001b[0m\u001b[1;33m(\u001b[0m\u001b[0mattempt\u001b[0m\u001b[1;33m)\u001b[0m\u001b[1;33m:\u001b[0m\u001b[1;33m\u001b[0m\u001b[1;33m\u001b[0m\u001b[0m\n\u001b[1;32m--> 206\u001b[1;33m                 \u001b[1;32mreturn\u001b[0m \u001b[0mattempt\u001b[0m\u001b[1;33m.\u001b[0m\u001b[0mget\u001b[0m\u001b[1;33m(\u001b[0m\u001b[0mself\u001b[0m\u001b[1;33m.\u001b[0m\u001b[0m_wrap_exception\u001b[0m\u001b[1;33m)\u001b[0m\u001b[1;33m\u001b[0m\u001b[1;33m\u001b[0m\u001b[0m\n\u001b[0m\u001b[0;32m    207\u001b[0m \u001b[1;33m\u001b[0m\u001b[0m\n\u001b[0;32m    208\u001b[0m             \u001b[0mdelay_since_first_attempt_ms\u001b[0m \u001b[1;33m=\u001b[0m \u001b[0mint\u001b[0m\u001b[1;33m(\u001b[0m\u001b[0mround\u001b[0m\u001b[1;33m(\u001b[0m\u001b[0mtime\u001b[0m\u001b[1;33m.\u001b[0m\u001b[0mtime\u001b[0m\u001b[1;33m(\u001b[0m\u001b[1;33m)\u001b[0m \u001b[1;33m*\u001b[0m \u001b[1;36m1000\u001b[0m\u001b[1;33m)\u001b[0m\u001b[1;33m)\u001b[0m \u001b[1;33m-\u001b[0m \u001b[0mstart_time\u001b[0m\u001b[1;33m\u001b[0m\u001b[1;33m\u001b[0m\u001b[0m\n",
      "\u001b[1;32m~\\Anaconda3\\lib\\site-packages\\retrying.py\u001b[0m in \u001b[0;36mget\u001b[1;34m(self, wrap_exception)\u001b[0m\n\u001b[0;32m    245\u001b[0m                 \u001b[1;32mraise\u001b[0m \u001b[0mRetryError\u001b[0m\u001b[1;33m(\u001b[0m\u001b[0mself\u001b[0m\u001b[1;33m)\u001b[0m\u001b[1;33m\u001b[0m\u001b[1;33m\u001b[0m\u001b[0m\n\u001b[0;32m    246\u001b[0m             \u001b[1;32melse\u001b[0m\u001b[1;33m:\u001b[0m\u001b[1;33m\u001b[0m\u001b[1;33m\u001b[0m\u001b[0m\n\u001b[1;32m--> 247\u001b[1;33m                 \u001b[0msix\u001b[0m\u001b[1;33m.\u001b[0m\u001b[0mreraise\u001b[0m\u001b[1;33m(\u001b[0m\u001b[0mself\u001b[0m\u001b[1;33m.\u001b[0m\u001b[0mvalue\u001b[0m\u001b[1;33m[\u001b[0m\u001b[1;36m0\u001b[0m\u001b[1;33m]\u001b[0m\u001b[1;33m,\u001b[0m \u001b[0mself\u001b[0m\u001b[1;33m.\u001b[0m\u001b[0mvalue\u001b[0m\u001b[1;33m[\u001b[0m\u001b[1;36m1\u001b[0m\u001b[1;33m]\u001b[0m\u001b[1;33m,\u001b[0m \u001b[0mself\u001b[0m\u001b[1;33m.\u001b[0m\u001b[0mvalue\u001b[0m\u001b[1;33m[\u001b[0m\u001b[1;36m2\u001b[0m\u001b[1;33m]\u001b[0m\u001b[1;33m)\u001b[0m\u001b[1;33m\u001b[0m\u001b[1;33m\u001b[0m\u001b[0m\n\u001b[0m\u001b[0;32m    248\u001b[0m         \u001b[1;32melse\u001b[0m\u001b[1;33m:\u001b[0m\u001b[1;33m\u001b[0m\u001b[1;33m\u001b[0m\u001b[0m\n\u001b[0;32m    249\u001b[0m             \u001b[1;32mreturn\u001b[0m \u001b[0mself\u001b[0m\u001b[1;33m.\u001b[0m\u001b[0mvalue\u001b[0m\u001b[1;33m\u001b[0m\u001b[1;33m\u001b[0m\u001b[0m\n",
      "\u001b[1;32m~\\Anaconda3\\lib\\site-packages\\six.py\u001b[0m in \u001b[0;36mreraise\u001b[1;34m(tp, value, tb)\u001b[0m\n\u001b[0;32m    691\u001b[0m             \u001b[1;32mif\u001b[0m \u001b[0mvalue\u001b[0m\u001b[1;33m.\u001b[0m\u001b[0m__traceback__\u001b[0m \u001b[1;32mis\u001b[0m \u001b[1;32mnot\u001b[0m \u001b[0mtb\u001b[0m\u001b[1;33m:\u001b[0m\u001b[1;33m\u001b[0m\u001b[1;33m\u001b[0m\u001b[0m\n\u001b[0;32m    692\u001b[0m                 \u001b[1;32mraise\u001b[0m \u001b[0mvalue\u001b[0m\u001b[1;33m.\u001b[0m\u001b[0mwith_traceback\u001b[0m\u001b[1;33m(\u001b[0m\u001b[0mtb\u001b[0m\u001b[1;33m)\u001b[0m\u001b[1;33m\u001b[0m\u001b[1;33m\u001b[0m\u001b[0m\n\u001b[1;32m--> 693\u001b[1;33m             \u001b[1;32mraise\u001b[0m \u001b[0mvalue\u001b[0m\u001b[1;33m\u001b[0m\u001b[1;33m\u001b[0m\u001b[0m\n\u001b[0m\u001b[0;32m    694\u001b[0m         \u001b[1;32mfinally\u001b[0m\u001b[1;33m:\u001b[0m\u001b[1;33m\u001b[0m\u001b[1;33m\u001b[0m\u001b[0m\n\u001b[0;32m    695\u001b[0m             \u001b[0mvalue\u001b[0m \u001b[1;33m=\u001b[0m \u001b[1;32mNone\u001b[0m\u001b[1;33m\u001b[0m\u001b[1;33m\u001b[0m\u001b[0m\n",
      "\u001b[1;32m~\\Anaconda3\\lib\\site-packages\\retrying.py\u001b[0m in \u001b[0;36mcall\u001b[1;34m(self, fn, *args, **kwargs)\u001b[0m\n\u001b[0;32m    198\u001b[0m         \u001b[1;32mwhile\u001b[0m \u001b[1;32mTrue\u001b[0m\u001b[1;33m:\u001b[0m\u001b[1;33m\u001b[0m\u001b[1;33m\u001b[0m\u001b[0m\n\u001b[0;32m    199\u001b[0m             \u001b[1;32mtry\u001b[0m\u001b[1;33m:\u001b[0m\u001b[1;33m\u001b[0m\u001b[1;33m\u001b[0m\u001b[0m\n\u001b[1;32m--> 200\u001b[1;33m                 \u001b[0mattempt\u001b[0m \u001b[1;33m=\u001b[0m \u001b[0mAttempt\u001b[0m\u001b[1;33m(\u001b[0m\u001b[0mfn\u001b[0m\u001b[1;33m(\u001b[0m\u001b[1;33m*\u001b[0m\u001b[0margs\u001b[0m\u001b[1;33m,\u001b[0m \u001b[1;33m**\u001b[0m\u001b[0mkwargs\u001b[0m\u001b[1;33m)\u001b[0m\u001b[1;33m,\u001b[0m \u001b[0mattempt_number\u001b[0m\u001b[1;33m,\u001b[0m \u001b[1;32mFalse\u001b[0m\u001b[1;33m)\u001b[0m\u001b[1;33m\u001b[0m\u001b[1;33m\u001b[0m\u001b[0m\n\u001b[0m\u001b[0;32m    201\u001b[0m             \u001b[1;32mexcept\u001b[0m\u001b[1;33m:\u001b[0m\u001b[1;33m\u001b[0m\u001b[1;33m\u001b[0m\u001b[0m\n\u001b[0;32m    202\u001b[0m                 \u001b[0mtb\u001b[0m \u001b[1;33m=\u001b[0m \u001b[0msys\u001b[0m\u001b[1;33m.\u001b[0m\u001b[0mexc_info\u001b[0m\u001b[1;33m(\u001b[0m\u001b[1;33m)\u001b[0m\u001b[1;33m\u001b[0m\u001b[1;33m\u001b[0m\u001b[0m\n",
      "\u001b[1;32m~\\Anaconda3\\lib\\site-packages\\chart_studio\\api\\v2\\utils.py\u001b[0m in \u001b[0;36mrequest\u001b[1;34m(method, url, **kwargs)\u001b[0m\n\u001b[0;32m    178\u001b[0m         \u001b[0mcontent\u001b[0m \u001b[1;33m=\u001b[0m \u001b[0mresponse\u001b[0m\u001b[1;33m.\u001b[0m\u001b[0mcontent\u001b[0m \u001b[1;32mif\u001b[0m \u001b[0mresponse\u001b[0m \u001b[1;32melse\u001b[0m \u001b[1;34m\"No content\"\u001b[0m\u001b[1;33m\u001b[0m\u001b[1;33m\u001b[0m\u001b[0m\n\u001b[0;32m    179\u001b[0m         \u001b[1;32mraise\u001b[0m \u001b[0mexceptions\u001b[0m\u001b[1;33m.\u001b[0m\u001b[0mPlotlyRequestError\u001b[0m\u001b[1;33m(\u001b[0m\u001b[0mmessage\u001b[0m\u001b[1;33m,\u001b[0m \u001b[0mstatus_code\u001b[0m\u001b[1;33m,\u001b[0m \u001b[0mcontent\u001b[0m\u001b[1;33m)\u001b[0m\u001b[1;33m\u001b[0m\u001b[1;33m\u001b[0m\u001b[0m\n\u001b[1;32m--> 180\u001b[1;33m     \u001b[0mvalidate_response\u001b[0m\u001b[1;33m(\u001b[0m\u001b[0mresponse\u001b[0m\u001b[1;33m)\u001b[0m\u001b[1;33m\u001b[0m\u001b[1;33m\u001b[0m\u001b[0m\n\u001b[0m\u001b[0;32m    181\u001b[0m     \u001b[1;32mreturn\u001b[0m \u001b[0mresponse\u001b[0m\u001b[1;33m\u001b[0m\u001b[1;33m\u001b[0m\u001b[0m\n",
      "\u001b[1;32m~\\Anaconda3\\lib\\site-packages\\chart_studio\\api\\v2\\utils.py\u001b[0m in \u001b[0;36mvalidate_response\u001b[1;34m(response)\u001b[0m\n\u001b[0;32m     80\u001b[0m         \u001b[0mmessage\u001b[0m \u001b[1;33m=\u001b[0m \u001b[0mcontent\u001b[0m \u001b[1;32mif\u001b[0m \u001b[0mcontent\u001b[0m \u001b[1;32melse\u001b[0m \u001b[1;34m\"No Content\"\u001b[0m\u001b[1;33m\u001b[0m\u001b[1;33m\u001b[0m\u001b[0m\n\u001b[0;32m     81\u001b[0m \u001b[1;33m\u001b[0m\u001b[0m\n\u001b[1;32m---> 82\u001b[1;33m     \u001b[1;32mraise\u001b[0m \u001b[0mexceptions\u001b[0m\u001b[1;33m.\u001b[0m\u001b[0mPlotlyRequestError\u001b[0m\u001b[1;33m(\u001b[0m\u001b[0mmessage\u001b[0m\u001b[1;33m,\u001b[0m \u001b[0mstatus_code\u001b[0m\u001b[1;33m,\u001b[0m \u001b[0mcontent\u001b[0m\u001b[1;33m)\u001b[0m\u001b[1;33m\u001b[0m\u001b[1;33m\u001b[0m\u001b[0m\n\u001b[0m\u001b[0;32m     83\u001b[0m \u001b[1;33m\u001b[0m\u001b[0m\n\u001b[0;32m     84\u001b[0m \u001b[1;33m\u001b[0m\u001b[0m\n",
      "\u001b[1;31mPlotlyRequestError\u001b[0m: Bad API key"
     ]
    }
   ],
   "source": [
    "import chart_studio.plotly as py\n",
    "from plotly.graph_objs import *\n",
    "#py.sign_in('username', 'api_key')\n",
    "trace1 = {\n",
    "  \"uid\": \"b1cb09\", \n",
    "  \"name\": \"_Tnaa____10_Temp55_Mn10_Tnaa20_Gly20_DMSO15_TagTime5\", \n",
    "  \"x\": [0, 0.02127659574468085, 0.0425531914893617, 0.06382978723404255, 0.0851063829787234, 0.10638297872340426, 0.1276595744680851, 0.14893617021276595, 0.1702127659574468, 0.19148936170212766, 0.2127659574468085, 0.23404255319148937, 0.2553191489361702, 0.2765957446808511, 0.2978723404255319, 0.3191489361702128, 0.3404255319148936, 0.3617021276595745, 0.3829787234042553, 0.40425531914893614, 0.425531914893617, 0.44680851063829785, 0.46808510638297873, 0.48936170212765956, 0.5106382978723404, 0.5319148936170213, 0.5531914893617021, 0.574468085106383, 0.5957446808510638, 0.6170212765957447, 0.6382978723404256, 0.6595744680851063, 0.6808510638297872, 0.7021276595744681, 0.723404255319149, 0.7446808510638298, 0.7659574468085106, 0.7872340425531915, 0.8085106382978723, 0.8297872340425532, 0.851063829787234, 0.8723404255319149, 0.8936170212765957, 0.9148936170212766, 0.9361702127659575, 0.9574468085106383, 0.9787234042553191], \n",
    "  \"y\": [0, 0.0106458481192335, 0.0227111426543648, 0.0361958836053939, 0.050390347764371894, 0.06529453513129879, 0.0801987224982257, 0.09581263307310149, 0.11213626685592619, 0.12845990063875087, 0.14549325762952448, 0.16323633782824698, 0.18097941802696949, 0.1994322214336409, 0.21788502484031227, 0.23633782824698368, 0.255500354861604, 0.27466288147622425, 0.2945351312987935, 0.3144073811213627, 0.33498935415188075, 0.35557132718239887, 0.37686302342086586, 0.39815471965933286, 0.41944641589779985, 0.4414478353442158, 0.46344925479063165, 0.48616039744499645, 0.5088715400993612, 0.5322924059616749, 0.5557132718239887, 0.5798438608942512, 0.6039744499645139, 0.6288147622427254, 0.6536550745209369, 0.6792051100070973, 0.7047551454932577, 0.7310149041873669, 0.7579843860894251, 0.7849538679914834, 0.8126330731014905, 0.8410220014194464, 0.8701206529453513, 0.8999290276792051, 0.9311568488289567, 0.9638041163946061, 1]\n",
    "}\n",
    "trace2 = {\n",
    "  \"uid\": \"9ba442\", \n",
    "  \"name\": \"_Tnaa____11_Temp55_Mn1_Tnaa20_Gly20_DMSO15_TagTime5\", \n",
    "  \"x\": [0, 0.02127659574468085, 0.0425531914893617, 0.06382978723404255, 0.0851063829787234, 0.10638297872340426, 0.1276595744680851, 0.14893617021276595, 0.1702127659574468, 0.19148936170212766, 0.2127659574468085, 0.23404255319148937, 0.2553191489361702, 0.2765957446808511, 0.2978723404255319, 0.3191489361702128, 0.3404255319148936, 0.3617021276595745, 0.3829787234042553, 0.40425531914893614, 0.425531914893617, 0.44680851063829785, 0.46808510638297873, 0.48936170212765956, 0.5106382978723404, 0.5319148936170213, 0.5531914893617021, 0.574468085106383, 0.5957446808510638, 0.6170212765957447, 0.6382978723404256, 0.6595744680851063, 0.6808510638297872, 0.7021276595744681, 0.723404255319149, 0.7446808510638298, 0.7659574468085106, 0.7872340425531915, 0.8085106382978723, 0.8297872340425532, 0.851063829787234, 0.8723404255319149, 0.8936170212765957, 0.9148936170212766, 0.9361702127659575, 0.9574468085106383, 0.9787234042553191], \n",
    "  \"y\": [0, 0.008233532934131737, 0.017964071856287425, 0.02844311377245509, 0.040419161676646706, 0.0531437125748503, 0.06661676646706587, 0.08008982035928144, 0.09431137724550898, 0.1092814371257485, 0.12425149700598802, 0.13997005988023953, 0.156437125748503, 0.17290419161676646, 0.19011976047904192, 0.20733532934131738, 0.2252994011976048, 0.2432634730538922, 0.2619760479041916, 0.280688622754491, 0.3001497005988024, 0.3203592814371258, 0.3405688622754491, 0.3615269461077844, 0.38248502994011974, 0.4041916167664671, 0.4258982035928144, 0.44835329341317365, 0.4708083832335329, 0.4940119760479042, 0.5179640718562875, 0.5419161676646707, 0.5666167664670658, 0.5920658682634731, 0.6175149700598802, 0.6437125748502994, 0.6706586826347305, 0.6983532934131736, 0.7267964071856288, 0.7559880239520959, 0.7859281437125748, 0.8166167664670658, 0.8488023952095808, 0.8824850299401198, 0.9176646706586826, 0.9558383233532934, 1]\n",
    "}\n",
    "trace3 = {\n",
    "  \"uid\": \"ff06ab\", \n",
    "  \"name\": \"_Tnaa____12_Temp55_Mn0025_Tnaa20_Gly20_DMSO15_TagTime5\", \n",
    "  \"x\": [0, 0.02127659574468085, 0.0425531914893617, 0.06382978723404255, 0.0851063829787234, 0.10638297872340426, 0.1276595744680851, 0.14893617021276595, 0.1702127659574468, 0.19148936170212766, 0.2127659574468085, 0.23404255319148937, 0.2553191489361702, 0.2765957446808511, 0.2978723404255319, 0.3191489361702128, 0.3404255319148936, 0.3617021276595745, 0.3829787234042553, 0.40425531914893614, 0.425531914893617, 0.44680851063829785, 0.46808510638297873, 0.48936170212765956, 0.5106382978723404, 0.5319148936170213, 0.5531914893617021, 0.574468085106383, 0.5957446808510638, 0.6170212765957447, 0.6382978723404256, 0.6595744680851063, 0.6808510638297872, 0.7021276595744681, 0.723404255319149, 0.7446808510638298, 0.7659574468085106, 0.7872340425531915, 0.8085106382978723, 0.8297872340425532, 0.851063829787234, 0.8723404255319149, 0.8936170212765957, 0.9148936170212766, 0.9361702127659575, 0.9574468085106383, 0.9787234042553191], \n",
    "  \"y\": [0, 0.005502063273727648, 0.013067400275103164, 0.021320495185694635, 0.030949105914718018, 0.04126547455295736, 0.052269601100412656, 0.0639614855570839, 0.07634112792297111, 0.08940852819807428, 0.1031636863823934, 0.11691884456671252, 0.1313617606602476, 0.14649243466299863, 0.1623108665749656, 0.1781292984869326, 0.19463548830811556, 0.21182943603851445, 0.2297111416781293, 0.24759284731774414, 0.266162310866575, 0.28541953232462175, 0.3046767537826685, 0.3246217331499312, 0.3452544704264099, 0.36657496561210456, 0.3878954607977992, 0.40990371389270974, 0.4325997248968363, 0.45598349381017883, 0.48005502063273725, 0.5048143053645117, 0.5302613480055021, 0.5563961485557084, 0.5832187070151307, 0.6107290233837689, 0.6389270976616231, 0.6678129298486932, 0.6973865199449794, 0.7283356258596974, 0.7606602475928473, 0.7943603851444292, 0.8294360385144429, 0.8665749656121046, 0.905777166437414, 0.9491059147180193, 1]\n",
    "}\n",
    "trace4 = {\n",
    "  \"uid\": \"ba2ace\", \n",
    "  \"name\": \"_Tnaa____60_Temp37_Mn0025_Tnaa20_Gly20_DMSO15_TagTime5\", \n",
    "  \"x\": [0, 0.02127659574468085, 0.0425531914893617, 0.06382978723404255, 0.0851063829787234, 0.10638297872340426, 0.1276595744680851, 0.14893617021276595, 0.1702127659574468, 0.19148936170212766, 0.2127659574468085, 0.23404255319148937, 0.2553191489361702, 0.2765957446808511, 0.2978723404255319, 0.3191489361702128, 0.3404255319148936, 0.3617021276595745, 0.3829787234042553, 0.40425531914893614, 0.425531914893617, 0.44680851063829785, 0.46808510638297873, 0.48936170212765956, 0.5106382978723404, 0.5319148936170213, 0.5531914893617021, 0.574468085106383, 0.5957446808510638, 0.6170212765957447, 0.6382978723404256, 0.6595744680851063, 0.6808510638297872, 0.7021276595744681, 0.723404255319149, 0.7446808510638298, 0.7659574468085106, 0.7872340425531915, 0.8085106382978723, 0.8297872340425532, 0.851063829787234, 0.8723404255319149, 0.8936170212765957, 0.9148936170212766, 0.9361702127659575, 0.9574468085106383, 0.9787234042553191], \n",
    "  \"y\": [0, 0.006293706293706294, 0.013986013986013986, 0.023076923076923078, 0.032867132867132866, 0.043356643356643354, 0.05454545454545454, 0.06643356643356643, 0.07902097902097902, 0.09160839160839161, 0.1048951048951049, 0.11888111888111888, 0.13356643356643358, 0.14825174825174825, 0.16363636363636364, 0.1797202797202797, 0.1958041958041958, 0.2125874125874126, 0.23006993006993007, 0.24755244755244754, 0.26573426573426573, 0.2846153846153846, 0.3034965034965035, 0.3230769230769231, 0.34335664335664334, 0.36363636363636365, 0.38461538461538464, 0.4062937062937063, 0.4286713286713287, 0.45174825174825173, 0.47482517482517483, 0.4986013986013986, 0.5230769230769231, 0.5482517482517483, 0.5741258741258741, 0.6006993006993007, 0.6286713286713287, 0.6573426573426573, 0.6867132867132867, 0.7174825174825175, 0.7496503496503496, 0.7832167832167832, 0.8188811188811189, 0.8566433566433567, 0.8972027972027972, 0.9426573426573427, 1]\n",
    "}\n",
    "trace5 = {\n",
    "  \"uid\": \"222c53\", \n",
    "  \"name\": \"_Tnaa____70_Temp37_Mn0025_Tnaa20_Gly20_DMSO15_TagTime10\", \n",
    "  \"x\": [0, 0.02127659574468085, 0.0425531914893617, 0.06382978723404255, 0.0851063829787234, 0.10638297872340426, 0.1276595744680851, 0.14893617021276595, 0.1702127659574468, 0.19148936170212766, 0.2127659574468085, 0.23404255319148937, 0.2553191489361702, 0.2765957446808511, 0.2978723404255319, 0.3191489361702128, 0.3404255319148936, 0.3617021276595745, 0.3829787234042553, 0.40425531914893614, 0.425531914893617, 0.44680851063829785, 0.46808510638297873, 0.48936170212765956, 0.5106382978723404, 0.5319148936170213, 0.5531914893617021, 0.574468085106383, 0.5957446808510638, 0.6170212765957447, 0.6382978723404256, 0.6595744680851063, 0.6808510638297872, 0.7021276595744681, 0.723404255319149, 0.7446808510638298, 0.7659574468085106, 0.7872340425531915, 0.8085106382978723, 0.8297872340425532, 0.851063829787234, 0.8723404255319149, 0.8936170212765957, 0.9148936170212766, 0.9361702127659575, 0.9574468085106383, 0.9787234042553191], \n",
    "  \"y\": [0, 0.002044989775051125, 0.006816632583503749, 0.013633265167007498, 0.021813224267211998, 0.03135650988411725, 0.04158145875937287, 0.05248807089297887, 0.06475800954328562, 0.07770961145194274, 0.09134287661895024, 0.1056578050443081, 0.12065439672801637, 0.136332651670075, 0.1520109066121336, 0.1683708248125426, 0.18541240627130198, 0.20313565098841171, 0.22154055896387184, 0.23994546693933197, 0.25903203817314246, 0.27880027266530333, 0.2992501704158146, 0.3203817314246762, 0.34151329243353784, 0.36332651670074984, 0.3858214042263122, 0.40899795501022496, 0.4328561690524881, 0.4567143830947512, 0.4812542603953647, 0.5064758009543285, 0.5323790047716428, 0.5589638718473074, 0.5862304021813224, 0.6141785957736878, 0.6428084526244036, 0.6721199727334697, 0.7027948193592365, 0.7341513292433538, 0.7668711656441718, 0.8002726653033402, 0.8350374914792092, 0.8718473074301295, 0.9107021131561008, 0.9522835719154737, 1]\n",
    "}\n",
    "trace6 = {\n",
    "  \"uid\": \"737d34\", \n",
    "  \"name\": \"_Tnaa____78_Temp37_Mn0025_Tnaa20_Gly20_DMSO15_TagTime10\", \n",
    "  \"x\": [0, 0.02127659574468085, 0.0425531914893617, 0.06382978723404255, 0.0851063829787234, 0.10638297872340426, 0.1276595744680851, 0.14893617021276595, 0.1702127659574468, 0.19148936170212766, 0.2127659574468085, 0.23404255319148937, 0.2553191489361702, 0.2765957446808511, 0.2978723404255319, 0.3191489361702128, 0.3404255319148936, 0.3617021276595745, 0.3829787234042553, 0.40425531914893614, 0.425531914893617, 0.44680851063829785, 0.46808510638297873, 0.48936170212765956, 0.5106382978723404, 0.5319148936170213, 0.5531914893617021, 0.574468085106383, 0.5957446808510638, 0.6170212765957447, 0.6382978723404256, 0.6595744680851063, 0.6808510638297872, 0.7021276595744681, 0.723404255319149, 0.7446808510638298, 0.7659574468085106, 0.7872340425531915, 0.8085106382978723, 0.8297872340425532, 0.851063829787234, 0.8723404255319149, 0.8936170212765957, 0.9148936170212766, 0.9361702127659575, 0.9574468085106383, 0.9787234042553191], \n",
    "  \"y\": [0, 0.0006802721088435374, 0.003401360544217687, 0.00816326530612245, 0.014965986394557823, 0.02312925170068027, 0.03197278911564626, 0.04217687074829932, 0.053061224489795916, 0.06462585034013606, 0.07755102040816327, 0.09115646258503401, 0.1054421768707483, 0.12040816326530612, 0.1360544217687075, 0.1523809523809524, 0.16938775510204082, 0.18639455782312925, 0.20408163265306123, 0.22244897959183674, 0.24149659863945577, 0.2612244897959184, 0.2816326530612245, 0.30272108843537415, 0.3238095238095238, 0.345578231292517, 0.36802721088435375, 0.391156462585034, 0.41496598639455784, 0.43945578231292515, 0.46462585034013604, 0.49047619047619045, 0.5170068027210885, 0.54421768707483, 0.572108843537415, 0.6006802721088436, 0.6299319727891156, 0.6605442176870748, 0.6918367346938775, 0.7238095238095238, 0.7571428571428571, 0.7918367346938775, 0.827891156462585, 0.8659863945578231, 0.9061224489795918, 0.9496598639455782, 1]\n",
    "}\n",
    "trace7 = {\n",
    "  \"uid\": \"87c595\", \n",
    "  \"name\": \"_Tnaa____86_Temp55_Mn0025_Tnaa20_Gly20_DMSO15_TagTime5\", \n",
    "  \"x\": [0, 0.02127659574468085, 0.0425531914893617, 0.06382978723404255, 0.0851063829787234, 0.10638297872340426, 0.1276595744680851, 0.14893617021276595, 0.1702127659574468, 0.19148936170212766, 0.2127659574468085, 0.23404255319148937, 0.2553191489361702, 0.2765957446808511, 0.2978723404255319, 0.3191489361702128, 0.3404255319148936, 0.3617021276595745, 0.3829787234042553, 0.40425531914893614, 0.425531914893617, 0.44680851063829785, 0.46808510638297873, 0.48936170212765956, 0.5106382978723404, 0.5319148936170213, 0.5531914893617021, 0.574468085106383, 0.5957446808510638, 0.6170212765957447, 0.6382978723404256, 0.6595744680851063, 0.6808510638297872, 0.7021276595744681, 0.723404255319149, 0.7446808510638298, 0.7659574468085106, 0.7872340425531915, 0.8085106382978723, 0.8297872340425532, 0.851063829787234, 0.8723404255319149, 0.8936170212765957, 0.9148936170212766, 0.9361702127659575, 0.9574468085106383, 0.9787234042553191], \n",
    "  \"y\": [0, 0.0006811989100817438, 0.0027247956403269754, 0.006130790190735695, 0.010899182561307902, 0.0170299727520436, 0.023841961852861037, 0.03201634877384196, 0.04087193460490463, 0.05040871934604905, 0.060626702997275204, 0.07152588555858311, 0.0837874659400545, 0.09673024523160763, 0.11035422343324251, 0.12465940054495912, 0.1396457765667575, 0.1553133514986376, 0.17166212534059946, 0.18869209809264306, 0.2064032697547684, 0.22479564032697547, 0.2438692098092643, 0.26362397820163486, 0.2840599455040872, 0.30517711171662126, 0.32697547683923706, 0.34945504087193463, 0.3726158038147139, 0.39645776566757496, 0.42166212534059944, 0.4475476839237057, 0.47411444141689374, 0.5013623978201635, 0.5299727520435967, 0.5592643051771117, 0.5899182561307902, 0.6219346049046321, 0.6546321525885559, 0.6886920980926431, 0.7247956403269755, 0.7622615803814714, 0.8017711171662125, 0.8440054495912807, 0.8896457765667575, 0.9393732970027248, 1]\n",
    "}\n",
    "trace8 = {\n",
    "  \"uid\": \"e0605e\", \n",
    "  \"name\": \"_Tnaa____94_Temp55_Mn10_Tnaa20_Gly20_DMSO15_TagTime5\", \n",
    "  \"x\": [0, 0.02127659574468085, 0.0425531914893617, 0.06382978723404255, 0.0851063829787234, 0.10638297872340426, 0.1276595744680851, 0.14893617021276595, 0.1702127659574468, 0.19148936170212766, 0.2127659574468085, 0.23404255319148937, 0.2553191489361702, 0.2765957446808511, 0.2978723404255319, 0.3191489361702128, 0.3404255319148936, 0.3617021276595745, 0.3829787234042553, 0.40425531914893614, 0.425531914893617, 0.44680851063829785, 0.46808510638297873, 0.48936170212765956, 0.5106382978723404, 0.5319148936170213, 0.5531914893617021, 0.574468085106383, 0.5957446808510638, 0.6170212765957447, 0.6382978723404256, 0.6595744680851063, 0.6808510638297872, 0.7021276595744681, 0.723404255319149, 0.7446808510638298, 0.7659574468085106, 0.7872340425531915, 0.8085106382978723, 0.8297872340425532, 0.851063829787234, 0.8723404255319149, 0.8936170212765957, 0.9148936170212766, 0.9361702127659575, 0.9574468085106383, 0.9787234042553191], \n",
    "  \"y\": [0, 0.011004126547455296, 0.024071526822558458, 0.03782668500687758, 0.052269601100412656, 0.06740027510316368, 0.08321870701513068, 0.09972489683631362, 0.11623108665749655, 0.13342503438789546, 0.15061898211829436, 0.16850068775790922, 0.18638239339752408, 0.20495185694635487, 0.2235213204951857, 0.24277854195323245, 0.2620357634112792, 0.28198074277854196, 0.30192572214580465, 0.3218707015130674, 0.3425034387895461, 0.3631361760660248, 0.3844566712517194, 0.405777166437414, 0.4270976616231087, 0.44910591471801925, 0.47111416781292986, 0.4938101788170564, 0.5165061898211829, 0.5392022008253095, 0.562585969738652, 0.5859697386519945, 0.610041265474553, 0.6341127922971114, 0.6588720770288858, 0.6836313617606602, 0.7090784044016506, 0.7352132049518569, 0.7613480055020633, 0.7881705639614855, 0.8156808803301238, 0.843878954607978, 0.8727647867950481, 0.9023383768913342, 0.9325997248968363, 0.9649243466299863, 1]\n",
    "}\n",
    "trace9 = {\n",
    "  \"uid\": \"84698a\", \n",
    "  \"name\": \"_Tnaa____97_06X_Cleanup\", \n",
    "  \"x\": [0, 0.02127659574468085, 0.0425531914893617, 0.06382978723404255, 0.0851063829787234, 0.10638297872340426, 0.1276595744680851, 0.14893617021276595, 0.1702127659574468, 0.19148936170212766, 0.2127659574468085, 0.23404255319148937, 0.2553191489361702, 0.2765957446808511, 0.2978723404255319, 0.3191489361702128, 0.3404255319148936, 0.3617021276595745, 0.3829787234042553, 0.40425531914893614, 0.425531914893617, 0.44680851063829785, 0.46808510638297873, 0.48936170212765956, 0.5106382978723404, 0.5319148936170213, 0.5531914893617021, 0.574468085106383, 0.5957446808510638, 0.6170212765957447, 0.6382978723404256, 0.6595744680851063, 0.6808510638297872, 0.7021276595744681, 0.723404255319149, 0.7446808510638298, 0.7659574468085106, 0.7872340425531915, 0.8085106382978723, 0.8297872340425532, 0.851063829787234, 0.8723404255319149, 0.8936170212765957, 0.9148936170212766, 0.9361702127659575, 0.9574468085106383, 0.9787234042553191], \n",
    "  \"y\": [0, 0.009569377990430622, 0.021189336978810664, 0.03349282296650718, 0.047163362952836636, 0.06151742993848257, 0.07655502392344497, 0.09159261790840738, 0.10731373889268626, 0.12371838687628162, 0.14080656185919344, 0.15789473684210525, 0.17566643882433355, 0.19343814080656185, 0.21189336978810663, 0.2303485987696514, 0.24948735475051265, 0.2686261107313739, 0.2884483937115516, 0.3082706766917293, 0.3287764866712235, 0.3492822966507177, 0.37047163362952834, 0.39166097060833904, 0.41353383458646614, 0.4354066985645933, 0.45727956254272045, 0.47983595352016406, 0.5023923444976076, 0.5256322624743678, 0.5488721804511278, 0.5727956254272044, 0.5974025974025974, 0.6220095693779905, 0.6473000683526999, 0.6725905673274094, 0.6985645933014354, 0.7252221462747779, 0.7525632262474368, 0.7799043062200957, 0.807928913192071, 0.836637047163363, 0.8660287081339713, 0.8967874231032126, 0.9289131920710868, 0.9624060150375939, 1]\n",
    "}\n",
    "trace10 = {\n",
    "  \"uid\": \"90ab8d\", \n",
    "  \"name\": \"_Tnaa____98_08X_Cleanup\", \n",
    "  \"x\": [0, 0.02127659574468085, 0.0425531914893617, 0.06382978723404255, 0.0851063829787234, 0.10638297872340426, 0.1276595744680851, 0.14893617021276595, 0.1702127659574468, 0.19148936170212766, 0.2127659574468085, 0.23404255319148937, 0.2553191489361702, 0.2765957446808511, 0.2978723404255319, 0.3191489361702128, 0.3404255319148936, 0.3617021276595745, 0.3829787234042553, 0.40425531914893614, 0.425531914893617, 0.44680851063829785, 0.46808510638297873, 0.48936170212765956, 0.5106382978723404, 0.5319148936170213, 0.5531914893617021, 0.574468085106383, 0.5957446808510638, 0.6170212765957447, 0.6382978723404256, 0.6595744680851063, 0.6808510638297872, 0.7021276595744681, 0.723404255319149, 0.7446808510638298, 0.7659574468085106, 0.7872340425531915, 0.8085106382978723, 0.8297872340425532, 0.851063829787234, 0.8723404255319149, 0.8936170212765957, 0.9148936170212766, 0.9361702127659575, 0.9574468085106383, 0.9787234042553191], \n",
    "  \"y\": [0, 0.009569377990430622, 0.021189336978810664, 0.03349282296650718, 0.047163362952836636, 0.06151742993848257, 0.07655502392344497, 0.09159261790840738, 0.10731373889268626, 0.12371838687628162, 0.14012303485987695, 0.1572112098427888, 0.1749829118250171, 0.19275461380724537, 0.21120984278879015, 0.22966507177033493, 0.24880382775119617, 0.2679425837320574, 0.2877648667122351, 0.30758714969241285, 0.32809295967190705, 0.34859876965140124, 0.3697881066302119, 0.39097744360902253, 0.41216678058783324, 0.43403964456596034, 0.4559125085440875, 0.4784688995215311, 0.5010252904989747, 0.5242652084757348, 0.5475051264524948, 0.5714285714285714, 0.5960355434039645, 0.6206425153793574, 0.645933014354067, 0.6712235133287765, 0.6971975393028025, 0.7238550922761449, 0.7511961722488039, 0.7785372522214627, 0.8065618591934381, 0.83526999316473, 0.8653451811346549, 0.8961038961038961, 0.9282296650717703, 0.9624060150375939, 1]\n",
    "}\n",
    "trace11 = {\n",
    "  \"uid\": \"5db99d\", \n",
    "  \"name\": \"_Tnaa____99_1ng_input_amped\", \n",
    "  \"x\": [0, 0.02127659574468085, 0.0425531914893617, 0.06382978723404255, 0.0851063829787234, 0.10638297872340426, 0.1276595744680851, 0.14893617021276595, 0.1702127659574468, 0.19148936170212766, 0.2127659574468085, 0.23404255319148937, 0.2553191489361702, 0.2765957446808511, 0.2978723404255319, 0.3191489361702128, 0.3404255319148936, 0.3617021276595745, 0.3829787234042553, 0.40425531914893614, 0.425531914893617, 0.44680851063829785, 0.46808510638297873, 0.48936170212765956, 0.5106382978723404, 0.5319148936170213, 0.5531914893617021, 0.574468085106383, 0.5957446808510638, 0.6170212765957447, 0.6382978723404256, 0.6595744680851063, 0.6808510638297872, 0.7021276595744681, 0.723404255319149, 0.7446808510638298, 0.7659574468085106, 0.7872340425531915, 0.8085106382978723, 0.8297872340425532, 0.851063829787234, 0.8723404255319149, 0.8936170212765957, 0.9148936170212766, 0.9361702127659575, 0.9574468085106383, 0.9787234042553191], \n",
    "  \"y\": [0, 0.011821974965229486, 0.02573018080667594, 0.04033379694019471, 0.055632823365785816, 0.07162726008344923, 0.08762169680111266, 0.1043115438108484, 0.12169680111265646, 0.13908205841446453, 0.1571627260083449, 0.17524339360222532, 0.1933240611961057, 0.2121001390820584, 0.23087621696801114, 0.25034770514603616, 0.2698191933240612, 0.2899860917941586, 0.3101529902642559, 0.33031988873435325, 0.35118219749652296, 0.3720445062586926, 0.39290681502086233, 0.4144645340751043, 0.43602225312934634, 0.4575799721835883, 0.47983310152990266, 0.502086230876217, 0.5250347705146036, 0.5479833101529903, 0.5709318497913769, 0.5945757997218358, 0.6182197496522949, 0.6425591098748261, 0.6668984700973575, 0.691933240611961, 0.7169680111265647, 0.7426981919332406, 0.7684283727399166, 0.7948539638386648, 0.8219749652294854, 0.849095966620306, 0.8769123783031989, 0.9054242002781642, 0.935326842837274, 0.9666203059805285, 1]\n",
    "}\n",
    "data = Data([trace1, trace2, trace3, trace4, trace5, trace6, trace7, trace8, trace9, trace10, trace11])\n",
    "layout = {\n",
    "  \"title\": \"<b>Lorenz Curve</b>\", \n",
    "  \"width\": 1274, \n",
    "  \"xaxis\": {\n",
    "    \"type\": \"linear\", \n",
    "    \"range\": [0, 1], \n",
    "    \"title\": \"<b>Cumulative Fraction of Total Target</b>\"\n",
    "  }, \n",
    "  \"yaxis\": {\n",
    "    \"type\": \"linear\", \n",
    "    \"range\": [0, 1], \n",
    "    \"title\": \"<b>Cumulative Fraction per Base Depth</b>\"\n",
    "  }, \n",
    "  \"height\": 632, \n",
    "  \"autosize\": True\n",
    "}\n",
    "fig = Figure(data=data, layout=layout)\n",
    "plot_url = py.plot(fig)"
   ]
  },
  {
   "cell_type": "code",
   "execution_count": null,
   "metadata": {},
   "outputs": [],
   "source": []
  },
  {
   "cell_type": "code",
   "execution_count": null,
   "metadata": {},
   "outputs": [],
   "source": []
  }
 ],
 "metadata": {
  "kernelspec": {
   "display_name": "Python 3",
   "language": "python",
   "name": "python3"
  },
  "language_info": {
   "codemirror_mode": {
    "name": "ipython",
    "version": 3
   },
   "file_extension": ".py",
   "mimetype": "text/x-python",
   "name": "python",
   "nbconvert_exporter": "python",
   "pygments_lexer": "ipython3",
   "version": "3.7.3"
  }
 },
 "nbformat": 4,
 "nbformat_minor": 2
}
